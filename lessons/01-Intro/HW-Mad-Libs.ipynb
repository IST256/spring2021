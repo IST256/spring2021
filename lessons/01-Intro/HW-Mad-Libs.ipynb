{
 "cells": [
  {
   "cell_type": "markdown",
   "metadata": {},
   "source": [
    "# Homework: Mad Libs!\n",
    "\n",
    "## The Problem\n",
    "\n",
    "Write a Python program which creates your own unique Mad-Libs! story. This is very similar to the example in large group only it should be your own unique story. \n",
    "\n",
    "If you are not familar with a Mad-Libs! stories, check out:\n",
    "http://www.madlibs.com and http://www.madtakes.com\n",
    "\n",
    "Your story should take at least 5 inputs, and should include more than\n",
    "once sentence.\n",
    "\n",
    "### Tips\n",
    "\n",
    "Don't forget the exercises and problem solving approaches we learned in small group. For additional advice, please checkout the content page for the topic on [http://ist256.com/](http://ist256.com/).\n"
   ]
  },
  {
   "cell_type": "markdown",
   "metadata": {},
   "source": [
    "## Step 1: Problem Analysis\n",
    "\n",
    "\n",
    "Inputs:\n",
    "\n",
    "Outputs:\n",
    "\n",
    "Algorithm (Steps in Program):\n",
    "\n"
   ]
  },
  {
   "cell_type": "code",
   "execution_count": null,
   "metadata": {},
   "outputs": [],
   "source": [
    "# Step 2: Write code here\n"
   ]
  },
  {
   "cell_type": "markdown",
   "metadata": {},
   "source": [
    "## Step 3: Questions\n",
    "\n",
    "1. What happens when neglect to follow the instructions and enter any inputs we desire? Does the code still run? Why?\n",
    "\n",
    "`--== Double-Click and Write Your Answer Below Here ==--`  \n",
    "\n",
    "\n",
    "2. What type of error occurs when the program runs but does not handle bad input?\n",
    "\n",
    "`--== Double-Click and Write Your Answer Below Here ==--`  \n",
    "\n",
    "\n",
    "3. Is there anything you can do in code to correct this type of error? Why or why not?\n",
    "\n",
    "`--== Double-Click and Write Your Answer Below Here ==--`  \n",
    "\n"
   ]
  },
  {
   "cell_type": "markdown",
   "metadata": {},
   "source": [
    "## Step 4: Reflection\n",
    "\n",
    "Reflect upon your experience completing this assignment. This should be a personal narrative, in your own voice, and cite specifics relevant to the activity as to help the grader understand how you arrived at the code you submitted. Things to consider touching upon: Elaborate on the process itself. Did your original problem analysis work as designed?  How many iterations did you go through before you arrived at the solution? Where did you struggle along the way and how did you overcome it? What did you learn from completing the assignment? What do you need to work on to get better? What was most valuable and least valuable about this exercise? Do you have any suggestions for improvements?\n",
    "\n",
    "To make a good reflection, you should journal your thoughts, questions and comments while you complete the exercise.\n",
    "\n",
    "Keep your response to between 100 and 250 words.\n",
    "\n",
    "`--== Double-Click and Write Your Reflection Below Here ==--`  \n"
   ]
  },
  {
   "cell_type": "code",
   "execution_count": null,
   "metadata": {},
   "outputs": [],
   "source": [
    "# run this code to turn in your work!\n",
    "from coursetools.submission import Submission\n",
    "Submission().submit()"
   ]
  },
  {
   "cell_type": "code",
   "execution_count": null,
   "metadata": {},
   "outputs": [],
   "source": []
  }
 ],
 "metadata": {
  "anaconda-cloud": {},
  "kernelspec": {
   "display_name": "Python 3",
   "language": "python",
   "name": "python3"
  },
  "language_info": {
   "codemirror_mode": {
    "name": "ipython",
    "version": 3
   },
   "file_extension": ".py",
   "mimetype": "text/x-python",
   "name": "python",
   "nbconvert_exporter": "python",
   "pygments_lexer": "ipython3",
   "version": "3.8.6"
  },
  "toc": {
   "base_numbering": 1,
   "nav_menu": {},
   "number_sections": false,
   "sideBar": false,
   "skip_h1_title": false,
   "title_cell": "Table of Contents",
   "title_sidebar": "Contents",
   "toc_cell": false,
   "toc_position": {},
   "toc_section_display": false,
   "toc_window_display": false
  }
 },
 "nbformat": 4,
 "nbformat_minor": 4
}
