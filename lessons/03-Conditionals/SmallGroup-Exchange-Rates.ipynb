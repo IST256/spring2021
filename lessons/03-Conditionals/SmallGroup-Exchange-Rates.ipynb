{
 "cells": [
  {
   "cell_type": "markdown",
   "metadata": {},
   "source": [
    "# Now You Code In Class: Exchange Rates\n",
    "\n",
    "You have been tasked with writing a program to help employees of a travel company convert currency.\n",
    "\n",
    "The company travels to the following places. Next to the place is the exchange rate.\n",
    "\n",
    "- Europe:  1 US Dollar == 0.9 Euro\n",
    "- China: 1 US Dollar == 7.2 Chineese Yuan\n",
    "- Russia: 1 US Dollar == 64.2 Russian Ruble\n",
    "\n",
    "You should write a program to input the amount of currency in US Dollars, and then input the place (either Europe, China, or Russia). \n",
    "\n",
    "The program should then output the appropriate amount of exchanged currency. \n",
    "\n",
    "Example Run 1:\n",
    "\n",
    "```\n",
    "Enter the amount of Currency in US Dollars: $100\n",
    "Enter the place you are travelling: Europe, China or Russia? China\n",
    "\n",
    "$100.00 US Dollars is $720.00 Chineese Yuan\n",
    "\n",
    "```\n"
   ]
  },
  {
   "cell_type": "markdown",
   "metadata": {
    "collapsed": true
   },
   "source": [
    "## Step 1: Problem Analysis\n",
    "\n",
    "Inputs:\n",
    "\n",
    "- Input currency in USD\n",
    "- Input place you are traveling to\n",
    "\n",
    "Outputs:\n",
    "\n",
    "- The amount of currency exchanged\n",
    "\n",
    "Algorithm (Steps in Program):\n",
    "\n",
    "```\n",
    "input amount of USD, \n",
    "input place (Europe, China, or Russia)\n",
    "If Europe, multiply USD by 0.9. \n",
    "Else If China, multiply USD by 7.2. \n",
    "Else If Russia, multiply USD by 64.2. \n",
    "Else, print that the only options are Europe, China, or Russia. \n",
    "print exhanged money\n",
    "\n",
    "```\n"
   ]
  },
  {
   "cell_type": "code",
   "execution_count": 1,
   "metadata": {},
   "outputs": [
    {
     "name": "stdout",
     "output_type": "stream",
     "text": [
      "How many US Dollars would you like to convert?: $100\n",
      "Where would you like to go? [Europe, China, Russia]: China\n",
      "$100.00 in US Dollars is $720.00 Chinese Yuan.\n"
     ]
    }
   ],
   "source": [
    "# Step 2: Write code here\n",
    "euro = 0.9\n",
    "yuan = 7.2\n",
    "ruble = 64.2\n",
    "rate = 1\n",
    "countries = [\"Europe\", \"China\", \"Russia\"]\n",
    "value = float(input(\"How many US Dollars would you like to convert?: $\"))\n",
    "location = (input(\"Where would you like to go? [Europe, China, Russia]: \"))\n",
    "if location in countries:\n",
    "    if location == \"Europe\":\n",
    "        rate = value * euro\n",
    "        currency= \"European Euros\"\n",
    "    elif location == \"China\":\n",
    "        rate = value * yuan\n",
    "        currency= \"Chinese Yuan\"\n",
    "    elif location == \"Russia\":\n",
    "        rate = value * ruble\n",
    "        currency =\"Russian Ruble\"\n",
    "        \n",
    "    print(f\"${value:.2f} in US Dollars is ${rate:.2f} {currency}.\")\n",
    "else:\n",
    "    print(\"Enter a valid location: Europe, China, or Russia.\")"
   ]
  },
  {
   "cell_type": "markdown",
   "metadata": {
    "collapsed": true
   },
   "source": [
    "# Part Two\n",
    "\n",
    "After you get that working, re-write the program to account for bad input, such as the case where you enter a non-numerical value for US Dollars, or when you enter a place other than the three accepted locations.\n",
    "\n",
    "Example Run 2:\n",
    "\n",
    "```\n",
    "Enter the amount of Currency in US Dollars: A hundo\n",
    "\n",
    "'A Hundo' is not a valid amount!\n",
    "\n",
    "```\n",
    "\n",
    "Example Run 2:\n",
    "\n",
    "```\n",
    "Enter the amount of Currency in US Dollars: $100\n",
    "Enter the place you are travelling: Europe, China or Russia? Canada\n",
    "\n",
    "Sorry. You cannot travel to 'Canada' at this time\n",
    "\n",
    "```\n"
   ]
  },
  {
   "cell_type": "code",
   "execution_count": 15,
   "metadata": {},
   "outputs": [
    {
     "name": "stdout",
     "output_type": "stream",
     "text": [
      "How many US Dollars would you like to convert?: $-9\n",
      "Where would you like to go? [Europe, China, Russia]: Europe\n",
      "Please enter a value of 0 or more.\n"
     ]
    }
   ],
   "source": [
    "# Part 2: Write entire solution here\n",
    "# Step 2: Write code here\n",
    "euro = 0.9\n",
    "yuan = 7.2\n",
    "ruble = 64.2\n",
    "rate = 1\n",
    "try:\n",
    "    countries = [\"Europe\", \"China\", \"Russia\"]\n",
    "    value = float(input(\"How many US Dollars would you like to convert?: $\"))\n",
    "    location = (input(\"Where would you like to go? [Europe, China, Russia]: \"))\n",
    "    if value < 0:\n",
    "        print(\"Please enter a value of 0 or more.\")\n",
    "    elif location in countries:\n",
    "        if location == \"Europe\":\n",
    "            rate = value * euro\n",
    "            currency= \"European Euros\"\n",
    "        elif location == \"China\":\n",
    "            rate = value * yuan\n",
    "            currency= \"Chinese Yuan\"\n",
    "        elif location == \"Russia\":\n",
    "            rate = value * ruble\n",
    "            currency =\"Russian Ruble\"\n",
    "\n",
    "        print(f\"${value:.2f} in US Dollars is ${rate:.2f} {currency}.\")\n",
    "    else:\n",
    "        print(\"Enter a valid location: Europe, China, or Russia.\")\n",
    "except ValueError:\n",
    "    print(\"That is not a numeric value.\")"
   ]
  },
  {
   "cell_type": "code",
   "execution_count": null,
   "metadata": {},
   "outputs": [],
   "source": []
  }
 ],
 "metadata": {
  "anaconda-cloud": {},
  "kernelspec": {
   "display_name": "Python 3",
   "language": "python",
   "name": "python3"
  },
  "language_info": {
   "codemirror_mode": {
    "name": "ipython",
    "version": 3
   },
   "file_extension": ".py",
   "mimetype": "text/x-python",
   "name": "python",
   "nbconvert_exporter": "python",
   "pygments_lexer": "ipython3",
   "version": "3.7.6"
  },
  "toc": {
   "base_numbering": 1,
   "nav_menu": {},
   "number_sections": false,
   "sideBar": false,
   "skip_h1_title": false,
   "title_cell": "Table of Contents",
   "title_sidebar": "Contents",
   "toc_cell": false,
   "toc_position": {},
   "toc_section_display": false,
   "toc_window_display": false
  }
 },
 "nbformat": 4,
 "nbformat_minor": 1
}
