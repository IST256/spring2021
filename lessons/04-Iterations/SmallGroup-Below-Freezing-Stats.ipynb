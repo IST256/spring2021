{
 "cells": [
  {
   "cell_type": "markdown",
   "metadata": {},
   "source": [
    "# Now You Code In Class: Below Freezing Stats\n",
    "\n",
    "Write a program to input a series of temperatures in Celcius, until 'quit' is entered.\n",
    "\n",
    "As the temperatures are input, the program should keep track of the number of temperatures above freezing and below freezing. \n",
    "\n",
    "As output the program should display number and percentage of temperatures above and below freezing. \n",
    "\n",
    "Example Run:\n",
    "\n",
    "```\n",
    "Enter temp or type 'quit': 100\n",
    "Enter temp or type 'quit': 0\n",
    "Enter temp or type 'quit': -100\n",
    "Enter temp or type 'quit': quit\n",
    "Number at or below freezing 2 (66.67%)\n",
    "Number above freezing 1(33.33%)\n",
    "```"
   ]
  },
  {
   "cell_type": "markdown",
   "metadata": {
    "collapsed": true
   },
   "source": [
    "## Step 1: Problem Analysis\n",
    "\n",
    "Inputs:  temperatures  or 'quit' (temp_or_quit)\n",
    "\n",
    "Outputs: \n",
    "\n",
    "- total at or above freezing temps (belows_temps)\n",
    "- total below freezing temps (above_temps)\n",
    "\n",
    "Algorithm (Steps in Program):\n",
    "\n",
    "```\n",
    "above_freezing = 0\n",
    "at_or_below freezing initialize to 0\n",
    "repeat this:\n",
    "  input temp_or_quit\n",
    "  if temp_or_quit equals quit\n",
    "      exit the loop\n",
    "  if temp >0\n",
    "      increment above_freezing\n",
    "  else\n",
    "      increment below_freezing\n",
    "\n",
    "print below_temps\n",
    "print at_or_above_temps\n",
    "```"
   ]
  },
  {
   "cell_type": "code",
   "execution_count": 15,
   "metadata": {},
   "outputs": [
    {
     "name": "stdout",
     "output_type": "stream",
     "text": [
      "Enter the temperature in C or type 'quit': -10\n",
      "Enter the temperature in C or type 'quit': -10\n",
      "Enter the temperature in C or type 'quit': 10\n",
      "Enter the temperature in C or type 'quit': quit\n",
      "Number at or below freezing 2 66.67%\n",
      "Number above freezing 1 33.33%\n"
     ]
    }
   ],
   "source": [
    "# Step 2: Write code here\n",
    "above_freezing = 0\n",
    "at_or_below_freezing = 0\n",
    "while True:\n",
    "    temp_or_quit =input(\"Enter the temperature in C or type 'quit': \")\n",
    "    if temp_or_quit == 'quit':\n",
    "        break\n",
    "    temp = float(temp_or_quit)\n",
    "    if temp > 0 :\n",
    "        above_freezing = above_freezing + 1\n",
    "    else:\n",
    "        at_or_below_freezing = at_or_below_freezing + 1\n",
    "    \n",
    "total_temps = at_or_below_freezing + above_freezing\n",
    "below_ratio = 100*at_or_below_freezing / total_temps\n",
    "above_ratio = 100*above_freezing/total_temps\n",
    "print(f\"Number at or below freezing {at_or_below_freezing} {below_ratio:.2f}%\")\n",
    "print(f\"Number above freezing {above_freezing} {above_ratio:.2f}%\")"
   ]
  },
  {
   "cell_type": "code",
   "execution_count": null,
   "metadata": {},
   "outputs": [],
   "source": []
  }
 ],
 "metadata": {
  "anaconda-cloud": {},
  "kernelspec": {
   "display_name": "Python 3",
   "language": "python",
   "name": "python3"
  },
  "language_info": {
   "codemirror_mode": {
    "name": "ipython",
    "version": 3
   },
   "file_extension": ".py",
   "mimetype": "text/x-python",
   "name": "python",
   "nbconvert_exporter": "python",
   "pygments_lexer": "ipython3",
   "version": "3.7.6"
  },
  "toc": {
   "base_numbering": 1,
   "nav_menu": {},
   "number_sections": false,
   "sideBar": false,
   "skip_h1_title": false,
   "title_cell": "Table of Contents",
   "title_sidebar": "Contents",
   "toc_cell": false,
   "toc_position": {},
   "toc_section_display": false,
   "toc_window_display": false
  }
 },
 "nbformat": 4,
 "nbformat_minor": 1
}
