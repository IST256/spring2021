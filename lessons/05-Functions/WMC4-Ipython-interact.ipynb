{
 "cells": [
  {
   "cell_type": "code",
   "execution_count": 9,
   "metadata": {},
   "outputs": [],
   "source": [
    "import gtts\n",
    "from IPython.display import display, Audio\n",
    "from ipywidgets import interact, interact_manual\n",
    "from time import sleep"
   ]
  },
  {
   "cell_type": "code",
   "execution_count": 3,
   "metadata": {},
   "outputs": [],
   "source": [
    "def speak(text, lang='en', autoplay=True, echo=False):\n",
    "    '''\n",
    "    This will use gTTS to take your text and speak it.\n",
    "    \n",
    "    Example:\n",
    "    \n",
    "    speak(\"Hello!\")\n",
    "    '''\n",
    "    speech = gtts.gTTS(text, slow=False, lang=lang)\n",
    "    speech.save(\"demo.mp3\")\n",
    "    if echo:\n",
    "        print(text)\n",
    "    return Audio(\"demo.mp3\",autoplay=autoplay)\n"
   ]
  },
  {
   "cell_type": "code",
   "execution_count": 19,
   "metadata": {},
   "outputs": [
    {
     "data": {
      "application/vnd.jupyter.widget-view+json": {
       "model_id": "6e36cc8ebda5491586f44259b9f22cf1",
       "version_major": 2,
       "version_minor": 0
      },
      "text/plain": [
       "interactive(children=(Text(value='hello there', description='text'), Text(value='en', description='lang'), But…"
      ]
     },
     "metadata": {},
     "output_type": "display_data"
    }
   ],
   "source": [
    "@interact_manual(text=\"hello there\", lang=\"en\")\n",
    "def say_it(text,lang):\n",
    "    speech = speak(text,lang)\n",
    "    sleep(3)\n",
    "    display(speech)"
   ]
  },
  {
   "cell_type": "code",
   "execution_count": null,
   "metadata": {},
   "outputs": [],
   "source": []
  }
 ],
 "metadata": {
  "kernelspec": {
   "display_name": "Python 3",
   "language": "python",
   "name": "python3"
  },
  "language_info": {
   "codemirror_mode": {
    "name": "ipython",
    "version": 3
   },
   "file_extension": ".py",
   "mimetype": "text/x-python",
   "name": "python",
   "nbconvert_exporter": "python",
   "pygments_lexer": "ipython3",
   "version": "3.8.6"
  }
 },
 "nbformat": 4,
 "nbformat_minor": 4
}
