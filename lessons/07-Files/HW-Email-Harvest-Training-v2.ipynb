{
 "cells": [
  {
   "cell_type": "markdown",
   "metadata": {},
   "source": [
    "# Now You Code 5: Email Harvest Training v2\n",
    "\n",
    "Let's teach you how to extract emails from a mailbox file. This has a variety of applications; the most common being buiding a list of emails for spamming... er, I meant \"mass marketing.\" \n",
    "\n",
    "The best way to find the emails in an email inbox file is to search for lines in the file that begin with `From:` (similar to what we did in the lab). When you find an email write just the email address (not \"From:\" itself - the email address only.), and then running the filtered text through  the `isEmail()` function I've provided below.\n",
    "\n",
    "In this program there are exerpts from 4 user inboxes as part of the infamous [Enron Email Dataset](https://www.cs.cmu.edu/~./enron/) these files are:\n",
    "\n",
    "- `NYC5-allen-inbox.txt`\n",
    "- `NYC5-donohoe-inbox.txt`\n",
    "- `NYC5-lay-inbox.txt`\n",
    "- `NYC5-williams-inbox.txt`\n",
    "\n",
    "In the spirit of **successive refinement**, Our program will be divided into 2 parts.\n"
   ]
  },
  {
   "cell_type": "code",
   "execution_count": null,
   "metadata": {},
   "outputs": [],
   "source": [
    "## This code provides the isEmail(text) function which checks if the text is an email address.\n",
    "## RUN THIS CELL !!!\n",
    "import re\n",
    "\n",
    "# for custom mails use: '^[a-z0-9]+[\\._]?[a-z0-9]+[@]\\w+[.]\\w+$'     \n",
    "def isEmail(text):    \n",
    "    regex = '^[a-z0-9]+[\\._]?[a-z0-9]+[@]\\w+[.]\\w{2,3}$'\n",
    "    return re.search(regex,text) is not None\n",
    "\n",
    "print(\"When mafudge@syr.edu expect True, Actual\", isEmail(\"mafudge@syr.edu\"))\n",
    "print(\"When mafudge@syr.edu expect False, Actual\", isEmail(\" sdjkhf mafudge@syr.edu\"))\n"
   ]
  },
  {
   "cell_type": "markdown",
   "metadata": {},
   "source": [
    "# Part One\n",
    "\n",
    "In part one we focus on reading from the input file and then printing the emails the console. The program should prompt for the name of the mailbox file to read and then print the emails to the screen. \n",
    "\n",
    "Example Run:\n",
    "\n",
    "```\n",
    "Enter mailbox file to read: NYC5-lay-inbox.txt\n",
    "\n",
    "wbd_5@hotmail.com\n",
    "enron_update@concureworkplace.com\n",
    "jeanine.denicola@newpower.com\n",
    "garydlindley@visto.com\n",
    "dan.ayers@enron.com\n",
    "ealvittor@yahoo.com\n",
    "dmyers@atlascapitalservices.com\n",
    "dmyers@atlascapitalservices.com\n",
    "coa@attglobal.net\n",
    "slong@exodusenergy.com\n",
    "ehvaughan@vnsm.com\n",
    "annette.ambriz@compaq.com\n",
    "proactiveupdate@proactivenet.com\n",
    "no.address@enron.com\n",
    "john.hardy@enron.com\n",
    "nancy.muchmore@enron.com\n",
    "nick@cavendishwhite.com\n",
    "aurora.dimacali@enron.com\n",
    "...\n",
    "...\n",
    "\n",
    "```\n",
    "(more emails are present, but left out.)"
   ]
  },
  {
   "cell_type": "markdown",
   "metadata": {},
   "source": [
    "## Part 1: Step 1 Problem Analysis\n",
    "\n",
    "Input: Mailbox File to read\n",
    "\n",
    "Output: emails to the screen\n",
    "\n",
    "Algorithm:\n",
    "\n",
    "```\n",
    "(todo write here)\n",
    "```\n"
   ]
  },
  {
   "cell_type": "code",
   "execution_count": null,
   "metadata": {},
   "outputs": [],
   "source": [
    "## Part 1: Step 2: Write the code here\n",
    "    "
   ]
  },
  {
   "cell_type": "markdown",
   "metadata": {},
   "source": [
    "# Part Two\n",
    "\n",
    "With the first part complete, now we focus on writing these emails to a file. The name of the file to write depends on the file read. simply replace `inbox` with `emails`. For example if you read in `NYC5-donohoe-inbox.txt` you will write the emails to `NYC5-donohoe-emails.txt`. The program should display how many emails were written to the file. \n",
    "\n",
    "Example Run:\n",
    "\n",
    "```\n",
    "Enter mailbox file to read: NYC5-williams-inbox.txt\n",
    "\n",
    "Wrote 65 emails to NYC5-williams-emails.txt\n",
    "```"
   ]
  },
  {
   "cell_type": "markdown",
   "metadata": {},
   "source": [
    "## Part 2: Step 1: Problem Analysis\n",
    "\n",
    "Input: Mailbox File to read\n",
    "\n",
    "Outputs: email file and number of emails to screen, email addresses themselves into the file\n",
    "\n",
    "Algorithm:\n",
    "\n",
    "```\n",
    "(todo write here)\n",
    "```\n"
   ]
  },
  {
   "cell_type": "code",
   "execution_count": null,
   "metadata": {},
   "outputs": [],
   "source": [
    "## Part 2: Step 2:  Write code here\n",
    "\n"
   ]
  },
  {
   "cell_type": "markdown",
   "metadata": {},
   "source": [
    "## Step 3: Questions\n",
    "\n",
    "1. Did a significant amount of your code need to change from part 1 to part 2? Explain.\n",
    "\n",
    "Answer:\n",
    "\n",
    "2. Devise an approach to remove duplicate emails from the output file. You don't have to write as code, just explain it.\n",
    "\n",
    "Answer:"
   ]
  },
  {
   "cell_type": "markdown",
   "metadata": {},
   "source": [
    "## Step 4: Reflection\n",
    "\n",
    "Reflect upon your experience completing this assignment. This should be a personal narrative, in your own voice, and cite specifics relevant to the activity as to help the grader understand how you arrived at the code you submitted. Things to consider touching upon: Elaborate on the process itself. Did your original problem analysis work as designed?  How many iterations did you go through before you arrived at the solution? Where did you struggle along the way and how did you overcome it? What did you learn from completing the assignment? What do you need to work on to get better? What was most valuable and least valuable about this exercise? Do you have any suggestions for improvements?\n",
    "\n",
    "To make a good reflection, you should journal your thoughts, questions and comments while you complete the exercise.\n",
    "\n",
    "Keep your response to between 100 and 250 words.\n",
    "\n",
    "`--== Write Your Reflection Below Here ==--`\n",
    "\n",
    "sdajhgfkajhsdgf kjhasdg kfjhgasd kjhfgkjasdhgfkjhasdgfk jhgadsf\n"
   ]
  },
  {
   "cell_type": "code",
   "execution_count": null,
   "metadata": {},
   "outputs": [],
   "source": [
    "# SAVE YOUR WORK FIRST! CTRL+S\n",
    "# RUN THIS CODE CELL TO TURN IN YOUR WORK!\n",
    "from ist256.submission import Submission\n",
    "Submission().submit()"
   ]
  }
 ],
 "metadata": {
  "anaconda-cloud": {},
  "kernelspec": {
   "display_name": "Python 3",
   "language": "python",
   "name": "python3"
  },
  "language_info": {
   "codemirror_mode": {
    "name": "ipython",
    "version": 3
   },
   "file_extension": ".py",
   "mimetype": "text/x-python",
   "name": "python",
   "nbconvert_exporter": "python",
   "pygments_lexer": "ipython3",
   "version": "3.7.6"
  },
  "toc": {
   "base_numbering": 1,
   "nav_menu": {},
   "number_sections": false,
   "sideBar": false,
   "skip_h1_title": false,
   "title_cell": "Table of Contents",
   "title_sidebar": "Contents",
   "toc_cell": false,
   "toc_position": {},
   "toc_section_display": false,
   "toc_window_display": false
  }
 },
 "nbformat": 4,
 "nbformat_minor": 4
}
