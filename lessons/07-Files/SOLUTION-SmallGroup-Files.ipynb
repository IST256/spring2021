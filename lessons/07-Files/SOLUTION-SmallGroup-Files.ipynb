{
 "cells": [
  {
   "cell_type": "markdown",
   "metadata": {},
   "source": [
    "# Now You Code In Class: Extracting Hyperlinks from a Webpage\n",
    "\n",
    "Let's write a program which extracts the hyperlinks from a Webpage. There are 3 webpage files you can try with this program:\n",
    "\n",
    "    httpbin-org.html\n",
    "    ischool-directory.html\n",
    "    ist256-com.html\n",
    "    wikipedia-President-of-the-United-States.html\n",
    "\n",
    "Run this command to download these three files:\n",
    "\n"
   ]
  },
  {
   "cell_type": "code",
   "execution_count": 2,
   "metadata": {},
   "outputs": [
    {
     "name": "stdout",
     "output_type": "stream",
     "text": [
      "  % Total    % Received % Xferd  Average Speed   Time    Time     Time  Current\n",
      "                                 Dload  Upload   Total   Spent    Left  Speed\n",
      "100  9593  100  9593    0     0  97887      0 --:--:-- --:--:-- --:--:-- 97887\n",
      "  % Total    % Received % Xferd  Average Speed   Time    Time     Time  Current\n",
      "                                 Dload  Upload   Total   Spent    Left  Speed\n",
      "100 1318k    0 1318k    0     0  44.3M      0 --:--:-- --:--:-- --:--:-- 44.3M\n",
      "  % Total    % Received % Xferd  Average Speed   Time    Time     Time  Current\n",
      "                                 Dload  Upload   Total   Spent    Left  Speed\n",
      "100 15613    0 15613    0     0   118k      0 --:--:-- --:--:-- --:--:--  118k\n",
      "  % Total    % Received % Xferd  Average Speed   Time    Time     Time  Current\n",
      "                                 Dload  Upload   Total   Spent    Left  Speed\n",
      "100  665k  100  665k    0     0  4435k      0 --:--:-- --:--:-- --:--:-- 4435k\n"
     ]
    }
   ],
   "source": [
    "!curl https://httpbin.org/ -o httpbin-org.html\n",
    "!curl https://ischool.syr.edu/directory/?cat=all -o ischool-directory.html\n",
    "!curl https://ist256.com -o ist256-com.html   \n",
    "!curl https://en.wikipedia.org/wiki/President_of_the_United_States  -o wikipedia-president-of-the-united-states.html"
   ]
  },
  {
   "cell_type": "markdown",
   "metadata": {},
   "source": [
    "In addition you can download any file you wish by copying the `!curl` command. Place the URL after `curl` and the filename after `-o`.\n",
    "\n",
    "## Strategy\n",
    "\n",
    "Here's the basic strategy. We must read in the contents all at once since there is not line structure within the HTML. So as one big string we should be looking for the following token in the text of the file `<a href=\"` when you find this token the link is all characters until the second `\"` character. \n",
    "\n",
    "For example: `<a href=\"http://ist256.github.io\">` the Hyperlink would be: `http://ist256.github.io`.\n",
    "\n",
    "In addition there are 4 types of links:\n",
    "\n",
    "- **absolute** links are URL's like `https://www.google.com`. These begin with `http://` or `https://`\n",
    "- **email** links like `mailto:president@whitehouse.gov`. This begin with `mailto:`\n",
    "- **bookmarks** are links to places on the same page. `#about`. These begin with `#`. \n",
    "- **relative** links (to pages on the same site). Consider all other links this type of link.\n",
    "\n",
    "\n",
    "## Recommended approach : Bottom Up\n",
    "\n",
    "We will use an approach called Bottom Up to solve this problem. It works by writing the alogrithm at a high level, then for each step in the algorithm which is non-trivial (more than a line of code) we write the step as its own function. We test the functions then assemble the final program code by calling the functions we made.\n",
    "\n",
    "THE ALGORITHM\n",
    "\n",
    "    1. read the file into a string\n",
    "    2. loop\n",
    "    3.    if string has link\n",
    "    4.       extract link from string returning link and remaining string\n",
    "    5.       determine link type\n",
    "    6.       print link and link type (external / internal / email / bookmark)\n",
    "    7.    else\n",
    "    8.       stop looping\n",
    "\n",
    "\n",
    "### Which steps must be written as functions?\n",
    "\n",
    "Ask yourself which lines of the alogirthm can be implemented trivially in Python.\n",
    "\n",
    "PROMPT 1\n",
    "\n",
    "\n",
    "\n",
    "##  ## Step 1a: Problem Analysis for `readFile()`\n",
    "\n",
    "Inputs: \n",
    "\n",
    "    PROMPT 2\n",
    "\n",
    "Outputs: \n",
    "\n",
    "    PROMPT 3\n",
    "\n",
    "Algorithm (Steps in Program):\n",
    "\n",
    "    PROMPT 4\n",
    "\n",
    "How many tests are required and why?\n",
    "\n",
    "    PROMPT 5\n",
    "\n",
    "\n",
    "## Step 1b: Code the function"
   ]
  },
  {
   "cell_type": "code",
   "execution_count": 20,
   "metadata": {},
   "outputs": [],
   "source": [
    "# PROMPT 6\n",
    "def readFile(file):\n",
    "    with open(file, \"r\") as f:\n",
    "        contents = f.read()\n",
    "        return contents"
   ]
  },
  {
   "cell_type": "markdown",
   "metadata": {},
   "source": [
    "## Step 2: Write tests\n",
    "\n",
    "Let's make sure the function works"
   ]
  },
  {
   "cell_type": "code",
   "execution_count": 26,
   "metadata": {},
   "outputs": [
    {
     "name": "stdout",
     "output_type": "stream",
     "text": [
      "When file='test.html' \n",
      "EXPECT= this is a test <a href=\"https://www.testing.com\"></a> \n",
      "ACTUAL= this is a test <a href=\"https://www.testing.com\"></a>\n"
     ]
    }
   ],
   "source": [
    "# PROMPT 7 Test(s)\n",
    "print(f\"When file='test.html' \\nEXPECT= this is a test <a href=\\\"https://www.testing.com\\\"></a> \\nACTUAL=\", readFile('test.html'))\n"
   ]
  },
  {
   "cell_type": "markdown",
   "metadata": {},
   "source": [
    "##  ## Step 3a: Problem Analysis for `extractLink()`\n",
    "\n",
    "Inputs: \n",
    "\n",
    "    PROMPT 8\n",
    "\n",
    "Outputs: \n",
    "\n",
    "    PROMPT 9\n",
    "\n",
    "Algorithm (Steps in Program):\n",
    "\n",
    "    PROMPT 10 (Having Trouble? Let's discuss an approach. Write then re-factor into a function.)\n",
    "\n",
    "How many tests are required and why?\n",
    "\n",
    "    PROMPT 11\n",
    "\n",
    "\n",
    "## Step 3b: Code the function"
   ]
  },
  {
   "cell_type": "code",
   "execution_count": 23,
   "metadata": {},
   "outputs": [],
   "source": [
    "# PROMPT 12 - write code\n",
    "def extractLink(text):\n",
    "    token = '<a href=\"'\n",
    "    start = text.find(token)\n",
    "    end = text.find('\"', start + len(token))\n",
    "    link = text[start+len(token):end]\n",
    "    rest = text[end+1:]\n",
    "    return link, rest \n"
   ]
  },
  {
   "cell_type": "markdown",
   "metadata": {},
   "source": [
    "## Step 4: Write tests\n",
    "\n",
    "Let's make sure the function works"
   ]
  },
  {
   "cell_type": "code",
   "execution_count": 25,
   "metadata": {},
   "outputs": [
    {
     "name": "stdout",
     "output_type": "stream",
     "text": [
      "When: <a href=\"https://www.testing.com\">test</a>\n",
      "EXPECT: link=https://www.testing.com, rest=>test</a>\n",
      "ACTUAL: link=https://www.testing.com, rest=>test</a>\n"
     ]
    }
   ],
   "source": [
    "# PROMPT 13 - write test(s)\n",
    "\n",
    "text = \"<a href=\\\"https://www.testing.com\\\">test</a>\"\n",
    "link, rest = extractLink(text)\n",
    "print(\"When:\", text)\n",
    "print(\"EXPECT: link=https://www.testing.com, rest=>test</a>\")\n",
    "print(f\"ACTUAL: link={link}, rest={rest}\")\n"
   ]
  },
  {
   "cell_type": "markdown",
   "metadata": {},
   "source": [
    "##  ## Step 5a: Problem Analysis for `linkType()`\n",
    "\n",
    "Inputs: \n",
    "\n",
    "    PROMPT 14\n",
    "\n",
    "Outputs: \n",
    "\n",
    "    PROMPT 15\n",
    "\n",
    "Algorithm (Steps in Program):\n",
    "\n",
    "    PROMPT 16 \n",
    "\n",
    "How many tests are required and why?\n",
    "\n",
    "    PROMPT 17\n",
    "\n",
    "\n",
    "## Step 5b: Code the function"
   ]
  },
  {
   "cell_type": "code",
   "execution_count": 34,
   "metadata": {},
   "outputs": [],
   "source": [
    "# PROMPT 18 - write code\n",
    "def linkType(link):\n",
    "    if link.startswith(\"http://\") or link.startswith(\"https://\"):\n",
    "        return \"absolute\"\n",
    "    elif link.startswith(\"mailto:\"):\n",
    "        return \"email\"\n",
    "    elif link.startswith(\"#\"):\n",
    "        return \"bookmark\"\n",
    "    else:\n",
    "        return \"relative\"\n"
   ]
  },
  {
   "cell_type": "markdown",
   "metadata": {},
   "source": [
    "## Step 6: Write tests\n",
    "\n",
    "Let's make sure the function works"
   ]
  },
  {
   "cell_type": "code",
   "execution_count": null,
   "metadata": {},
   "outputs": [],
   "source": [
    "# PROMPT 19 - write tests\n"
   ]
  },
  {
   "cell_type": "markdown",
   "metadata": {},
   "source": [
    "## Final Program\n",
    "\n",
    "With functions written, return to the original algorithm and imeplement. Here's a layout to get it working in ipython interact."
   ]
  },
  {
   "cell_type": "code",
   "execution_count": 37,
   "metadata": {
    "scrolled": true
   },
   "outputs": [
    {
     "name": "stdout",
     "output_type": "stream",
     "text": [
      "Link Extractor\n"
     ]
    },
    {
     "data": {
      "application/vnd.jupyter.widget-view+json": {
       "model_id": "2b1e993dd1834029ae187d5a90200d3d",
       "version_major": 2,
       "version_minor": 0
      },
      "text/plain": [
       "interactive(children=(Dropdown(description='choose_file', options=('httpbin-org.html', 'ischool-directory.html…"
      ]
     },
     "metadata": {},
     "output_type": "display_data"
    }
   ],
   "source": [
    "from ipywidgets import interact_manual\n",
    "files = ['httpbin-org.html','ischool-directory.html','ist256-com.html','wikipedia-president-of-the-united-states.html']\n",
    "\n",
    "print(\"Link Extractor\")\n",
    "@interact_manual( choose_file=files)\n",
    "def main(choose_file):\n",
    "    #TODO Write code here\n",
    "    contents = readFile(choose_file)\n",
    "    token = '<a href=\"'\n",
    "    while True:\n",
    "        if contents.find(token) >=0:\n",
    "            link, contents = extractLink(contents)\n",
    "            link_type = linkType(link)\n",
    "            print(f\"{link_type} ==> {link}\")\n",
    "        else:\n",
    "            break"
   ]
  },
  {
   "cell_type": "code",
   "execution_count": null,
   "metadata": {},
   "outputs": [],
   "source": []
  }
 ],
 "metadata": {
  "anaconda-cloud": {},
  "kernelspec": {
   "display_name": "Python 3",
   "language": "python",
   "name": "python3"
  },
  "language_info": {
   "codemirror_mode": {
    "name": "ipython",
    "version": 3
   },
   "file_extension": ".py",
   "mimetype": "text/x-python",
   "name": "python",
   "nbconvert_exporter": "python",
   "pygments_lexer": "ipython3",
   "version": "3.8.6"
  },
  "toc": {
   "base_numbering": 1,
   "nav_menu": {},
   "number_sections": false,
   "sideBar": false,
   "skip_h1_title": false,
   "title_cell": "Table of Contents",
   "title_sidebar": "Contents",
   "toc_cell": false,
   "toc_position": {},
   "toc_section_display": false,
   "toc_window_display": false
  }
 },
 "nbformat": 4,
 "nbformat_minor": 1
}
