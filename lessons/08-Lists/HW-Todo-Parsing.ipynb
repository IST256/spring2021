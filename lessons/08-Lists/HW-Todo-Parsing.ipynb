{
 "cells": [
  {
   "cell_type": "markdown",
   "metadata": {},
   "source": [
    "# Now You Code 5: The TODO List\n",
    "\n",
    "In this assignment we write a simple TODO list program in Python. The user interface for out TODO list app will be a basic text parser. So for example if you want to add an item to your TODO list called `clean my room`, you would type: `add todo clean my room`. \n",
    "\n",
    "Here's a summary of the commands understood by our parser:\n",
    "\n",
    "- `add todo-item` add an item to the TODO list.\n",
    "- `del todo-item` removes an item from the TODO list. \n",
    "- `show` shows items on the TODO list\n",
    "- `quit` exits the program loop.\n",
    "\n",
    "One again, we will apply problem simplification and work on this problem in 3 parts.\n",
    "\n",
    "1. In Part 1 we will create the command parser loop first.\n",
    "2. In Part 2 we code the `add`, `del` and `show` commands.\n"
   ]
  },
  {
   "cell_type": "markdown",
   "metadata": {},
   "source": [
    "## Part 1: Step 1: Problem Analysis\n",
    "\n",
    "Implement the provided algorithm as code.\n",
    "\n",
    "Inputs: a command string\n",
    "\n",
    "Outputs: print the command (if valid), or print \"invalid command\" or quit program\n",
    "\n",
    "Algorithm (Steps in Program):\n",
    "\n",
    "```\n",
    "loop\n",
    "    input command\n",
    "    extract first word from command\n",
    "    if word equals \"quit\" exit loop\n",
    "    if word equals \"add\"\n",
    "       extract item from command\n",
    "       print \"code to add item to todo list goes here\"\n",
    "    else if word equals \"del\"\n",
    "       extract item from command\n",
    "       print \"code to remove item from todo list goes here\"\n",
    "    else if word equals \"show\"\n",
    "       print \"code to show items on todo list goes here\"\n",
    "    else if word equals \"save\"\n",
    "       print \"code to save todo list to file goes here\"\n",
    "    else\n",
    "      print \"invalid command\"       \n",
    "```\n"
   ]
  },
  {
   "cell_type": "code",
   "execution_count": 20,
   "metadata": {},
   "outputs": [
    {
     "name": "stdout",
     "output_type": "stream",
     "text": [
      "add\n",
      " go shopping and eat cheese\n"
     ]
    }
   ],
   "source": [
    "text = \"add go shopping and eat cheese\"\n",
    "cmd = text.split(\" \")[0] # \"add\"\n",
    "item = text.replace(cmd,\"\")   # \"go shopping\"\n",
    "\n",
    "print(cmd)\n",
    "print(item)"
   ]
  },
  {
   "cell_type": "code",
   "execution_count": 14,
   "metadata": {},
   "outputs": [
    {
     "name": "stdout",
     "output_type": "stream",
     "text": [
      "Enter Command: add 123\n",
      "Adding  123 to TODO list\n",
      "Enter Command: del 456\n",
      "Removing  456 from TODO list\n"
     ]
    },
    {
     "ename": "KeyboardInterrupt",
     "evalue": "Interrupted by user",
     "output_type": "error",
     "traceback": [
      "\u001b[0;31m---------------------------------------------------------------------------\u001b[0m",
      "\u001b[0;31mKeyboardInterrupt\u001b[0m                         Traceback (most recent call last)",
      "\u001b[0;32m<ipython-input-14-957faacbc3e0>\u001b[0m in \u001b[0;36m<module>\u001b[0;34m\u001b[0m\n\u001b[1;32m      1\u001b[0m \u001b[0;31m# Part 1: Step 2 Write code here\u001b[0m\u001b[0;34m\u001b[0m\u001b[0;34m\u001b[0m\u001b[0;34m\u001b[0m\u001b[0m\n\u001b[1;32m      2\u001b[0m \u001b[0;32mwhile\u001b[0m \u001b[0;32mTrue\u001b[0m\u001b[0;34m:\u001b[0m\u001b[0;34m\u001b[0m\u001b[0;34m\u001b[0m\u001b[0m\n\u001b[0;32m----> 3\u001b[0;31m     \u001b[0mtext\u001b[0m \u001b[0;34m=\u001b[0m \u001b[0minput\u001b[0m\u001b[0;34m(\u001b[0m\u001b[0;34m\"Enter Command: \"\u001b[0m\u001b[0;34m)\u001b[0m\u001b[0;34m\u001b[0m\u001b[0;34m\u001b[0m\u001b[0m\n\u001b[0m\u001b[1;32m      4\u001b[0m     \u001b[0mcmd\u001b[0m \u001b[0;34m=\u001b[0m \u001b[0mtext\u001b[0m\u001b[0;34m.\u001b[0m\u001b[0msplit\u001b[0m\u001b[0;34m(\u001b[0m\u001b[0;34m\" \"\u001b[0m\u001b[0;34m)\u001b[0m\u001b[0;34m[\u001b[0m\u001b[0;36m0\u001b[0m\u001b[0;34m]\u001b[0m\u001b[0;34m\u001b[0m\u001b[0;34m\u001b[0m\u001b[0m\n\u001b[1;32m      5\u001b[0m     \u001b[0;32mif\u001b[0m \u001b[0mcmd\u001b[0m \u001b[0;34m==\u001b[0m \u001b[0;34m'quit'\u001b[0m\u001b[0;34m:\u001b[0m\u001b[0;34m\u001b[0m\u001b[0;34m\u001b[0m\u001b[0m\n",
      "\u001b[0;32m/opt/conda/lib/python3.7/site-packages/ipykernel/kernelbase.py\u001b[0m in \u001b[0;36mraw_input\u001b[0;34m(self, prompt)\u001b[0m\n\u001b[1;32m    861\u001b[0m             \u001b[0mself\u001b[0m\u001b[0;34m.\u001b[0m\u001b[0m_parent_ident\u001b[0m\u001b[0;34m,\u001b[0m\u001b[0;34m\u001b[0m\u001b[0;34m\u001b[0m\u001b[0m\n\u001b[1;32m    862\u001b[0m             \u001b[0mself\u001b[0m\u001b[0;34m.\u001b[0m\u001b[0m_parent_header\u001b[0m\u001b[0;34m,\u001b[0m\u001b[0;34m\u001b[0m\u001b[0;34m\u001b[0m\u001b[0m\n\u001b[0;32m--> 863\u001b[0;31m             \u001b[0mpassword\u001b[0m\u001b[0;34m=\u001b[0m\u001b[0;32mFalse\u001b[0m\u001b[0;34m,\u001b[0m\u001b[0;34m\u001b[0m\u001b[0;34m\u001b[0m\u001b[0m\n\u001b[0m\u001b[1;32m    864\u001b[0m         )\n\u001b[1;32m    865\u001b[0m \u001b[0;34m\u001b[0m\u001b[0m\n",
      "\u001b[0;32m/opt/conda/lib/python3.7/site-packages/ipykernel/kernelbase.py\u001b[0m in \u001b[0;36m_input_request\u001b[0;34m(self, prompt, ident, parent, password)\u001b[0m\n\u001b[1;32m    902\u001b[0m             \u001b[0;32mexcept\u001b[0m \u001b[0mKeyboardInterrupt\u001b[0m\u001b[0;34m:\u001b[0m\u001b[0;34m\u001b[0m\u001b[0;34m\u001b[0m\u001b[0m\n\u001b[1;32m    903\u001b[0m                 \u001b[0;31m# re-raise KeyboardInterrupt, to truncate traceback\u001b[0m\u001b[0;34m\u001b[0m\u001b[0;34m\u001b[0m\u001b[0;34m\u001b[0m\u001b[0m\n\u001b[0;32m--> 904\u001b[0;31m                 \u001b[0;32mraise\u001b[0m \u001b[0mKeyboardInterrupt\u001b[0m\u001b[0;34m(\u001b[0m\u001b[0;34m\"Interrupted by user\"\u001b[0m\u001b[0;34m)\u001b[0m \u001b[0;32mfrom\u001b[0m \u001b[0;32mNone\u001b[0m\u001b[0;34m\u001b[0m\u001b[0;34m\u001b[0m\u001b[0m\n\u001b[0m\u001b[1;32m    905\u001b[0m             \u001b[0;32mexcept\u001b[0m \u001b[0mException\u001b[0m \u001b[0;32mas\u001b[0m \u001b[0me\u001b[0m\u001b[0;34m:\u001b[0m\u001b[0;34m\u001b[0m\u001b[0;34m\u001b[0m\u001b[0m\n\u001b[1;32m    906\u001b[0m                 \u001b[0mself\u001b[0m\u001b[0;34m.\u001b[0m\u001b[0mlog\u001b[0m\u001b[0;34m.\u001b[0m\u001b[0mwarning\u001b[0m\u001b[0;34m(\u001b[0m\u001b[0;34m\"Invalid Message:\"\u001b[0m\u001b[0;34m,\u001b[0m \u001b[0mexc_info\u001b[0m\u001b[0;34m=\u001b[0m\u001b[0;32mTrue\u001b[0m\u001b[0;34m)\u001b[0m\u001b[0;34m\u001b[0m\u001b[0;34m\u001b[0m\u001b[0m\n",
      "\u001b[0;31mKeyboardInterrupt\u001b[0m: Interrupted by user"
     ]
    }
   ],
   "source": [
    "# Part 1: Step 2 Write code here\n",
    "while True:\n",
    "    text = input(\"Enter Command: \")\n",
    "    cmd = text.split(\" \")[0]\n",
    "    if cmd == 'quit':\n",
    "        break\n",
    "    if cmd == 'add':\n",
    "        item = text.replace(cmd,\"\").strip()\n",
    "        print (f\"Adding {item} to TODO list\")\n",
    "    elif cmd == 'del':\n",
    "        item = text.replace(cmd,\"\").strip()\n",
    "        print (f\"Removing {item} from TODO list\")\n",
    "    elif cmd == 'show':\n",
    "        print (f\"TODO list\")\n",
    "    elif cmd == 'save':\n",
    "        print (f\"Saving TODO list\")\n",
    "    else:\n",
    "        print(\"Invalid Command!\")\n",
    "        "
   ]
  },
  {
   "cell_type": "markdown",
   "metadata": {},
   "source": [
    "## Part 2: Step 1: problem analysis\n",
    "\n",
    "Next we will introduce the `add`, `del` and `show` functionality to the program. No longer will these commands print what they should do, they will actually get it done!\n",
    "\n",
    "Here's what you need to change in your program:\n",
    "\n",
    "1. Copy and paste your code from Part 1: Step 2 above into Part 2: Step 2 below.\n",
    "2. At the very beginning before entering the program loop  create an empty list in a variable called `todo`\n",
    "3. Code the `\"add\"` command to add the `item` to the `todo` list, and print a message saying the `item` was added.\n",
    "4. Code the `\"show\"` command to print each `item` the `todo` list using a for loop\n",
    "5. Code the `\"del\"` command to remove `item` from the list, and print a message saying `item` was deleted.\n",
    "\n",
    "\n",
    "Here's an example of the working code:\n",
    "\n",
    "```\n",
    "Enter command:  add go shopping\n",
    " go shopping added.\n",
    "Enter command:  add chop wood\n",
    " chop wood added.\n",
    "Enter command:  add eat pizza\n",
    " eat pizza added.\n",
    "Enter command:  show\n",
    "TODO list:\n",
    " go shopping\n",
    " chop wood\n",
    " eat pizza\n",
    "Enter command:  del chop wood\n",
    " chop wood deleted.\n",
    "Enter command:  show\n",
    "TODO list:\n",
    " go shopping\n",
    " eat pizza\n",
    "Enter command:  quit\n",
    "```\n",
    "\n"
   ]
  },
  {
   "cell_type": "code",
   "execution_count": 13,
   "metadata": {},
   "outputs": [
    {
     "name": "stdout",
     "output_type": "stream",
     "text": [
      "Enter Command: add dfsjhfglkjdfsah\n",
      "Adding dfsjhfglkjdfsah to TODO list\n",
      "Enter Command: add 326154876\n",
      "Adding 326154876 to TODO list\n",
      "Enter Command: del 34217865987\n",
      "Removing 34217865987 from TODO list\n",
      "Error: 34217865987 not in TODO list\n",
      "Enter Command: quit\n"
     ]
    }
   ],
   "source": [
    "# Part 2: Step 2 Write code here\n",
    "todo = []\n",
    "   \n",
    "while True:\n",
    "    text = input(\"Enter Command: \")\n",
    "    cmd = text.split(\" \")[0]\n",
    "    if cmd == 'quit':\n",
    "        break\n",
    "    if cmd == 'add':\n",
    "        item = text.replace(cmd,\"\").strip()\n",
    "        print (f\"Adding {item} to TODO list\")\n",
    "        todo.append(item)\n",
    "    elif cmd == 'del':\n",
    "        item = text.replace(cmd,\"\").strip()\n",
    "        print (f\"Removing {item} from TODO list\")\n",
    "        try:\n",
    "            todo.remove(item)\n",
    "        except ValueError:\n",
    "            print(f\"Error: {item} not in TODO list\")\n",
    "    elif cmd == 'show':\n",
    "        print (f\"TODO list\")\n",
    "        for item in todo:\n",
    "            print(item)\n",
    "    else:\n",
    "        print(\"Invalid Command!\")"
   ]
  },
  {
   "cell_type": "code",
   "execution_count": null,
   "metadata": {},
   "outputs": [
    {
     "name": "stdout",
     "output_type": "stream",
     "text": [
      "Enter Command: show\n",
      "TODO list\n",
      "go to store\n",
      "do homework\n",
      "eat food\n",
      "hunker down\n",
      "Enter Command: del hunker down\n",
      "Removing hunker down from TODO list\n",
      "Enter Command: show\n",
      "TODO list\n",
      "go to store\n",
      "do homework\n",
      "eat food\n",
      "Enter Command: del 3217654\n",
      "Removing 3217654 from TODO list\n",
      "Error: 3217654 not in TODO list\n"
     ]
    }
   ],
   "source": [
    "# Part 2: Step 3 Write code here\n",
    "filename = \"todo.txt\"\n",
    "todo = []\n",
    "try:\n",
    "    with open (filename,\"r\") as f:\n",
    "        for line in f:\n",
    "            todo.append(line.strip())\n",
    "except FileNotFoundError:\n",
    "    todo = []\n",
    "    \n",
    "while True:\n",
    "    text = input(\"Enter Command: \")\n",
    "    cmd = text.split(\" \")[0]\n",
    "    if cmd == 'quit':\n",
    "        break\n",
    "    if cmd == 'add':\n",
    "        item = text.replace(cmd,\"\").strip()\n",
    "        print (f\"Adding {item} to TODO list\")\n",
    "        todo.append(item)\n",
    "    elif cmd == 'del':\n",
    "        item = text.replace(cmd,\"\").strip()\n",
    "        print (f\"Removing {item} from TODO list\")\n",
    "        try:\n",
    "            todo.remove(item)\n",
    "        except ValueError:\n",
    "            print(f\"Error: {item} not in TODO list\")\n",
    "    elif cmd == 'show':\n",
    "        print (f\"TODO list\")\n",
    "        for item in todo:\n",
    "            print(item)\n",
    "    elif cmd == 'save':\n",
    "        print (f\"Saving TODO list\")\n",
    "        with open(filename,\"w\") as f:\n",
    "            for item in todo:\n",
    "                f.write(f\"{item}\\n\")\n",
    "    else:\n",
    "        print(\"Invalid Command!\")"
   ]
  },
  {
   "cell_type": "markdown",
   "metadata": {},
   "source": [
    "## Step 3: Questions\n",
    "\n",
    "1. What happens when you `del` a TODO item which is not on the list? Explain specifically how we handle this error?\n",
    "\n",
    "Answer: I used try/except but you could try to find it first then remove it.\n",
    "\n",
    "2. Describe a strategy you can employ to save the list to a file and load it back. How would that work?\n",
    "\n",
    "Answer: Implemented\n"
   ]
  },
  {
   "cell_type": "markdown",
   "metadata": {},
   "source": [
    "## Step 4: Reflection\n",
    "\n",
    "Reflect upon your experience completing this assignment. This should be a personal narrative, in your own voice, and cite specifics relevant to the activity as to help the grader understand how you arrived at the code you submitted. Things to consider touching upon: Elaborate on the process itself. Did your original problem analysis work as designed?  How many iterations did you go through before you arrived at the solution? Where did you struggle along the way and how did you overcome it? What did you learn from completing the assignment? What do you need to work on to get better? What was most valuable and least valuable about this exercise? Do you have any suggestions for improvements?\n",
    "\n",
    "To make a good reflection, you should journal your thoughts, questions and comments while you complete the exercise.\n",
    "\n",
    "Keep your response to between 100 and 250 words.\n",
    "\n",
    "`--== Write Your Reflection Below Here ==--`\n",
    "\n"
   ]
  },
  {
   "cell_type": "code",
   "execution_count": null,
   "metadata": {},
   "outputs": [],
   "source": [
    "# SAVE YOUR WORK FIRST! CTRL+S\n",
    "# RUN THIS CODE CELL TO TURN IN YOUR WORK!\n",
    "from ist256.submission import Submission\n",
    "Submission().submit()"
   ]
  },
  {
   "cell_type": "code",
   "execution_count": null,
   "metadata": {},
   "outputs": [],
   "source": []
  },
  {
   "cell_type": "markdown",
   "metadata": {},
   "source": [
    "with text\n",
    "\n",
    "extract first word, assuming that's a command\n",
    "the rest goes on the todo list\n"
   ]
  },
  {
   "cell_type": "markdown",
   "metadata": {},
   "source": [
    "add cheese pizza\n",
    "add shrimp\n",
    "add gas\n",
    "add add\n",
    "show\n"
   ]
  },
  {
   "cell_type": "markdown",
   "metadata": {},
   "source": [
    "TODO LIST:\n",
    "cheese\n",
    "shrimp\n",
    "gas"
   ]
  }
 ],
 "metadata": {
  "anaconda-cloud": {},
  "kernelspec": {
   "display_name": "Python 3",
   "language": "python",
   "name": "python3"
  },
  "language_info": {
   "codemirror_mode": {
    "name": "ipython",
    "version": 3
   },
   "file_extension": ".py",
   "mimetype": "text/x-python",
   "name": "python",
   "nbconvert_exporter": "python",
   "pygments_lexer": "ipython3",
   "version": "3.8.6"
  },
  "toc": {
   "base_numbering": 1,
   "nav_menu": {},
   "number_sections": false,
   "sideBar": false,
   "skip_h1_title": false,
   "title_cell": "Table of Contents",
   "title_sidebar": "Contents",
   "toc_cell": false,
   "toc_position": {},
   "toc_section_display": false,
   "toc_window_display": false
  }
 },
 "nbformat": 4,
 "nbformat_minor": 4
}
