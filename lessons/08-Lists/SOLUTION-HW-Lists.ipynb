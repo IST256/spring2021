{
 "cells": [
  {
   "cell_type": "markdown",
   "metadata": {},
   "source": [
    "# Homework: The Fudgemart Products Catalog\n",
    "\n",
    "\n",
    "## The Problem\n",
    "\n",
    "**Fudgemart**, a knockoff of a company with a similar name, has hired you to create a program to browse their product catalog. \n",
    "\n",
    "Write an ipython interactive program that allows the user to select a product category from the drop-down and then displays all of the fudgemart products within that category. You can accomplish this any way you like and the only requirements are you must:\n",
    "\n",
    "- load each product from the `fudgemart-products.txt` file into a list.\n",
    "- build the  list of product catagories dynamically ( you cannot hard-code the categories in)\n",
    "- print the product name and price for all products selected\n",
    "- use ipython interact to create a drop-down for the user interface.\n",
    "\n",
    "\n",
    "FILE FORMAT:\n",
    "\n",
    " - the file `fudgemart-products.txt`  has one row per product\n",
    " - each row is delimited by a `|` character.\n",
    " - there are three items in each row. category, product name, and price.\n",
    " - Example Row: `Hardware|Ball Peen Hammer|15.99`\n",
    "   - Category = `Hardware`\n",
    "   - Product = `Ball Peen Hammer`\n",
    "   - Price = `15.99`\n",
    "\n",
    "HINTS:\n",
    "\n",
    "- Draw upon the lessons and examples in the lab and small group. We covered using interact with a dropdown, reading from files into lists, etc.\n",
    "- There is a sample file, `test-fudgemart-products.txt` which you can use to test your code and not have to deal with the number of rows in the actual file `fudgemart-products.txt`. Your code should work with either file. \n",
    "- The unique challenge of this homework creating the list of prodct categories. You can do this when you read the file or use the list of all products to create the categories.\n",
    "\n"
   ]
  },
  {
   "cell_type": "markdown",
   "metadata": {
    "label": "problem_analysis_cell"
   },
   "source": [
    "## Part 1: Problem Analysis\n",
    "\n",
    "Inputs:\n",
    "\n",
    "```\n",
    "TODO: Inputs\n",
    "```\n",
    "\n",
    "Outputs:\n",
    "\n",
    "```\n",
    "TODO: Outputs\n",
    "```\n",
    "\n",
    "Algorithm (Steps in Program):  \n",
    "\n",
    "```\n",
    "TODO:Steps Here\n",
    "\n",
    "```"
   ]
  },
  {
   "cell_type": "markdown",
   "metadata": {},
   "source": [
    "## Part 2: Code Solution\n",
    "\n",
    "You may write your code in several cells, but place the complete, final working copy of your code solution within this single cell below. Only the within this cell will be considered your solution. Any imports or user-defined functions should be copied into this cell. "
   ]
  },
  {
   "cell_type": "code",
   "execution_count": 2,
   "metadata": {
    "label": "code_solution_cell"
   },
   "outputs": [
    {
     "name": "stdout",
     "output_type": "stream",
     "text": [
      "Fudgemart product catalog\n",
      "Choose a category\n"
     ]
    },
    {
     "data": {
      "application/vnd.jupyter.widget-view+json": {
       "model_id": "0553aa0b80dd495f9081b1b64b7f650e",
       "version_major": 2,
       "version_minor": 0
      },
      "text/plain": [
       "interactive(children=(Dropdown(description='Category', options=('Clothing', 'Electronics', 'Hardware', 'Housew…"
      ]
     },
     "metadata": {},
     "output_type": "display_data"
    }
   ],
   "source": [
    "# Step 2: Write code here\n",
    "from IPython.display import display, HTML, Image, clear_output\n",
    "from ipywidgets import interact, widgets\n",
    "\n",
    "def parseProduct(product):\n",
    "    cat,name,price = product.split(\"|\")\n",
    "    cat = cat.strip()\n",
    "    name = name.strip()\n",
    "    price = float(price)\n",
    "    return cat, name, price\n",
    "\n",
    "def buildCategories(products):\n",
    "    cats = []\n",
    "    for prod in products:\n",
    "        cat, prod, price = parseProduct(prod)\n",
    "        if not cat in cats:\n",
    "            cats.append(cat)\n",
    "    cats.sort()\n",
    "    return cats\n",
    "\n",
    "with open ('fudgemart-products.txt',\"r\") as f:\n",
    "    products = f.readlines()\n",
    "    cats = buildCategories(products)\n",
    "\n",
    "print(\"Fudgemart product catalog\")\n",
    "print(\"Choose a category\")\n",
    "@interact(Category=cats)\n",
    "def main(Category):\n",
    "    for prod in products:\n",
    "        cat,name,price = parseProduct(prod)\n",
    "        if cat == Category:\n",
    "            print(f\"{name}\\t${price:.2f}\")\n"
   ]
  },
  {
   "cell_type": "markdown",
   "metadata": {
    "label": "homework_questions_cell"
   },
   "source": [
    "## Part 3: Questions\n",
    "\n",
    "1. Explain the approach you used to build the prodcut categories.\n",
    "\n",
    "`--== Double-Click and Write Your Answer Below This Line ==--`  \n",
    "\n",
    "\n",
    "2. If you opened the `fudgemart-products.txt` and added a new product row at the end, would your program still run? Explain.\n",
    "\n",
    "`--== Double-Click and Write Your Answer Below This Line ==--`  \n",
    "\n",
    "\n",
    "3. Did you write any user-defined functions? If so, why? If not, why not?\n",
    "\n",
    "`--== Double-Click and Write Your Answer Below This Line ==--`  \n",
    "\n",
    "\n"
   ]
  },
  {
   "cell_type": "markdown",
   "metadata": {
    "label": "reflection_cell"
   },
   "source": [
    "## Part 4: Reflection\n",
    "\n",
    "Reflect upon your experience completing this assignment. This should be a personal narrative, in your own voice, and cite specifics relevant to the activity as to help the grader understand how you arrived at the code you submitted. Things to consider touching upon: Elaborate on the process itself. Did your original problem analysis work as designed?  How many iterations did you go through before you arrived at the solution? Where did you struggle along the way and how did you overcome it? What did you learn from completing the assignment? What do you need to work on to get better? What was most valuable and least valuable about this exercise? Do you have any suggestions for improvements?\n",
    "\n",
    "To make a good reflection, you should journal your thoughts, questions and comments while you complete the exercise.\n",
    "\n",
    "Keep your response to between 100 and 250 words.\n",
    "\n",
    "`--== Double-Click and Write Your Reflection Below Here ==--`  \n"
   ]
  },
  {
   "cell_type": "code",
   "execution_count": null,
   "metadata": {},
   "outputs": [],
   "source": [
    "# run this code to turn in your work!\n",
    "from coursetools.submission import Submission\n",
    "Submission().submit()"
   ]
  }
 ],
 "metadata": {
  "anaconda-cloud": {},
  "celltoolbar": "Edit Metadata",
  "kernelspec": {
   "display_name": "Python 3",
   "language": "python",
   "name": "python3"
  },
  "language_info": {
   "codemirror_mode": {
    "name": "ipython",
    "version": 3
   },
   "file_extension": ".py",
   "mimetype": "text/x-python",
   "name": "python",
   "nbconvert_exporter": "python",
   "pygments_lexer": "ipython3",
   "version": "3.8.6"
  },
  "toc": {
   "base_numbering": 1,
   "nav_menu": {},
   "number_sections": false,
   "sideBar": false,
   "skip_h1_title": false,
   "title_cell": "Table of Contents",
   "title_sidebar": "Contents",
   "toc_cell": false,
   "toc_position": {},
   "toc_section_display": false,
   "toc_window_display": false
  }
 },
 "nbformat": 4,
 "nbformat_minor": 4
}
