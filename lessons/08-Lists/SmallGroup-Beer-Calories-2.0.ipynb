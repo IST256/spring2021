{
 "cells": [
  {
   "cell_type": "markdown",
   "metadata": {},
   "source": [
    "# Now You Code In Class: Beer Calories 2.0\n",
    "\n",
    "Let's improve the Beer Calories program from the previous unit. If you don't recall this example, \n",
    "\n",
    "Load the beer names and calories into two lists respectively. Use two more lists to keep track of the beers you drank and calories consumed.\n",
    "\n",
    "Then write a program which:\n",
    "\n",
    "loops until you enter 'quit' each time recording the name of the beer and its calories in the consumed lists.\n",
    "\n",
    "After you type quit print out all the beers you drank and the total calories. \n",
    "\n",
    "\n",
    "Sample run :\n",
    "\n",
    "```\n",
    "This program will tell you the total calories of the beers you drank.\n",
    "\n",
    "Enter the beer you drank, or type quit: Budweiser\n",
    "- Added Budweiser with 145.0 to your drink list.\n",
    "Enter the beer you drank, or type quit: Miller Light\n",
    "- Beer named Miller Light is not in the list.\n",
    "Enter the beer you drank, or type quit: Miller Lite\n",
    "- Added Miller Lite with 96.0 to your drink list.\n",
    "Enter the beer you drank, or type quit: quit\n",
    "\n",
    "You drank 2 beers.\n",
    "Beers you drank:\n",
    "- Budweiser\n",
    "- Miller Lite\n",
    "Total calories consumed: 241.0\n",
    "```\n"
   ]
  },
  {
   "cell_type": "code",
   "execution_count": 1,
   "metadata": {},
   "outputs": [
    {
     "name": "stdout",
     "output_type": "stream",
     "text": [
      "  % Total    % Received % Xferd  Average Speed   Time    Time     Time  Current\n",
      "                                 Dload  Upload   Total   Spent    Left  Speed\n",
      "  0     0    0     0    0     0      0      0 --:--:--  0:00:02 --:--:--     0\n",
      "curl: (7) Failed to connect to 128.230.247.170 port 30000: No route to host\n"
     ]
    }
   ],
   "source": [
    "!curl https://raw.githubusercontent.com/mafudge/datasets/master/ist256/08-Lists/beer-calories.txt -o beer-calories.txt"
   ]
  },
  {
   "cell_type": "code",
   "execution_count": 3,
   "metadata": {},
   "outputs": [
    {
     "name": "stdout",
     "output_type": "stream",
     "text": [
      "Could not find data file 'beer-calories.txt'\n"
     ]
    }
   ],
   "source": [
    "filename = \"beer-calories.txt\"\n",
    "try:\n",
    "    with open (filename,\"r\") as f:\n",
    "        beer = input(\"Enter a beer name: \").title()\n",
    "        print(\"Searching for %s...\" % (beer))\n",
    "        for line in f.readlines():\n",
    "            if beer in line:\n",
    "                beer_name = line.split(',')[0]\n",
    "                calories = int(line.split(',')[1])\n",
    "                print(\"%s has %d calories per 12oz.\" % (beer_name, calories))\n",
    "                break\n",
    "        else:\n",
    "            print(\"I could not find %s\" % (beer))\n",
    "except FileNotFoundError:\n",
    "    print(\"Could not find data file '%s'\" % (filename))"
   ]
  },
  {
   "cell_type": "code",
   "execution_count": 19,
   "metadata": {},
   "outputs": [
    {
     "name": "stdout",
     "output_type": "stream",
     "text": [
      "What beer did you drink, or type quit: Beck's\n",
      "What beer did you drink, or type quit: Budweiser\n",
      "What beer did you drink, or type quit: quit\n",
      "The beers you drank [\"Beck's\", 'Budweiser']\n",
      "Total calories 288.0\n"
     ]
    }
   ],
   "source": [
    "beers = []\n",
    "calories = []\n",
    "your_beers = []\n",
    "your_calories = []\n",
    "file = 'NYC0-beer-calories.txt'\n",
    "\n",
    "# TODO Write code here\n",
    "def read_beers(filename):\n",
    "    # todo \n",
    "    beers = []\n",
    "    cals = []\n",
    "    with open(filename,\"r\") as f:\n",
    "        for line in f:\n",
    "            pos = line.find(\",\")\n",
    "            beer = line[:pos].strip()\n",
    "            cal = float(line[pos+1:])\n",
    "            beers.append(beer)\n",
    "            cals.append(cal)\n",
    "    return beers, cals\n",
    "\n",
    "\n",
    "beers, calories = read_beers('NYC0-beer-calories.txt')\n",
    "while True:\n",
    "    beer = input(\"What beer did you drink, or type quit: \")\n",
    "    if beer == 'quit':\n",
    "        break\n",
    "        \n",
    "    if beer in beers:\n",
    "        pos = beers.index(beer)\n",
    "        cal = calories[pos]\n",
    "        your_beers.append(beer)\n",
    "        your_calories.append(cal)\n",
    "    else:\n",
    "        print(\"That is not on the beer list\")\n",
    "        \n",
    "print(f\"The beers you drank {your_beers}\")\n",
    "print(f\"Total calories {sum(your_calories)}\")"
   ]
  },
  {
   "cell_type": "code",
   "execution_count": 16,
   "metadata": {},
   "outputs": [
    {
     "data": {
      "text/plain": [
       "145.0"
      ]
     },
     "execution_count": 16,
     "metadata": {},
     "output_type": "execute_result"
    }
   ],
   "source": [
    "pos = beers.index(\"Budweiser\")\n",
    "calories[pos]"
   ]
  },
  {
   "cell_type": "markdown",
   "metadata": {},
   "source": [
    "read in the calories and beer\n",
    "loop:\n",
    "    input a beer\n",
    "    if beer is quit stop program\n",
    "    \n",
    "    if beer in lisut of beers\n",
    "    find the beer position\n",
    "    add the beer and the calories to other list\n",
    "    \n",
    "when stopped\n",
    "print beers\n",
    "print total calories\n"
   ]
  },
  {
   "cell_type": "code",
   "execution_count": null,
   "metadata": {},
   "outputs": [],
   "source": []
  }
 ],
 "metadata": {
  "anaconda-cloud": {},
  "kernelspec": {
   "display_name": "Python 3",
   "language": "python",
   "name": "python3"
  },
  "language_info": {
   "codemirror_mode": {
    "name": "ipython",
    "version": 3
   },
   "file_extension": ".py",
   "mimetype": "text/x-python",
   "name": "python",
   "nbconvert_exporter": "python",
   "pygments_lexer": "ipython3",
   "version": "3.8.6"
  },
  "toc": {
   "base_numbering": 1,
   "nav_menu": {},
   "number_sections": false,
   "sideBar": false,
   "skip_h1_title": false,
   "title_cell": "Table of Contents",
   "title_sidebar": "Contents",
   "toc_cell": false,
   "toc_position": {},
   "toc_section_display": false,
   "toc_window_display": false
  }
 },
 "nbformat": 4,
 "nbformat_minor": 1
}
