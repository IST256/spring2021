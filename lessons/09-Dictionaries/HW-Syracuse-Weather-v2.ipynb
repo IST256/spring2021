{
 "cells": [
  {
   "cell_type": "markdown",
   "metadata": {},
   "source": [
    "# Now You Code 5: Syracuse Weather\n",
    "\n",
    "Write a program to load the Syracuse weather data from Dec 2015 in\n",
    "JSON format into a Python list of dictionary. \n",
    "\n",
    "The file with the weather data is: `\"NYC5-syr-weather-dec-2015.json\"`\n",
    "\n",
    "You should load this data into a Python list of dictionary using the `json` package. \n",
    "\n",
    "After you load this data, loop over the list of weather items and record each of the different weather events (found under the `\"Events\"`) key into another Python dictionary, talling the different types of weather events across the 31 days of December.\n",
    "\n",
    "When done correctly your output should be: \n",
    "```\n",
    "{'Rain': 14, None: 7, 'Fog': 2, 'Snow': 2, 'Fog-Rain': 3, 'Rain-Snow': 3}\n",
    "```\n",
    "\n",
    "Write the dictionary to a Python file called `dec-2015-events.json`.\n",
    "\n",
    "\n",
    "## Problem Simplification\n",
    "\n",
    "This is a conceptually difficult problem and the solution is classic Python: 10 lines of code and quite cryptic looking. The best approach is to use **problem  simplifcation** to once again arrive at the answer. This program is too complicated to write all at once! Let's break it up into parts.\n",
    "\n",
    "Parts: \n",
    "1. Write a program to read `\"NYC5-syr-weather-dec-2015.json\"` into a python list of dict variable named `weather`\n",
    "2. With the `weather` variable print all the `\"Events\" keys. There should be 31 weather events one for each day in December\n",
    "3. Now that you know how to write the loop, modify the loop to add keys to another dictionary `events` where the value is the number of occurences of the event\n",
    "4. write the `events` Python dictionary as JSON to a file called `dec-2015-events.json`.\n",
    "5. Assemble parts 1 through 4 into a single program.\n",
    "\n",
    "NOTE: In the problem analysis sections, the inputs and outputs are provided, but you must write the algorithms.\n"
   ]
  },
  {
   "cell_type": "markdown",
   "metadata": {},
   "source": [
    "## Part 1:  Step 1: Problem Analysis\n",
    "\n",
    "\n",
    "Write a program to read `\"NYC5-syr-weather-dec-2015.json\"` into a python list of dictionary.\n",
    "\n",
    "Inputs: text in the file `\"NYC5-syr-weather-dec-2015.json\"`\n",
    "\n",
    "Outputs: a python variable named `weather` of type `list` with each element of type `dict`\n",
    "\n",
    "Algorithm (Steps in Program):\n",
    "\n"
   ]
  },
  {
   "cell_type": "code",
   "execution_count": 12,
   "metadata": {},
   "outputs": [],
   "source": [
    "# Part 1 : Step 2 Write Code\n"
   ]
  },
  {
   "cell_type": "markdown",
   "metadata": {},
   "source": [
    "## Part 2: Step 1: Problem Analysis\n",
    "\n",
    "Contine the program, looping over the `weather` list and printing the \"Events\" keys.\n",
    "\n",
    "Inputs: `weather` variable from previous step\n",
    "\n",
    "Outputs: 31 \"Events\" (one for each day of weather in December)\n",
    "\n",
    "Algorithm (Steps in Program):\n"
   ]
  },
  {
   "cell_type": "code",
   "execution_count": 13,
   "metadata": {},
   "outputs": [],
   "source": [
    "# part 2:  step 2 write code\n"
   ]
  },
  {
   "cell_type": "markdown",
   "metadata": {},
   "source": [
    "## Part 3: Step 1: Problem Analysis\n",
    "\n",
    "Now that you know how to write the loop, modify the loop to add keys to another dictionary `events` where the value is the number of occurences of the event\n",
    "\n",
    "Inputs: `weather` variable from previous step, empty dictionary named `events`\n",
    "\n",
    "Outputs: `events` dictionary where they keys are the event names and the value is the number of times the event occured in December\n",
    "\n",
    "Algorithm (Steps in Program):\n"
   ]
  },
  {
   "cell_type": "code",
   "execution_count": 14,
   "metadata": {},
   "outputs": [],
   "source": [
    "# Part 3: Step 2 write code\n",
    "\n",
    "    "
   ]
  },
  {
   "cell_type": "markdown",
   "metadata": {},
   "source": [
    "## Part 4: Step 1: Problem Analysis\n",
    "\n",
    "write the `events` Python dictionary as JSON to a file called `dec-2015-events.json`\n",
    "\n",
    "Inputs: `events` Python dictionary\n",
    "\n",
    "Outputs: print the dictionary, then write to the file `dec-2015-events.json` in JSON format.\n",
    "\n",
    "Algorithm (Steps in Program):\n",
    "    \n",
    "    "
   ]
  },
  {
   "cell_type": "code",
   "execution_count": 15,
   "metadata": {},
   "outputs": [],
   "source": [
    "# Part 4: Step 2: write code\n",
    "\n"
   ]
  },
  {
   "cell_type": "markdown",
   "metadata": {},
   "source": [
    "## Part 5 Write the final program\n",
    "\n",
    "Take parts 1 through 4 and create a running program in a single cell! Don't just copy and paste it all THINK about what you really need."
   ]
  },
  {
   "cell_type": "code",
   "execution_count": 16,
   "metadata": {},
   "outputs": [],
   "source": [
    "# part 5 re-write code here\n",
    "\n"
   ]
  },
  {
   "cell_type": "markdown",
   "metadata": {},
   "source": [
    "## Step 3: Questions\n",
    "\n",
    "1. What are the advantages to storing the weather events in a Python dictionary?\n",
    "\n",
    "Answer:\n",
    "\n",
    "\n",
    "2. What is the data type of the weather data as it is read from the file `NYC5-syr-weather-dec-2015.json` ?\n",
    "\n",
    "Answer:\n",
    "\n",
    "\n",
    "3. Could this same program work for weather at other times in other cities? What conditions would need to be met for this to happen?\n",
    "\n",
    "Answer:\n",
    "\n"
   ]
  },
  {
   "cell_type": "markdown",
   "metadata": {},
   "source": [
    "## Step 4: Reflection\n",
    "\n",
    "Reflect upon your experience completing this assignment. This should be a personal narrative, in your own voice, and cite specifics relevant to the activity as to help the grader understand how you arrived at the code you submitted. Things to consider touching upon: Elaborate on the process itself. Did your original problem analysis work as designed?  How many iterations did you go through before you arrived at the solution? Where did you struggle along the way and how did you overcome it? What did you learn from completing the assignment? What do you need to work on to get better? What was most valuable and least valuable about this exercise? Do you have any suggestions for improvements?\n",
    "\n",
    "To make a good reflection, you should journal your thoughts, questions and comments while you complete the exercise.\n",
    "\n",
    "Keep your response to between 100 and 250 words.\n",
    "\n",
    "`--== Write Your Reflection Below Here ==--`\n",
    "\n"
   ]
  },
  {
   "cell_type": "code",
   "execution_count": null,
   "metadata": {},
   "outputs": [],
   "source": [
    "# SAVE YOUR WORK FIRST! CTRL+S\n",
    "# RUN THIS CODE CELL TO TURN IN YOUR WORK!\n",
    "from ist256.submission import Submission\n",
    "Submission().submit()"
   ]
  }
 ],
 "metadata": {
  "anaconda-cloud": {},
  "kernelspec": {
   "display_name": "Python 3",
   "language": "python",
   "name": "python3"
  },
  "language_info": {
   "codemirror_mode": {
    "name": "ipython",
    "version": 3
   },
   "file_extension": ".py",
   "mimetype": "text/x-python",
   "name": "python",
   "nbconvert_exporter": "python",
   "pygments_lexer": "ipython3",
   "version": "3.7.6"
  },
  "toc": {
   "base_numbering": 1,
   "nav_menu": {},
   "number_sections": false,
   "sideBar": false,
   "skip_h1_title": false,
   "title_cell": "Table of Contents",
   "title_sidebar": "Contents",
   "toc_cell": false,
   "toc_position": {},
   "toc_section_display": false,
   "toc_window_display": false
  }
 },
 "nbformat": 4,
 "nbformat_minor": 4
}
