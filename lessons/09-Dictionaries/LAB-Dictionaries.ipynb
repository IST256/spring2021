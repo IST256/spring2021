{
 "cells": [
  {
   "cell_type": "markdown",
   "metadata": {},
   "source": [
    "# In-Class Coding Lab: Dictionaries\n",
    "\n",
    "The goals of this lab are to help you understand:\n",
    "\n",
    " - How to use Python Dictionaries\n",
    " - Basic Dictionary methods\n",
    " - Dealing with Key errors\n",
    " - How to use lists of Dictionaries\n",
    " - How to encode / decode python dictionaries to json.\n",
    " \n",
    "## Dictionaries are Key-Value Pairs.\n",
    "\n",
    "The **key** is unique for each Python dictionary object and is always of type `str`. The **value** stored under the key can be any Python type. \n",
    "\n",
    "This example creates a `stock` variable with two keys `symbol` and `name`. We access the dictionary key with `['keyname']`."
   ]
  },
  {
   "cell_type": "code",
   "execution_count": 1,
   "metadata": {},
   "outputs": [
    {
     "name": "stdout",
     "output_type": "stream",
     "text": [
      "{'symbol': 'AAPL', 'name': 'Apple Computer'}\n",
      "AAPL\n",
      "Apple Computer\n"
     ]
    }
   ],
   "source": [
    "stock = {} # empty dictionary\n",
    "stock['symbol'] = 'AAPL'\n",
    "stock['name'] = 'Apple Computer'\n",
    "print(stock)\n",
    "print(stock['symbol'])\n",
    "print(stock['name'])"
   ]
  },
  {
   "cell_type": "markdown",
   "metadata": {},
   "source": [
    "While Python lists are best suited for storing multiple values of the same type ( like grades ), Python dictionaries are best suited for storing hybrid values, or values with multiple attributes.\n",
    "\n",
    "In the example above we created an empty dictionary `{}` then assigned keys `symbol` and `name` as part of individual assignment statements.\n",
    "\n",
    "We can also build the dictionary in a single statement, like this:"
   ]
  },
  {
   "cell_type": "code",
   "execution_count": 2,
   "metadata": {},
   "outputs": [
    {
     "name": "stdout",
     "output_type": "stream",
     "text": [
      "{'name': 'Apple Computer', 'symbol': 'AAPL', 'value': 125.6}\n",
      "Apple Computer (AAPL) has a value of $125.60\n"
     ]
    }
   ],
   "source": [
    "stock = { 'name' : 'Apple Computer', 'symbol' : 'AAPL', 'value' : 125.6 }\n",
    "print(stock)\n",
    "print(\"%s (%s) has a value of $%.2f\" %(stock['name'], stock['symbol'], stock['value']))"
   ]
  },
  {
   "cell_type": "markdown",
   "metadata": {},
   "source": [
    "## Dictionaries are mutable\n",
    "\n",
    "This means we can change their value. We can add and remove keys and update the value of keys. This makes dictionaries quite useful for storing  data."
   ]
  },
  {
   "cell_type": "code",
   "execution_count": 3,
   "metadata": {},
   "outputs": [
    {
     "name": "stdout",
     "output_type": "stream",
     "text": [
      "Before changes {'name': 'Apple Computer', 'symbol': 'AAPL', 'value': 125.6}\n",
      "After change {'name': 'Apple Computer', 'symbol': 'AAPL', 'value': 126.25, 'low': 119.85, 'high': 127.0}\n"
     ]
    }
   ],
   "source": [
    "# let's add 2 new keys\n",
    "print(\"Before changes\", stock)\n",
    "stock['low'] = 119.85\n",
    "stock['high'] = 127.0\n",
    "\n",
    "# and update the value key\n",
    "stock['value'] = 126.25\n",
    "print(\"After change\", stock)\n"
   ]
  },
  {
   "cell_type": "markdown",
   "metadata": {},
   "source": [
    "## Now you Try It!\n",
    "\n",
    "Create a python dictionary called `car` with the following keys `make`, `model` and `price`. Set appropriate values and print out the dictionary.\n"
   ]
  },
  {
   "cell_type": "code",
   "execution_count": null,
   "metadata": {},
   "outputs": [],
   "source": [
    "# TODO: Write code here \n",
    "\n"
   ]
  },
  {
   "cell_type": "markdown",
   "metadata": {},
   "source": [
    "## What Happens when the key is not there?\n",
    "\n",
    "Let's go back to our stock example. What happens when we try to read a key not present in the dictionary? \n",
    "\n",
    "The answer is that Python will report a `KeyError` "
   ]
  },
  {
   "cell_type": "code",
   "execution_count": 4,
   "metadata": {},
   "outputs": [
    {
     "ename": "KeyError",
     "evalue": "'change'",
     "output_type": "error",
     "traceback": [
      "\u001b[0;31m---------------------------------------------------------------------------\u001b[0m",
      "\u001b[0;31mKeyError\u001b[0m                                  Traceback (most recent call last)",
      "\u001b[0;32m<ipython-input-4-28c6e1db7ee9>\u001b[0m in \u001b[0;36m<module>\u001b[0;34m\u001b[0m\n\u001b[0;32m----> 1\u001b[0;31m \u001b[0mprint\u001b[0m\u001b[0;34m(\u001b[0m \u001b[0mstock\u001b[0m\u001b[0;34m[\u001b[0m\u001b[0;34m'change'\u001b[0m\u001b[0;34m]\u001b[0m \u001b[0;34m)\u001b[0m\u001b[0;34m\u001b[0m\u001b[0;34m\u001b[0m\u001b[0m\n\u001b[0m",
      "\u001b[0;31mKeyError\u001b[0m: 'change'"
     ]
    }
   ],
   "source": [
    "print( stock['change'] )"
   ]
  },
  {
   "cell_type": "markdown",
   "metadata": {},
   "source": [
    "No worries. We know how to handle run-time errors in Python... use `try except` !!!"
   ]
  },
  {
   "cell_type": "code",
   "execution_count": 5,
   "metadata": {},
   "outputs": [
    {
     "name": "stdout",
     "output_type": "stream",
     "text": [
      "The key 'change' does not exist!\n"
     ]
    }
   ],
   "source": [
    "try:\n",
    "    print( stock['change'] )\n",
    "except KeyError:\n",
    "    print(\"The key 'change' does not exist!\")"
   ]
  },
  {
   "cell_type": "markdown",
   "metadata": {},
   "source": [
    "## Avoiding KeyError\n",
    "\n",
    "You can avoid `KeyError` using the `get()` dictionary method. This method will return a default value when the key does not exist.\n",
    "\n",
    "The first argument to `get()` is the key to get, the second argument is the value to return when the key does not exist. "
   ]
  },
  {
   "cell_type": "code",
   "execution_count": 6,
   "metadata": {},
   "outputs": [
    {
     "name": "stdout",
     "output_type": "stream",
     "text": [
      "Apple Computer\n",
      "no key\n"
     ]
    }
   ],
   "source": [
    "print(stock.get('name','no key'))\n",
    "print(stock.get('change', 'no key'))"
   ]
  },
  {
   "cell_type": "markdown",
   "metadata": {},
   "source": [
    "## Now You try It!\n",
    "\n",
    "Write a program to ask the user to input a key for the `stock` variable. \n",
    "\n",
    "If the key exists, print the value, otherwise print 'Key does not exist'"
   ]
  },
  {
   "cell_type": "code",
   "execution_count": null,
   "metadata": {},
   "outputs": [],
   "source": [
    "# TODO: write code here\n",
    "\n"
   ]
  },
  {
   "cell_type": "markdown",
   "metadata": {},
   "source": [
    "## Enumerating keys and values\n",
    "\n",
    "You can enumerate keys and values easily, using the `keys()` and `values()` methods:"
   ]
  },
  {
   "cell_type": "code",
   "execution_count": null,
   "metadata": {},
   "outputs": [],
   "source": [
    "print(\"KEYS\")\n",
    "for k in stock.keys():\n",
    "    print(k)\n",
    "    \n",
    "print(\"VALUES\")\n",
    "for v in stock.values():\n",
    "    print(v)"
   ]
  },
  {
   "cell_type": "markdown",
   "metadata": {},
   "source": [
    "## List of Dictionary\n",
    "\n",
    "The List of Dictionary object in Python allows us to create useful in-memory data structures. It's one of the features of Python that sets it apart from other programming languages. \n",
    "\n",
    "Let's use it to build a portfolio (list of 4 stocks)."
   ]
  },
  {
   "cell_type": "code",
   "execution_count": 7,
   "metadata": {},
   "outputs": [
    {
     "name": "stdout",
     "output_type": "stream",
     "text": [
      "first stock {'symbol': 'AAPL', 'name': 'Apple Computer Corp.', 'value': 136.66}\n",
      "name of first stock Apple Computer Corp.\n",
      "last stock {'symbol': 'TSLA', 'name': 'Tesla, Inc.', 'value': 257.0}\n",
      "value of 2nd stock 845.24\n"
     ]
    }
   ],
   "source": [
    "portfolio = [\n",
    "    { 'symbol' : 'AAPL', 'name' : 'Apple Computer Corp.', 'value': 136.66 },\n",
    "    { 'symbol' : 'AMZN', 'name' : 'Amazon.com, Inc.', 'value': 845.24 },\n",
    "    { 'symbol' : 'MSFT', 'name' : 'Microsoft Corporation', 'value': 64.62 },\n",
    "    { 'symbol' : 'TSLA', 'name' : 'Tesla, Inc.', 'value': 257.00 }    \n",
    "]\n",
    "\n",
    "print(\"first stock\", portfolio[0])           \n",
    "print(\"name of first stock\", portfolio[0]['name'])   \n",
    "print(\"last stock\", portfolio[-1])          \n",
    "print(\"value of 2nd stock\",  portfolio[1]['value'])  \n"
   ]
  },
  {
   "cell_type": "code",
   "execution_count": 8,
   "metadata": {},
   "outputs": [
    {
     "name": "stdout",
     "output_type": "stream",
     "text": [
      "Here's a loop:\n",
      "  Apple Computer Corp. $136.66\n",
      "  Amazon.com, Inc. $845.24\n",
      "  Microsoft Corporation $64.62\n",
      "  Tesla, Inc. $257.0\n"
     ]
    }
   ],
   "source": [
    "print(\"Here's a loop:\")\n",
    "for stock in portfolio:\n",
    "    print(f\"  {stock['name']} ${stock['value']}\")"
   ]
  },
  {
   "cell_type": "markdown",
   "metadata": {},
   "source": [
    "### Now You Try it!\n",
    "\n",
    "Write a for loop to print the stock symbol and value of all stocks."
   ]
  },
  {
   "cell_type": "markdown",
   "metadata": {},
   "source": [
    "## Putting It All Together\n",
    "\n",
    "Write a program to build out your personal stock portfolio.\n",
    "\n",
    "```\n",
    "1. Start with an empty list, called portfolio\n",
    "2. loop\n",
    "3.     create a new stock dictionary\n",
    "3.     input a stock symbol, or type 'QUIT' to print portfolio\n",
    "4.     if symbol equals 'QUIT' exit loop\n",
    "5.     add symbol value to stock dictionary under 'symbol' key\n",
    "6.     input stock value as float\n",
    "7.     add stock value to stock dictionary under 'value key\n",
    "8.     append stock variable to portfolio list variable\n",
    "9. time to print the portfolio: for each stock in the portfolio\n",
    "10.    print stock symbol and stock value, like this \"AAPL $136.66\"\n",
    "```"
   ]
  },
  {
   "cell_type": "code",
   "execution_count": 13,
   "metadata": {},
   "outputs": [
    {
     "name": "stdout",
     "output_type": "stream",
     "text": [
      "Enter stock symbol or quit: IBM\n",
      "Enter value for stock IBM: 100\n",
      "Enter stock symbol or quit: AAPL\n",
      "Enter value for stock AAPL: 150.50\n",
      "Enter stock symbol or quit: GOOG\n",
      "Enter value for stock GOOG: 1500\n",
      "Enter stock symbol or quit: quit\n",
      "IBM\t$100.0\n",
      "AAPL\t$150.5\n",
      "GOOG\t$1500.0\n"
     ]
    }
   ],
   "source": [
    "stocks = []\n",
    "while True:\n",
    "    stock = {}\n",
    "    symbol = input(\"Enter stock symbol or quit: \")\n",
    "    if symbol == 'quit': break\n",
    "    stock['symbol'] = symbol\n",
    "    value = float(input(f\"Enter value for stock {symbol}: \"))\n",
    "    stock['value'] = value\n",
    "    stocks.append(stock)\n",
    "\n",
    "for s in stocks:\n",
    "    print(f\"{s['symbol']}\\t${s['value']}\")"
   ]
  },
  {
   "cell_type": "code",
   "execution_count": 14,
   "metadata": {},
   "outputs": [],
   "source": [
    "with open ('stocks.txt', \"w\") as f:\n",
    "    for s in stocks:\n",
    "        f.write(f\"{s}\\n\")"
   ]
  },
  {
   "cell_type": "markdown",
   "metadata": {},
   "source": [
    "## Metacognition\n",
    "\n",
    "Please answer the following questions. This should be a personal narrative, in your own voice. Answer the questions by double clicking on the question and placing your answer next to the Answer: prompt.\n",
    "\n",
    "\n",
    "### Questions\n",
    "\n",
    "1. Record any questions you have about this lab that you would like to ask in recitation. It is expected you will have questions if you did not complete the code sections correctly.  Learning how to articulate what you do not understand is an important skill of critical thinking. \n",
    "\n",
    "Answer: \n",
    "\n",
    "2. What was the most difficult aspect of completing this lab? Least difficult?  \n",
    "\n",
    "Answer: \n",
    "\n",
    "3. What aspects of this lab do you find most valuable? Least valuable?\n",
    "\n",
    "Answer: \n",
    "\n",
    "4. Rate your comfort level with this week's material so far.   \n",
    "\n",
    "1 ==> I can do this on my own and explain how to do it.   \n",
    "2 ==> I can do this on my own without any help.   \n",
    "3 ==> I can do this with help or guidance from others. If you choose this level please list those who helped you.   \n",
    "4 ==> I don't understand this at all yet and need extra help. If you choose this please try to articulate that which you do not understand.   \n",
    "\n",
    "Answer: \n",
    "\n"
   ]
  },
  {
   "cell_type": "code",
   "execution_count": null,
   "metadata": {},
   "outputs": [],
   "source": [
    "# SAVE YOUR WORK FIRST! CTRL+S\n",
    "# RUN THIS CODE CELL TO TURN IN YOUR WORK!\n",
    "from ist256.submission import Submission\n",
    "Submission().submit()"
   ]
  }
 ],
 "metadata": {
  "anaconda-cloud": {},
  "kernelspec": {
   "display_name": "Python 3",
   "language": "python",
   "name": "python3"
  },
  "language_info": {
   "codemirror_mode": {
    "name": "ipython",
    "version": 3
   },
   "file_extension": ".py",
   "mimetype": "text/x-python",
   "name": "python",
   "nbconvert_exporter": "python",
   "pygments_lexer": "ipython3",
   "version": "3.7.6"
  },
  "toc": {
   "base_numbering": 1,
   "nav_menu": {},
   "number_sections": false,
   "sideBar": false,
   "skip_h1_title": false,
   "title_cell": "Table of Contents",
   "title_sidebar": "Contents",
   "toc_cell": false,
   "toc_position": {},
   "toc_section_display": false,
   "toc_window_display": false
  }
 },
 "nbformat": 4,
 "nbformat_minor": 4
}
