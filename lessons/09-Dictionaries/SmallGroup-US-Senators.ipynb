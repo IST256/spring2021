{
 "cells": [
  {
   "cell_type": "markdown",
   "metadata": {},
   "source": [
    "# Now You Code In Class : US Senators\n",
    "\n",
    "CHANGE TO FUDGEMART SHOPPING CART\n",
    "\n",
    "Write a program to load the JSON data file `'NYC0-US-Senators-2019.json'` *** and perform a data analysis over the file. It should load the file as a list of dictionary and then allow the user to perform the following functions:\n",
    "\n",
    "\n",
    "1. List a count of senators by party affiliation\n",
    "2. List a count senators gender.\n",
    "\n",
    "Consider writing 1. and 2. as functions which take the list of senators as input and output a dictionary of the party and gender counts respectively. \n",
    "\n",
    "HINT: Build dictionary of the values and and count them. That way you don't have to know the the parties or genders in advance. Basically this works like the word count example from the severance reading and is a common approach used in computing to aggegrate values. \n",
    "\n",
    "\n",
    "\n",
    "Sample run:\n",
    "\n",
    "```\n",
    "Analysis of US Senators: \n",
    "Party Counts {'republican': 53, 'democrat': 45, 'independent': 2}\n",
    "Gender Counts {'male': 75, 'female': 25}\n",
    "```\n",
    "\n",
    "\n",
    "*** This file was extracted from: https://www.govtrack.us/api/v2/role?current=true&role_type=senator\n"
   ]
  },
  {
   "cell_type": "markdown",
   "metadata": {},
   "source": [
    "## Step 1: Problem Analysis\n",
    "\n",
    "Inputs:\n",
    "\n",
    "Outputs: \n",
    "\n",
    "Algorithm (Steps in Program):\n"
   ]
  },
  {
   "cell_type": "code",
   "execution_count": 30,
   "metadata": {},
   "outputs": [
    {
     "data": {
      "text/plain": [
       "'Sen. Kelly Loeffler [R-GA]'"
      ]
     },
     "execution_count": 30,
     "metadata": {},
     "output_type": "execute_result"
    }
   ],
   "source": [
    "import json \n",
    "\n",
    "def de_serialize_json(filename):\n",
    "    with open(filename, 'r') as f:\n",
    "        data = f.read()\n",
    "        result = json.loads(data)\n",
    "\n",
    "    return result\n",
    "\n",
    "\n",
    "def load_senators(filename):\n",
    "    with open(filename, 'r') as f:\n",
    "        data = f.read()\n",
    "        senators = json.loads(data)\n",
    "\n",
    "    return senators\n",
    "\n",
    "\n",
    "senators = de_serialize_json('US-Senators-2019.json')\n"
   ]
  },
  {
   "cell_type": "code",
   "execution_count": 48,
   "metadata": {},
   "outputs": [
    {
     "name": "stdout",
     "output_type": "stream",
     "text": [
      "{'Republican': 53, 'Democrat': 45, 'Independent': 2}\n",
      "{'male': 74, 'female': 26}\n",
      "{'Senior': 50, 'Junior': 50}\n"
     ]
    }
   ],
   "source": [
    "party = {}\n",
    "gender = {}\n",
    "ranks = {}\n",
    "for s in senators: \n",
    "    \n",
    "    # uses .get to count keys\n",
    "    key = s['party']\n",
    "    party[ key ] = party.get(key,0) + 1\n",
    "    \n",
    "    # uses an if to count keys\n",
    "    key = s['person']['gender']\n",
    "    if key in gender.keys():\n",
    "        gender[key] = gender[key] + 1 \n",
    "    else:\n",
    "        gender[key] = 1\n",
    "        \n",
    "    key = s['senator_rank_label']\n",
    "    ranks[key] = ranks.get(key,0) + 1\n",
    "    \n",
    "print(party)\n",
    "print(gender)\n",
    "print(ranks)"
   ]
  },
  {
   "cell_type": "code",
   "execution_count": 2,
   "metadata": {},
   "outputs": [
    {
     "data": {
      "text/plain": [
       "{'caucus': None,\n",
       " 'congress_numbers': [115, 116, 117],\n",
       " 'current': True,\n",
       " 'description': 'Senior Senator for Vermont',\n",
       " 'district': None,\n",
       " 'enddate': '2023-01-03',\n",
       " 'extra': {'address': '437 Russell Senate Office Building Washington DC 20510',\n",
       "  'contact_form': 'https://www.leahy.senate.gov/contact/',\n",
       "  'fax': '202-224-3479',\n",
       "  'office': '437 Russell Senate Office Building',\n",
       "  'rss_url': 'http://www.leahy.senate.gov/rss/feeds/press/'},\n",
       " 'leadership_title': None,\n",
       " 'party': 'Democrat',\n",
       " 'person': {'bioguideid': 'L000174',\n",
       "  'birthday': '1940-03-31',\n",
       "  'cspanid': 1552,\n",
       "  'firstname': 'Patrick',\n",
       "  'gender': 'male',\n",
       "  'gender_label': 'Male',\n",
       "  'lastname': 'Leahy',\n",
       "  'link': 'https://www.govtrack.us/congress/members/patrick_leahy/300065',\n",
       "  'middlename': 'J.',\n",
       "  'name': 'Sen. Patrick Leahy [D-VT]',\n",
       "  'namemod': '',\n",
       "  'nickname': '',\n",
       "  'osid': 'N00009918',\n",
       "  'pvsid': '53353',\n",
       "  'sortname': 'Leahy, Patrick (Sen.) [D-VT]',\n",
       "  'twitterid': 'SenatorLeahy',\n",
       "  'youtubeid': 'SenatorPatrickLeahy'},\n",
       " 'phone': '202-224-4242',\n",
       " 'role_type': 'senator',\n",
       " 'role_type_label': 'Senator',\n",
       " 'senator_class': 'class3',\n",
       " 'senator_class_label': 'Class 3',\n",
       " 'senator_rank': 'senior',\n",
       " 'senator_rank_label': 'Senior',\n",
       " 'startdate': '2017-01-03',\n",
       " 'state': 'VT',\n",
       " 'title': 'Sen.',\n",
       " 'title_long': 'Senator',\n",
       " 'website': 'https://www.leahy.senate.gov'}"
      ]
     },
     "execution_count": 2,
     "metadata": {},
     "output_type": "execute_result"
    }
   ],
   "source": [
    "senators[2]"
   ]
  },
  {
   "cell_type": "code",
   "execution_count": null,
   "metadata": {},
   "outputs": [],
   "source": []
  },
  {
   "cell_type": "code",
   "execution_count": 38,
   "metadata": {},
   "outputs": [
    {
     "data": {
      "text/plain": [
       "'1950-10-11'"
      ]
     },
     "execution_count": 38,
     "metadata": {},
     "output_type": "execute_result"
    }
   ],
   "source": [
    "senators[34]['person']['birthday']"
   ]
  },
  {
   "cell_type": "code",
   "execution_count": 1,
   "metadata": {},
   "outputs": [],
   "source": [
    "# code to update the senators in case you want fresh data!\n",
    "\n",
    "import requests\n",
    "import json \n",
    "senators = requests.get('https://www.govtrack.us/api/v2/role?current=true&role_type=senator').json()['objects']\n",
    "with open('US-Senators.json','w') as f:\n",
    "    f.write(json.dumps(senators))"
   ]
  },
  {
   "cell_type": "code",
   "execution_count": 50,
   "metadata": {},
   "outputs": [],
   "source": [
    "events = {}\n",
    "with open ('weather-events.json', \"w\") as f:\n",
    "    f.write(json.dump(events))"
   ]
  },
  {
   "cell_type": "code",
   "execution_count": null,
   "metadata": {},
   "outputs": [],
   "source": []
  }
 ],
 "metadata": {
  "anaconda-cloud": {},
  "kernelspec": {
   "display_name": "Python 3",
   "language": "python",
   "name": "python3"
  },
  "language_info": {
   "codemirror_mode": {
    "name": "ipython",
    "version": 3
   },
   "file_extension": ".py",
   "mimetype": "text/x-python",
   "name": "python",
   "nbconvert_exporter": "python",
   "pygments_lexer": "ipython3",
   "version": "3.8.6"
  },
  "toc": {
   "base_numbering": 1,
   "nav_menu": {},
   "number_sections": false,
   "sideBar": false,
   "skip_h1_title": false,
   "title_cell": "Table of Contents",
   "title_sidebar": "Contents",
   "toc_cell": false,
   "toc_position": {},
   "toc_section_display": false,
   "toc_window_display": false
  }
 },
 "nbformat": 4,
 "nbformat_minor": 4
}
