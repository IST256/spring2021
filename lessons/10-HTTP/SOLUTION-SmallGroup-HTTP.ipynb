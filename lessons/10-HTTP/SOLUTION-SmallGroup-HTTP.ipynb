{
 "cells": [
  {
   "cell_type": "markdown",
   "metadata": {},
   "source": [
    "# Now You Code In Class: Zomato\n",
    "\n",
    "For this Now You Code, you will need the Zomato api https://developers.zomato.com/api which provides API access to local area restaurant information. **Sign up for for your own FREE an API key!**\n",
    "\n",
    "Let's write a program to do the following\n",
    "\n",
    "    1. input the city you're travelling to\n",
    "    2. use the input city to lookup the zomato city ID\n",
    "    3. list the top 10 restaurants trending this week at the city ID\n",
    "    4. Allow user to input one of the 10 restaurants ID for details\n",
    "    5. Show the details of a selected restaurant ID: location/hours/phone number.\n",
    "\n",
    "You will need to use the following Zomato API's\n",
    "\n",
    "- https://developers.zomato.com/documentation#!/common/cities to get the city_id for the name of the city. \n",
    "- https://developers.zomato.com/documentation#!/restaurant/search (collection_id = 1 is for top 10 trending restaurants) in the city_id\n",
    "- https://developers.zomato.com/documentation#!/restaurant/restaurant (needs a res_id)\n",
    "\n",
    "\n",
    "Let's follow the best practices from the lab and write each API call as a function once we get it working.\n",
    "\n",
    "We will take a **top down** approach, since we have a basic algorithm\n",
    "\n",
    "In your algorithm, frame your steps based on how the API must be used to complete the task. \n"
   ]
  },
  {
   "cell_type": "markdown",
   "metadata": {
    "collapsed": true
   },
   "source": [
    "# Top-Down \n",
    "\n",
    "## Step 1 - Trivial\n",
    "\n",
    "## Step 2a: `getCityId()` Problem Analysis\n",
    "\n",
    "This function should return a zomato city ID for the input CITY. Remember to write then refactor.\n",
    "\n",
    "INPUTS:\n",
    "\n",
    "    PROMPT 1\n",
    "    \n",
    "OUTPUTS: \n",
    "\n",
    "    PROMPT 2\n",
    "    \n",
    "ALGORITHM:\n",
    "\n",
    "    Every API call is the same so let's focus on how to call this api.\n",
    "\n",
    "https://developers.zomato.com/documentation#!/common/cities to get the city_id for the name of the city.\n",
    "    \n",
    "    \n",
    "## Step 2b: `getCityId()` Write Code"
   ]
  },
  {
   "cell_type": "code",
   "execution_count": 2,
   "metadata": {},
   "outputs": [
    {
     "name": "stdout",
     "output_type": "stream",
     "text": [
      "988\n"
     ]
    }
   ],
   "source": [
    "import requests\n",
    "zomato_key = '8a0d66c268b134b0ee4f99a66ec7af99'\n",
    "city ='Syracuse, NY'\n",
    "\n",
    "# PROMPT 3\n",
    "headers = { 'user-key' : zomato_key }\n",
    "params = {'q' : city }\n",
    "response = requests.get('https://developers.zomato.com/api/v2.1/cities', headers=headers, params=params)\n",
    "response.raise_for_status()\n",
    "data = response.json()\n",
    "locations = data.get('location_suggestions',None)\n",
    "city_id = locations[0]['id']\n",
    "print(city_id)"
   ]
  },
  {
   "cell_type": "markdown",
   "metadata": {},
   "source": [
    "## Step 2c: `getCityId()` Refactor into function"
   ]
  },
  {
   "cell_type": "code",
   "execution_count": 5,
   "metadata": {},
   "outputs": [],
   "source": [
    "# PROMPT 4\n",
    "def getCityId(zomato_key, city):\n",
    "    headers = { 'user-key' : zomato_key }\n",
    "    params = {'q' : city }\n",
    "    response = requests.get('https://developers.zomato.com/api/v2.1/cities', headers=headers, params=params)\n",
    "    response.raise_for_status()\n",
    "    data = response.json()\n",
    "    locations = data.get('location_suggestions',None)\n",
    "    city_id = locations[0]['id']\n",
    "    return city_id\n"
   ]
  },
  {
   "cell_type": "markdown",
   "metadata": {},
   "source": [
    "## Step 2d: `getCityId()` Test: Call the function"
   ]
  },
  {
   "cell_type": "code",
   "execution_count": 4,
   "metadata": {},
   "outputs": [
    {
     "data": {
      "text/plain": [
       "988"
      ]
     },
     "execution_count": 4,
     "metadata": {},
     "output_type": "execute_result"
    }
   ],
   "source": [
    "# PROMPT 5\n",
    "city_id = getCityId(zomato_key, 'Syracuse, NY')"
   ]
  },
  {
   "cell_type": "markdown",
   "metadata": {},
   "source": [
    "## Step 3a: `getTrending()` Problem Analysis\n",
    "\n",
    "This function should return the top 10 trending restaurants for a given zomato city ID. Remember to write then refactor.\n",
    "\n",
    "INPUTS:\n",
    "\n",
    "    PROMPT 6\n",
    "    \n",
    "OUTPUTS: \n",
    "\n",
    "    PROMPT 7\n",
    "    \n",
    "ALGORITHM:\n",
    "\n",
    "    Every API call is the same so let's focus on how to call this api.\n",
    "\n",
    "https://developers.zomato.com/documentation#!/restaurant/search\n",
    "    \n",
    "    \n",
    "## Step 3b: `getTrending()` Write Code"
   ]
  },
  {
   "cell_type": "code",
   "execution_count": 16,
   "metadata": {},
   "outputs": [
    {
     "name": "stdout",
     "output_type": "stream",
     "text": [
      "17643888 Paladino's Cicero Pizza: Italian, Pizza\n",
      "17643027 Dinosaur Bar-B-Que: American, BBQ, Southern\n",
      "17643655 Copper Top Tavern: Asian, Italian, Pizza\n",
      "17642735 Clam Bar the: Seafood\n",
      "17643728 Ocean Sushi: Sushi\n",
      "17643650 Stellas Diner: American, Breakfast, Diner\n",
      "17642989 Columbus Baking Co: Sandwich\n",
      "17643993 Sake Bomb: Japanese, Steak, Sushi\n",
      "17642855 Alto Cinco: Mexican, Tex-Mex, Vegetarian\n",
      "17643312 Mother's Cupboard Fish Fry: Breakfast, Diner\n",
      "17643666 Boom Boom Mex Mex: Mexican\n"
     ]
    }
   ],
   "source": [
    "# PROMPT 8\n",
    "headers = { 'user-key' : zomato_key }\n",
    "params = {'collection_id' : 1, 'entity_type' : 'city', 'entity_id' : city_id }\n",
    "response = requests.get('https://developers.zomato.com/api/v2.1/search', headers=headers, params=params)\n",
    "data = response.json()\n",
    "response.raise_for_status()\n",
    "restaurants = data.get('restaurants')\n",
    "for r in restaurants:\n",
    "    print(f\"{r['restaurant']['id']} {r['restaurant']['name']}: {r['restaurant']['cuisines']}\")"
   ]
  },
  {
   "cell_type": "markdown",
   "metadata": {},
   "source": [
    "## Step 3c: `getTrending()` Refactor into function"
   ]
  },
  {
   "cell_type": "code",
   "execution_count": 12,
   "metadata": {},
   "outputs": [],
   "source": [
    "# PROMPT 9\n",
    "def getTrending(zomato_key, city_id):\n",
    "    headers = { 'user-key' : zomato_key }\n",
    "    params = {'collection_id' : 1, 'entity_type' : 'city', 'entity_id' : city_id }\n",
    "    response = requests.get('https://developers.zomato.com/api/v2.1/search', headers=headers, params=params)\n",
    "    data = response.json()\n",
    "    response.raise_for_status()\n",
    "    restaurants = data.get('restaurants')\n",
    "    return restaurants\n"
   ]
  },
  {
   "cell_type": "markdown",
   "metadata": {},
   "source": [
    "## Step 3d: `getTrending()` Test: Call the function and print the id, name and cuisines"
   ]
  },
  {
   "cell_type": "code",
   "execution_count": 14,
   "metadata": {},
   "outputs": [
    {
     "name": "stdout",
     "output_type": "stream",
     "text": [
      "17643888 Paladino's Cicero Pizza: Italian, Pizza\n",
      "17643027 Dinosaur Bar-B-Que: American, BBQ, Southern\n",
      "17643655 Copper Top Tavern: Asian, Italian, Pizza\n",
      "17642735 Clam Bar the: Seafood\n",
      "17643728 Ocean Sushi: Sushi\n",
      "17643650 Stellas Diner: American, Breakfast, Diner\n",
      "17642989 Columbus Baking Co: Sandwich\n",
      "17643993 Sake Bomb: Japanese, Steak, Sushi\n",
      "17642855 Alto Cinco: Mexican, Tex-Mex, Vegetarian\n",
      "17643312 Mother's Cupboard Fish Fry: Breakfast, Diner\n",
      "17643666 Boom Boom Mex Mex: Mexican\n"
     ]
    }
   ],
   "source": [
    "# PROMPT 10\n",
    "for r in getTrending(zomato_key, city_id):\n",
    "    print(f\"{r['restaurant']['id']} {r['restaurant']['name']}: {r['restaurant']['cuisines']}\")"
   ]
  },
  {
   "cell_type": "markdown",
   "metadata": {},
   "source": [
    "## Step 4: Trivial\n",
    "\n",
    "Select one of the ID numbers for a rest.\n",
    "\n",
    "## Step 5a: `getDetails()` Problem Analysis\n",
    "\n",
    "This function should return the reestaurant details for a given ID. Remember to write then refactor.\n",
    "\n",
    "INPUTS:\n",
    "\n",
    "    PROMPT 11\n",
    "    \n",
    "OUTPUTS: \n",
    "\n",
    "    PROMPT 12\n",
    "    \n",
    "ALGORITHM:\n",
    "\n",
    "    Every API call is the same so let's focus on how to call this api.\n",
    "\n",
    "https://developers.zomato.com/documentation#!/restaurant/restaurant_0\n",
    "    \n",
    "    \n",
    "## Step 5b: `getDetails()` Write Code"
   ]
  },
  {
   "cell_type": "code",
   "execution_count": 15,
   "metadata": {},
   "outputs": [
    {
     "name": "stdout",
     "output_type": "stream",
     "text": [
      "Boom Boom Mex Mex\n",
      "Address: 3263 Howlett Hill Road, Camillus 13031\n",
      "Cuisines: Mexican\n",
      "Hours: 11:30 AM to 8:30 PM (Mon-Sun)\n",
      "Phone: (315) 673-1151\n"
     ]
    }
   ],
   "source": [
    "rest_id = 17643666\n",
    "# PROMPT 13\n",
    "headers = { 'user-key' : zomato_key }\n",
    "params = {'res_id' : rest_id }\n",
    "response = requests.get('https://developers.zomato.com/api/v2.1/restaurant', headers=headers, params=params)\n",
    "response.raise_for_status()\n",
    "details = response.json()\n",
    "print(details['name'])\n",
    "print(f\"Address: {details['location']['address']}\")\n",
    "print(f\"Cuisines: {details ['cuisines']}\")\n",
    "print(f\"Hours: {details['timings']}\")\n",
    "print(f\"Phone: {details['phone_numbers']}\")\n"
   ]
  },
  {
   "cell_type": "markdown",
   "metadata": {},
   "source": [
    "## Step 5c: `getDetails()` Refactor into function"
   ]
  },
  {
   "cell_type": "code",
   "execution_count": 18,
   "metadata": {},
   "outputs": [],
   "source": [
    "# PROMPT 14\n",
    "def getDetails(zomato_key, rest_id):\n",
    "    headers = { 'user-key' : zomato_key }\n",
    "    params = {'res_id' : rest_id }\n",
    "    response = requests.get('https://developers.zomato.com/api/v2.1/restaurant', headers=headers, params=params)\n",
    "    response.raise_for_status()\n",
    "    details = response.json()\n",
    "    return details"
   ]
  },
  {
   "cell_type": "markdown",
   "metadata": {},
   "source": [
    "## Step 5d: `getDetails()` Test: Display Name, Address, Hours, Phone"
   ]
  },
  {
   "cell_type": "code",
   "execution_count": 19,
   "metadata": {},
   "outputs": [
    {
     "name": "stdout",
     "output_type": "stream",
     "text": [
      "Boom Boom Mex Mex\n",
      "Address: 3263 Howlett Hill Road, Camillus 13031\n",
      "Cuisines: Mexican\n",
      "Hours: 11:30 AM to 8:30 PM (Mon-Sun)\n",
      "Phone: (315) 673-1151\n"
     ]
    }
   ],
   "source": [
    "# PROMPT 15\n",
    "details = getDetails(zomato_key,rest_id)\n",
    "print(details['name'])\n",
    "print(f\"Address: {details['location']['address']}\")\n",
    "print(f\"Cuisines: {details ['cuisines']}\")\n",
    "print(f\"Hours: {details['timings']}\")\n",
    "print(f\"Phone: {details['phone_numbers']}\")"
   ]
  },
  {
   "cell_type": "markdown",
   "metadata": {},
   "source": [
    "## Top-Down: Put it all together\n",
    "\n",
    "\n",
    "Get it all working in this cell. No need to copy the function definitions.\n",
    "\n"
   ]
  },
  {
   "cell_type": "code",
   "execution_count": 21,
   "metadata": {},
   "outputs": [
    {
     "name": "stdout",
     "output_type": "stream",
     "text": [
      "Zomato Trending Restaurant Search\n",
      "Enter a City: Syracuse, NY\n",
      "17643888 Paladino's Cicero Pizza: Italian, Pizza\n",
      "17643027 Dinosaur Bar-B-Que: American, BBQ, Southern\n",
      "17643655 Copper Top Tavern: Asian, Italian, Pizza\n",
      "17642735 Clam Bar the: Seafood\n",
      "17643728 Ocean Sushi: Sushi\n",
      "17643650 Stellas Diner: American, Breakfast, Diner\n",
      "17642989 Columbus Baking Co: Sandwich\n",
      "17643993 Sake Bomb: Japanese, Steak, Sushi\n",
      "17642855 Alto Cinco: Mexican, Tex-Mex, Vegetarian\n",
      "17643312 Mother's Cupboard Fish Fry: Breakfast, Diner\n",
      "17643666 Boom Boom Mex Mex: Mexican\n",
      "Enter a ID number for details: 17643728\n",
      "Ocean Sushi\n",
      "Address: 7567 oswego rd, Liverpool 13090\n",
      "Cuisines: Sushi\n",
      "Hours: Lunch, Dinner (Sun, Mon, Tue, Wed, Thu, Fri, Sat)\n",
      "Phone: (315) 622-6050\n"
     ]
    }
   ],
   "source": [
    "# PROMPT 16\n",
    "import requests\n",
    "zomato_key = '8a0d66c268b134b0ee4f99a66ec7af99'\n",
    "print(\"Zomato Trending Restaurant Search\")\n",
    "city = input(\"Enter a City: \")\n",
    "city_id = getCityId(zomato_key, city)\n",
    "rests = getTrending(zomato_key, city_id)\n",
    "for r in rests:\n",
    "    print(f\"{r['restaurant']['id']} {r['restaurant']['name']}: {r['restaurant']['cuisines']}\")\n",
    "rest_id = int(input(\"Enter a ID number for details: \"))\n",
    "details = getDetails(zomato_key, rest_id)\n",
    "print(details['name'])\n",
    "print(f\"Address: {details['location']['address']}\")\n",
    "print(f\"Cuisines: {details ['cuisines']}\")\n",
    "print(f\"Hours: {details['timings']}\")\n",
    "print(f\"Phone: {details['phone_numbers']}\")"
   ]
  },
  {
   "cell_type": "code",
   "execution_count": null,
   "metadata": {},
   "outputs": [],
   "source": []
  }
 ],
 "metadata": {
  "anaconda-cloud": {},
  "kernelspec": {
   "display_name": "Python 3",
   "language": "python",
   "name": "python3"
  },
  "language_info": {
   "codemirror_mode": {
    "name": "ipython",
    "version": 3
   },
   "file_extension": ".py",
   "mimetype": "text/x-python",
   "name": "python",
   "nbconvert_exporter": "python",
   "pygments_lexer": "ipython3",
   "version": "3.8.6"
  },
  "toc": {
   "base_numbering": 1,
   "nav_menu": {},
   "number_sections": false,
   "sideBar": false,
   "skip_h1_title": false,
   "title_cell": "Table of Contents",
   "title_sidebar": "Contents",
   "toc_cell": false,
   "toc_position": {},
   "toc_section_display": false,
   "toc_window_display": false
  }
 },
 "nbformat": 4,
 "nbformat_minor": 1
}
