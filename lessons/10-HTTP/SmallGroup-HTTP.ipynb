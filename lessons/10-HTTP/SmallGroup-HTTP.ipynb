{
 "cells": [
  {
   "cell_type": "markdown",
   "metadata": {},
   "source": [
    "# Now You Code In Class: Zomato\n",
    "\n",
    "For this Now You Code, you will need the Zomato api https://developers.zomato.com/api which provides API access to local area restaurant information. **Sign up for for your own FREE an API key!**\n",
    "\n",
    "Let's write a program to do the following\n",
    "\n",
    "    1. input the city you're travelling to\n",
    "    2. use the input city to lookup the zomato city ID\n",
    "    3. list the top 10 restaurants trending this week at the city ID\n",
    "    4. Allow user to input one of the 10 restaurants ID for details\n",
    "    5. Show the details of a selected restaurant ID: location/hours/phone number.\n",
    "\n",
    "You will need to use the following Zomato API's\n",
    "\n",
    "- https://developers.zomato.com/documentation#!/common/cities to get the city_id for the name of the city. \n",
    "- https://developers.zomato.com/documentation#!/restaurant/search (collection_id = 1 is for top 10 trending restaurants) in the city_id\n",
    "- https://developers.zomato.com/documentation#!/restaurant/restaurant (needs a res_id)\n",
    "\n",
    "\n",
    "Let's follow the best practices from the lab and write each API call as a function once we get it working.\n",
    "\n",
    "We will take a **top down** approach, since we have a basic algorithm\n",
    "\n",
    "In your algorithm, frame your steps based on how the API must be used to complete the task. \n"
   ]
  },
  {
   "cell_type": "markdown",
   "metadata": {
    "collapsed": true
   },
   "source": [
    "# Top-Down \n",
    "\n",
    "## Step 1 - Trivial\n",
    "\n",
    "## Step 2a: `getCityId()` Problem Analysis\n",
    "\n",
    "This function should return a zomato city ID for the input CITY. Remember to write then refactor.\n",
    "\n",
    "INPUTS:\n",
    "\n",
    "    PROMPT 1\n",
    "    \n",
    "OUTPUTS: \n",
    "\n",
    "    PROMPT 2\n",
    "    \n",
    "ALGORITHM:\n",
    "\n",
    "    Every API call is the same so let's focus on how to call this api.\n",
    "\n",
    "https://developers.zomato.com/documentation#!/common/cities to get the city_id for the name of the city.\n",
    "    \n",
    "    \n",
    "## Step 2b: `getCityId()` Write Code"
   ]
  },
  {
   "cell_type": "code",
   "execution_count": null,
   "metadata": {},
   "outputs": [],
   "source": [
    "import requests\n",
    "zomato_key = ''\n",
    "city ='Syracuse, NY'\n",
    "\n",
    "# PROMPT 3\n"
   ]
  },
  {
   "cell_type": "markdown",
   "metadata": {},
   "source": [
    "## Step 2c: `getCityId()` Refactor into function"
   ]
  },
  {
   "cell_type": "code",
   "execution_count": null,
   "metadata": {},
   "outputs": [],
   "source": [
    "# PROMPT 4\n",
    "\n"
   ]
  },
  {
   "cell_type": "markdown",
   "metadata": {},
   "source": [
    "## Step 2d: `getCityId()` Test: Call the function"
   ]
  },
  {
   "cell_type": "code",
   "execution_count": null,
   "metadata": {},
   "outputs": [],
   "source": [
    "# PROMPT 5\n"
   ]
  },
  {
   "cell_type": "markdown",
   "metadata": {},
   "source": [
    "## Step 3a: `getTrending()` Problem Analysis\n",
    "\n",
    "This function should return the top 10 trending restaurants for a given zomato city ID. Remember to write then refactor.\n",
    "\n",
    "INPUTS:\n",
    "\n",
    "    PROMPT 6\n",
    "    \n",
    "OUTPUTS: \n",
    "\n",
    "    PROMPT 7\n",
    "    \n",
    "ALGORITHM:\n",
    "\n",
    "    Every API call is the same so let's focus on how to call this api.\n",
    "\n",
    "https://developers.zomato.com/documentation#!/restaurant/search\n",
    "    \n",
    "    \n",
    "## Step 3b: `getTrending()` Write Code"
   ]
  },
  {
   "cell_type": "code",
   "execution_count": null,
   "metadata": {},
   "outputs": [],
   "source": [
    "# PROMPT 8\n"
   ]
  },
  {
   "cell_type": "markdown",
   "metadata": {},
   "source": [
    "## Step 3c: `getTrending()` Refactor into function"
   ]
  },
  {
   "cell_type": "code",
   "execution_count": null,
   "metadata": {},
   "outputs": [],
   "source": [
    "# PROMPT 9\n",
    "\n"
   ]
  },
  {
   "cell_type": "markdown",
   "metadata": {},
   "source": [
    "## Step 3d: `getTrending()` Test: Call the function and print the id, name and cuisines"
   ]
  },
  {
   "cell_type": "code",
   "execution_count": null,
   "metadata": {},
   "outputs": [],
   "source": [
    "# PROMPT 10\n"
   ]
  },
  {
   "cell_type": "markdown",
   "metadata": {},
   "source": [
    "## Step 4: Trivial\n",
    "\n",
    "Select one of the ID numbers for a rest.\n",
    "\n",
    "## Step 5a: `getDetails()` Problem Analysis\n",
    "\n",
    "This function should return the reestaurant details for a given ID. Remember to write then refactor.\n",
    "\n",
    "INPUTS:\n",
    "\n",
    "    PROMPT 11\n",
    "    \n",
    "OUTPUTS: \n",
    "\n",
    "    PROMPT 12\n",
    "    \n",
    "ALGORITHM:\n",
    "\n",
    "    Every API call is the same so let's focus on how to call this api.\n",
    "\n",
    "https://developers.zomato.com/documentation#!/restaurant/restaurant_0\n",
    "    \n",
    "    \n",
    "## Step 5b: `getDetails()` Write Code"
   ]
  },
  {
   "cell_type": "code",
   "execution_count": null,
   "metadata": {},
   "outputs": [],
   "source": [
    "rest_id = 17643666\n",
    "# PROMPT 13\n",
    "\n"
   ]
  },
  {
   "cell_type": "markdown",
   "metadata": {},
   "source": [
    "## Step 5c: `getDetails()` Refactor into function"
   ]
  },
  {
   "cell_type": "code",
   "execution_count": null,
   "metadata": {},
   "outputs": [],
   "source": [
    "# PROMPT 14\n"
   ]
  },
  {
   "cell_type": "markdown",
   "metadata": {},
   "source": [
    "## Step 5d: `getDetails()` Test: Display Name, Address, Hours, Phone"
   ]
  },
  {
   "cell_type": "code",
   "execution_count": null,
   "metadata": {},
   "outputs": [],
   "source": [
    "# PROMPT 15\n"
   ]
  },
  {
   "cell_type": "markdown",
   "metadata": {},
   "source": [
    "## Top-Down: Put it all together\n",
    "\n",
    "\n",
    "Get it all working in this cell. No need to copy the function definitions.\n",
    "\n"
   ]
  },
  {
   "cell_type": "code",
   "execution_count": null,
   "metadata": {},
   "outputs": [],
   "source": [
    "# PROMPT 16\n",
    "import requests\n",
    "zomato_key = ''\n",
    "print(\"Zomato Trending Restaurant Search\")\n"
   ]
  },
  {
   "cell_type": "code",
   "execution_count": null,
   "metadata": {},
   "outputs": [],
   "source": [
    "# run this code to turn in your work!\n",
    "from coursetools.submission import Submission\n",
    "Submission().submit_now()"
   ]
  }
 ],
 "metadata": {
  "anaconda-cloud": {},
  "kernelspec": {
   "display_name": "Python 3",
   "language": "python",
   "name": "python3"
  },
  "language_info": {
   "codemirror_mode": {
    "name": "ipython",
    "version": 3
   },
   "file_extension": ".py",
   "mimetype": "text/x-python",
   "name": "python",
   "nbconvert_exporter": "python",
   "pygments_lexer": "ipython3",
   "version": "3.8.6"
  },
  "toc": {
   "base_numbering": 1,
   "nav_menu": {},
   "number_sections": false,
   "sideBar": false,
   "skip_h1_title": false,
   "title_cell": "Table of Contents",
   "title_sidebar": "Contents",
   "toc_cell": false,
   "toc_position": {},
   "toc_section_display": false,
   "toc_window_display": false
  }
 },
 "nbformat": 4,
 "nbformat_minor": 1
}
