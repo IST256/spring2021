{
 "cells": [
  {
   "cell_type": "markdown",
   "metadata": {},
   "source": [
    "# Now You Code In Class: Zomato\n",
    "\n",
    "For this Now You Code, you will need the Zomato api https://developers.zomato.com/api which provides API access to local area restaurants information. Sign up for an API key!\n",
    "\n",
    "Let's write a program to do the following\n",
    "\n",
    "1. input the place you're travelling to\n",
    "2. list the top 10 restaurants trending this week at the location\n",
    "3. Show the details address menu.\n",
    "\n",
    "You will need to use the following Zomato API's\n",
    "\n",
    "- https://developers.zomato.com/documentation#!/common/cities to get the city_id for the name of the city. \n",
    "- https://developers.zomato.com/documentation#!/restaurant/search (collection_id = 1 is for top 10 trending restaurants) in the city_id\n",
    "- https://developers.zomato.com/documentation#!/restaurant/restaurant (needs a res_id)\n",
    "\n",
    "\n",
    "NOTE: Do not worry about error handling or functions. We will attempt that next week.\n",
    "\n",
    "\n",
    "In your algorithm, frame your steps based on how the API must be used to complete the task. \n"
   ]
  },
  {
   "cell_type": "markdown",
   "metadata": {
    "collapsed": true
   },
   "source": [
    "## Step 1: Problem Analysis \n",
    "\n",
    "Inputs: None\n",
    "\n",
    "Outputs: a dictionary of current exchange rates\n",
    "\n",
    "Algorithm (Steps in Program):\n",
    "\n",
    "\n"
   ]
  },
  {
   "cell_type": "code",
   "execution_count": 6,
   "metadata": {},
   "outputs": [
    {
     "name": "stdout",
     "output_type": "stream",
     "text": [
      "277\n"
     ]
    }
   ],
   "source": [
    "import requests\n",
    "\n",
    "zomato_key = '8a0d66c268b134b0ee4f99a66ec7af99'\n",
    "\n",
    "def get_zomato_city_id(search):\n",
    "\n",
    "    url = 'https://developers.zomato.com/api/v2.1/cities'\n",
    "    # Prep\n",
    "    header = { 'user-key' : zomato_key }\n",
    "    query_string = { 'q' : search, 'count' : 1}\n",
    "    # Call the API\n",
    "    response = requests.get(url, headers = header, params = query_string )\n",
    "    # De-Serialize the JSON Text to Python Obj\n",
    "    cities = response.json()\n",
    "\n",
    "    return cities['location_suggestions'][0]['id']\n",
    "\n",
    "\n",
    "cityid = get_zomato_city_id('Houston, TX')\n",
    "print(cityid)"
   ]
  },
  {
   "cell_type": "code",
   "execution_count": 16,
   "metadata": {},
   "outputs": [
    {
     "name": "stdout",
     "output_type": "stream",
     "text": [
      "16776905 Sal's Pizzeria\n",
      "16780487 Viand Cafe & Restaurant\n",
      "16764953 Good Fortune\n",
      "18035732 The Cottage\n",
      "16782398 Cozy Cafe\n",
      "16779863 Tortilla Flats\n",
      "16772993 Muffins Cafe\n",
      "16781982 Café Select\n",
      "16784880 Casa Nova Restaurant\n",
      "16781903 Marie's Gourmet\n",
      "16776716 Rue B\n",
      "16781671 W's Bar & Restaurant\n",
      "16770950 Lincoln Park Grill\n",
      "16783016 Duffy's\n",
      "16768687 Jade Island Restaurant\n",
      "16760247 Basilio Inn\n",
      "16780405 Vatan\n",
      "18053175 Beijing Chinese Resturant\n",
      "16790835 The Simone\n",
      "16777334 Sette Mezzo\n",
      "16787784 Jean Claude\n",
      "16768442 Island\n",
      "16759674 Arturo's\n",
      "16771015 Little Pepper\n"
     ]
    }
   ],
   "source": [
    "nyc = 280\n",
    "\n",
    "# header\n",
    "header = {'user-key' : zomato_key}\n",
    "# query_string\n",
    "query_string = {'entity_id' : 280, 'entity_type' : 'city', 'collection_id' : 1}\n",
    "url = 'https://developers.zomato.com/api/v2.1/search'\n",
    "response = requests.get(url, headers = header, params = query_string)\n",
    "rests = response.json()\n",
    "\n",
    "for r in rests['restaurants']:\n",
    "    print(f\"{r['restaurant']['id']} {r['restaurant']['name']}\")\n"
   ]
  },
  {
   "cell_type": "code",
   "execution_count": 15,
   "metadata": {},
   "outputs": [
    {
     "data": {
      "text/plain": [
       "dict_keys(['R', 'apikey', 'id', 'name', 'url', 'location', 'switch_to_order_menu', 'cuisines', 'timings', 'average_cost_for_two', 'price_range', 'currency', 'highlights', 'offers', 'opentable_support', 'is_zomato_book_res', 'mezzo_provider', 'is_book_form_web_view', 'book_form_web_view_url', 'book_again_url', 'thumb', 'user_rating', 'all_reviews_count', 'photos_url', 'photo_count', 'menu_url', 'featured_image', 'has_online_delivery', 'is_delivering_now', 'store_type', 'include_bogo_offers', 'deeplink', 'is_table_reservation_supported', 'has_table_booking', 'events_url', 'phone_numbers', 'all_reviews', 'establishment'])"
      ]
     },
     "execution_count": 15,
     "metadata": {},
     "output_type": "execute_result"
    }
   ],
   "source": [
    "r['restaurant'].keys()"
   ]
  },
  {
   "cell_type": "code",
   "execution_count": null,
   "metadata": {},
   "outputs": [],
   "source": []
  }
 ],
 "metadata": {
  "anaconda-cloud": {},
  "kernelspec": {
   "display_name": "Python 3",
   "language": "python",
   "name": "python3"
  },
  "language_info": {
   "codemirror_mode": {
    "name": "ipython",
    "version": 3
   },
   "file_extension": ".py",
   "mimetype": "text/x-python",
   "name": "python",
   "nbconvert_exporter": "python",
   "pygments_lexer": "ipython3",
   "version": "3.7.6"
  },
  "toc": {
   "base_numbering": 1,
   "nav_menu": {},
   "number_sections": false,
   "sideBar": false,
   "skip_h1_title": false,
   "title_cell": "Table of Contents",
   "title_sidebar": "Contents",
   "toc_cell": false,
   "toc_position": {},
   "toc_section_display": false,
   "toc_window_display": false
  }
 },
 "nbformat": 4,
 "nbformat_minor": 1
}
