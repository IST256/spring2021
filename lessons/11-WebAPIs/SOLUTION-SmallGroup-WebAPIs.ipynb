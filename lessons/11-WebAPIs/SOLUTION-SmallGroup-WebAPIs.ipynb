{
 "cells": [
  {
   "cell_type": "markdown",
   "metadata": {},
   "source": [
    "# Now You Code In Class: Getting Directions!\n",
    "\n",
    "Let's continue on our zomato journey, mashing it up with the Bing Maps API so that we can get driving instructions to the restaurant. \n",
    "\n",
    "Bing Maps Route API is here: https://docs.microsoft.com/en-us/bingmaps/rest-services/routes/calculate-a-route \n",
    "\n",
    "The zomato functions are the the `zomato.ipynb` file. We can import one noteook into another using the `import_ipynb` python module. "
   ]
  },
  {
   "cell_type": "code",
   "execution_count": 2,
   "metadata": {},
   "outputs": [
    {
     "name": "stdout",
     "output_type": "stream",
     "text": [
      "importing Jupyter notebook from zomato.ipynb\n"
     ]
    }
   ],
   "source": [
    "import requests \n",
    "import import_ipynb\n",
    "import zomato as zomato"
   ]
  },
  {
   "cell_type": "code",
   "execution_count": 2,
   "metadata": {},
   "outputs": [
    {
     "name": "stdout",
     "output_type": "stream",
     "text": [
      "Enter a City: Syracuse, NY\n",
      "17642872 Broadway Cafe & Arctic Island Ice Cream: Desserts, Ice Cream\n",
      "17643828 Village Burger: Burger, Latin American\n",
      "17642344 Grimaldi's Luna Park: Italian\n",
      "17643169 Joey's: Italian\n",
      "17642666 No 1 Kitchen: Chinese\n",
      "17643769 Koto Japanese Steakhouse: Japanese, Sushi\n",
      "17643630 Gino's Steaks: American\n",
      "17642188 New Great Wall: Chinese\n",
      "17642086 Lin LI Chinese Restaurant: Chinese\n",
      "17642610 Retreat: American\n",
      "17643085 Francesca's Cucina: American, Italian, Mediterranean\n",
      "17643727 Bonefish Grill: American, Seafood\n",
      "17643473 Spaghetti Warehouse - Syracuse: American, Italian\n",
      "17642184 Seven Stone Steps: American\n",
      "17642617 Santangelo's Restaurant: Italian, Seafood, Steak\n",
      "Enter Restaurant ID to see details: 17642344\n",
      "Grimaldi's Luna Park\n",
      "Address: 6430 Yorktown Cir, East Syracuse 13057\n",
      "Cuisines: Italian\n",
      "Hours: Dinner (Sun, Mon, Sat), Lunch, Dinner (Tue-Fri)\n",
      "Phone: (315) 432-4614\n"
     ]
    }
   ],
   "source": [
    "# testing\n",
    "zomato_key = '5aee574594af0c43a13d8f5e81744b73'\n",
    "zomato.example(zomato_key)"
   ]
  },
  {
   "cell_type": "markdown",
   "metadata": {},
   "source": [
    "## Step 1a: Learning The Bing Route API\n",
    "\n",
    "FIRST: Sign up and get an API Key: https://docs.microsoft.com/en-us/bingmaps/getting-started/bing-maps-dev-center-help/getting-a-bing-maps-key \n",
    "\n",
    "NEXT: Read the Bing Maps Route API is here: https://docs.microsoft.com/en-us/bingmaps/rest-services/routes/calculate-a-route \n",
    "\n",
    "\n",
    "WHAT IS REQUIRED TO EXECUTE THE API (INPUTS): \n",
    "\n",
    "    PROMPT 1\n",
    "\n",
    "WHAT DOES THE API GIVE US BACK (OUTPUTS):\n",
    "\n",
    "    PROMPT 2\n",
    "\n",
    "Algorithm (Steps in Program):\n",
    "\n",
    "    Algorithms to call API's are the same, so  the concerns are:\n",
    "    \n",
    "    - What do we need to call the API? \n",
    "    - What do I need from the response? \n",
    "    \n",
    "## Step 1b: Code the API: Proof of Concept"
   ]
  },
  {
   "cell_type": "code",
   "execution_count": 7,
   "metadata": {},
   "outputs": [
    {
     "data": {
      "text/plain": [
       "{'authenticationResultCode': 'ValidCredentials',\n",
       " 'brandLogoUri': 'http://dev.virtualearth.net/Branding/logo_powered_by.png',\n",
       " 'copyright': 'Copyright © 2021 Microsoft and its suppliers. All rights reserved. This API cannot be accessed and the content and any results may not be used, reproduced or transmitted in any manner without express written permission from Microsoft Corporation.',\n",
       " 'resourceSets': [{'estimatedTotal': 1,\n",
       "   'resources': [{'__type': 'Route:http://schemas.microsoft.com/search/local/ws/rest/v1',\n",
       "     'bbox': [43.024127, -76.13646, 43.036398, -76.128685],\n",
       "     'id': 'v70,h-1910391646,i0,a0,cen-US,dAAAAAAAAAAA1,y0,s1,m1,o1,t4,wfXVVoBaDRUB8fhghPAhTwA2~AHYKg0cRKC4kAADgAWH8Pj8A0~MTMyNDQsIE5Z0~~~~~~~~v12,wzlKynISERUCsj4e-uwhTwA2~AHYKg0c5-S0kAADgAdQeHD4C0~Q2FycmllciBEb21lLCBOWQ2~~~~~~~~v12,k1',\n",
       "     'distanceUnit': 'Kilometer',\n",
       "     'durationUnit': 'Second',\n",
       "     'routeLegs': [{'actualEnd': {'type': 'Point',\n",
       "        'coordinates': [43.035418, -76.13646]},\n",
       "       'actualStart': {'type': 'Point',\n",
       "        'coordinates': [43.024127, -76.128685]},\n",
       "       'alternateVias': [],\n",
       "       'cost': 0,\n",
       "       'description': 'Comstock Ave, Sims Dr',\n",
       "       'endLocation': {'bbox': [43.03384, -76.140724, 43.037758, -76.133514],\n",
       "        'name': 'Carrier Dome, NY',\n",
       "        'point': {'type': 'Point', 'coordinates': [43.035297, -76.136459]},\n",
       "        'address': {'adminDistrict': 'NY',\n",
       "         'adminDistrict2': 'Onondaga County',\n",
       "         'countryRegion': 'United States',\n",
       "         'formattedAddress': 'Carrier Dome, NY',\n",
       "         'locality': 'Syracuse'},\n",
       "        'confidence': 'High',\n",
       "        'entityType': 'Stadium',\n",
       "        'geocodePoints': [{'type': 'Point',\n",
       "          'coordinates': [43.035297, -76.136459],\n",
       "          'calculationMethod': 'Rooftop',\n",
       "          'usageTypes': ['Display']}],\n",
       "        'matchCodes': ['UpHierarchy']},\n",
       "       'itineraryItems': [{'compassDirection': 'north',\n",
       "         'details': [{'compassDegrees': 355,\n",
       "           'endPathIndices': [1],\n",
       "           'locationCodes': ['104+51879', '104P51878', '104P51879'],\n",
       "           'maneuverType': 'DepartStart',\n",
       "           'mode': 'Driving',\n",
       "           'names': ['Comstock Ave'],\n",
       "           'roadType': 'Street',\n",
       "           'startPathIndices': [0]}],\n",
       "         'exit': '',\n",
       "         'iconType': 'Auto',\n",
       "         'instruction': {'formattedText': None,\n",
       "          'maneuverType': 'DepartStart',\n",
       "          'text': 'Head north on Comstock Ave toward Acorn Path'},\n",
       "         'isRealTimeTransit': False,\n",
       "         'maneuverPoint': {'type': 'Point',\n",
       "          'coordinates': [43.024127, -76.128685]},\n",
       "         'realTimeTransitDelay': 0,\n",
       "         'sideOfStreet': 'Unknown',\n",
       "         'tollZone': '',\n",
       "         'towardsRoadName': 'Acorn Path',\n",
       "         'transitTerminus': '',\n",
       "         'travelDistance': 1.354,\n",
       "         'travelDuration': 141,\n",
       "         'travelMode': 'Driving'},\n",
       "        {'compassDirection': 'west',\n",
       "         'details': [{'compassDegrees': 267,\n",
       "           'endPathIndices': [3],\n",
       "           'maneuverType': 'TurnLeft',\n",
       "           'mode': 'Driving',\n",
       "           'names': ['Euclid Ave'],\n",
       "           'roadType': 'Street',\n",
       "           'startPathIndices': [1]}],\n",
       "         'exit': '',\n",
       "         'iconType': 'Auto',\n",
       "         'instruction': {'formattedText': None,\n",
       "          'maneuverType': 'TurnLeft',\n",
       "          'text': 'Turn left onto Euclid Ave'},\n",
       "         'isRealTimeTransit': False,\n",
       "         'maneuverPoint': {'type': 'Point',\n",
       "          'coordinates': [43.036278, -76.129797]},\n",
       "         'realTimeTransitDelay': 0,\n",
       "         'sideOfStreet': 'Unknown',\n",
       "         'tollZone': '',\n",
       "         'transitTerminus': '',\n",
       "         'travelDistance': 0.126,\n",
       "         'travelDuration': 35,\n",
       "         'travelMode': 'Driving'},\n",
       "        {'compassDirection': 'west',\n",
       "         'details': [{'compassDegrees': 253,\n",
       "           'endPathIndices': [8],\n",
       "           'maneuverType': 'RoadNameChange',\n",
       "           'mode': 'Driving',\n",
       "           'names': ['Sims Dr'],\n",
       "           'roadType': 'Street',\n",
       "           'startPathIndices': [3]}],\n",
       "         'exit': '',\n",
       "         'iconType': 'Auto',\n",
       "         'instruction': {'formattedText': None,\n",
       "          'maneuverType': 'RoadNameChange',\n",
       "          'text': 'Road name changes to Sims Dr'},\n",
       "         'isRealTimeTransit': False,\n",
       "         'maneuverPoint': {'type': 'Point',\n",
       "          'coordinates': [43.036188, -76.131342]},\n",
       "         'realTimeTransitDelay': 0,\n",
       "         'sideOfStreet': 'Unknown',\n",
       "         'tollZone': '',\n",
       "         'transitTerminus': '',\n",
       "         'travelDistance': 0.349,\n",
       "         'travelDuration': 84,\n",
       "         'travelMode': 'Driving',\n",
       "         'warnings': [{'severity': 'None',\n",
       "           'text': 'Gated road',\n",
       "           'warningType': 'GateAccess'},\n",
       "          {'severity': 'None',\n",
       "           'text': 'Private Road',\n",
       "           'warningType': 'PrivateRoad'}]},\n",
       "        {'compassDirection': 'west',\n",
       "         'details': [{'compassDegrees': 270,\n",
       "           'endPathIndices': [12],\n",
       "           'maneuverType': 'TurnRight',\n",
       "           'mode': 'Driving',\n",
       "           'names': ['Forestry Dr'],\n",
       "           'roadType': 'Street',\n",
       "           'startPathIndices': [8]}],\n",
       "         'exit': '',\n",
       "         'iconType': 'Auto',\n",
       "         'instruction': {'formattedText': None,\n",
       "          'maneuverType': 'TurnRight',\n",
       "          'text': 'Turn right onto Forestry Dr'},\n",
       "         'isRealTimeTransit': False,\n",
       "         'maneuverPoint': {'type': 'Point',\n",
       "          'coordinates': [43.035436, -76.134417]},\n",
       "         'realTimeTransitDelay': 0,\n",
       "         'sideOfStreet': 'Unknown',\n",
       "         'tollZone': '',\n",
       "         'transitTerminus': '',\n",
       "         'travelDistance': 0.166,\n",
       "         'travelDuration': 26,\n",
       "         'travelMode': 'Driving',\n",
       "         'warnings': [{'severity': 'None',\n",
       "           'text': 'Private Road',\n",
       "           'warningType': 'PrivateRoad'}]},\n",
       "        {'compassDirection': 'west',\n",
       "         'details': [{'compassDegrees': 269,\n",
       "           'endPathIndices': [12],\n",
       "           'maneuverType': 'ArriveFinish',\n",
       "           'mode': 'Driving',\n",
       "           'names': ['Forestry Dr'],\n",
       "           'roadType': 'Street',\n",
       "           'startPathIndices': [12]}],\n",
       "         'exit': '',\n",
       "         'hints': [{'hintType': 'PreviousIntersection',\n",
       "           'text': 'The last intersection is Crouse Dr'},\n",
       "          {'hintType': 'NextIntersection',\n",
       "           'text': \"If you reach Campus Dr, you've gone too far\"}],\n",
       "         'iconType': 'Auto',\n",
       "         'instruction': {'formattedText': None,\n",
       "          'maneuverType': 'ArriveFinish',\n",
       "          'text': 'Arrive at Carrier Dome, NY on the left'},\n",
       "         'isRealTimeTransit': False,\n",
       "         'maneuverPoint': {'type': 'Point',\n",
       "          'coordinates': [43.035418, -76.13646]},\n",
       "         'realTimeTransitDelay': 0,\n",
       "         'sideOfStreet': 'Left',\n",
       "         'tollZone': '',\n",
       "         'transitTerminus': '',\n",
       "         'travelDistance': 0,\n",
       "         'travelDuration': 0,\n",
       "         'travelMode': 'Driving'}],\n",
       "       'routeRegion': 'WWMX',\n",
       "       'routeSubLegs': [{'endWaypoint': {'type': 'Point',\n",
       "          'coordinates': [43.035418, -76.13646],\n",
       "          'description': 'Carrier Dome, NY',\n",
       "          'isVia': False,\n",
       "          'locationIdentifier': '0|118|10|131|71|57|249|45|36|0|0|224|1|212|30|28|62|2|43.035418,-76.13646',\n",
       "          'routePathIndex': 12},\n",
       "         'startWaypoint': {'type': 'Point',\n",
       "          'coordinates': [43.024127, -76.128685],\n",
       "          'description': '13244, NY',\n",
       "          'isVia': False,\n",
       "          'locationIdentifier': '0|118|10|131|71|17|40|46|36|0|0|224|1|97|252|62|63|0|43.024127,-76.128685',\n",
       "          'routePathIndex': 0},\n",
       "         'travelDistance': 1.995,\n",
       "         'travelDuration': 288}],\n",
       "       'startLocation': {'bbox': [43.0093, -76.140739, 43.042652, -76.112434],\n",
       "        'name': '13244, NY',\n",
       "        'point': {'type': 'Point', 'coordinates': [43.024128, -76.12867]},\n",
       "        'address': {'adminDistrict': 'NY',\n",
       "         'adminDistrict2': 'Onondaga County',\n",
       "         'countryRegion': 'United States',\n",
       "         'formattedAddress': '13244, NY',\n",
       "         'locality': 'Syracuse',\n",
       "         'postalCode': '13244'},\n",
       "        'confidence': 'High',\n",
       "        'entityType': 'Postcode1',\n",
       "        'geocodePoints': [{'type': 'Point',\n",
       "          'coordinates': [43.024128, -76.12867],\n",
       "          'calculationMethod': 'Rooftop',\n",
       "          'usageTypes': ['Display']}],\n",
       "        'matchCodes': ['UpHierarchy']},\n",
       "       'travelDistance': 1.995,\n",
       "       'travelDuration': 288,\n",
       "       'travelMode': 'Driving'}],\n",
       "     'trafficCongestion': 'None',\n",
       "     'trafficDataUsed': 'None',\n",
       "     'travelDistance': 1.995,\n",
       "     'travelDuration': 288,\n",
       "     'travelDurationTraffic': 254,\n",
       "     'travelMode': 'Driving'}]}],\n",
       " 'statusCode': 200,\n",
       " 'statusDescription': 'OK',\n",
       " 'traceId': '05245665c1e34b58b02b1bd7ce8c0061|BN000021DB|0.0.0.0|BN00001860, Leg0-BN000033A2|Ref A: FC7D8D0DACA34C41969F37BF94323F78 Ref B: BN3EDGE0708 Ref C: 2021-01-19T02:25:37Z|Ref A: BD9B8801E83147DDA77A31D022A45393 Ref B: BN3EDGE1015 Ref C: 2021-01-19T02:25:37Z'}"
      ]
     },
     "execution_count": 7,
     "metadata": {},
     "output_type": "execute_result"
    }
   ],
   "source": [
    "# PROMPT 3 Demonstrate you can call the API\n",
    "\n",
    "start = 'Manley Field House, Syracuse, NY 13244'\n",
    "finish =  'Carrier Dome, Syracuse, NY 13204'\n",
    "bing_key = 'AhZv5ghIa4LKrsWJYkOkwyHZkv-2UF0ECLjMr7uUuo5rIfd3u0YVmzVzsIVmDeiK'\n",
    "directions_endpoint_url = 'http://dev.virtualearth.net/REST/V1/Routes/Driving'\n",
    "query_string = { \n",
    "    'wp.0' : start, \n",
    "    'wp.1' : finish, \n",
    "    'key' : bing_key \n",
    "}\n",
    "response =requests.get(directions_endpoint_url, params = query_string)\n",
    "data = response.json()\n",
    "data\n"
   ]
  },
  {
   "cell_type": "code",
   "execution_count": 8,
   "metadata": {},
   "outputs": [
    {
     "name": "stdout",
     "output_type": "stream",
     "text": [
      "Head north on Comstock Ave toward Acorn Path\n",
      "Turn left onto Euclid Ave\n",
      "Road name changes to Sims Dr\n",
      "Turn right onto Forestry Dr\n",
      "Arrive at Carrier Dome, NY on the left\n"
     ]
    }
   ],
   "source": [
    "# PROMPT 4 What do I need from the response?\n",
    "for x in data['resourceSets'][0]['resources'][0]['routeLegs'][0]['itineraryItems']:\n",
    "    print(x['instruction']['text'])"
   ]
  },
  {
   "cell_type": "markdown",
   "metadata": {},
   "source": [
    "## Step 1.c: Refactor into a function `getDirections()`\n",
    "\n",
    "Now the we understand the API, let's refactor the code into a useable function \n",
    "\n",
    "FUNCTION INPUTS:\n",
    "\n",
    "    PROMPT 5\n",
    "    \n",
    "FUNCTION OUTPUTS:\n",
    "\n",
    "    PROMPT 6\n",
    "    \n",
    "ALGORITHM:\n",
    "\n",
    "    PROMPT 7\n",
    "    \n",
    "TEST (How do we know it's right?)\n",
    "\n",
    "    PROMPT 8"
   ]
  },
  {
   "cell_type": "code",
   "execution_count": 35,
   "metadata": {},
   "outputs": [],
   "source": [
    "# PROMPT 9 - write function\n",
    "def getDirections(bing_key, start_address, finish_address):\n",
    "    directions_endpoint_url = 'http://dev.virtualearth.net/REST/V1/Routes/Driving'\n",
    "    query_string = { \n",
    "        'wp.0' : start_address, \n",
    "        'wp.1' : finish_address, \n",
    "        'key' : bing_key \n",
    "    }\n",
    "    response =requests.get(directions_endpoint_url, params = query_string)\n",
    "    response.raise_for_status()\n",
    "    data = response.json()\n",
    "    return data['resourceSets'][0]['resources'][0]['routeLegs'][0]['itineraryItems']\n"
   ]
  },
  {
   "cell_type": "markdown",
   "metadata": {},
   "source": [
    "## Step 1.d: Test the function"
   ]
  },
  {
   "cell_type": "code",
   "execution_count": 36,
   "metadata": {},
   "outputs": [
    {
     "name": "stdout",
     "output_type": "stream",
     "text": [
      "Head north on Comstock Ave toward Acorn Path\n",
      "Turn left onto Euclid Ave\n",
      "Road name changes to Sims Dr\n",
      "Turn right onto Forestry Dr\n",
      "Arrive at Carrier Dome, NY on the left\n"
     ]
    }
   ],
   "source": [
    "# PROMPT 10\n",
    "\n",
    "bing_key = 'AhZv5ghIa4LKrsWJYkOkwyHZkv-2UF0ECLjMr7uUuo5rIfd3u0YVmzVzsIVmDeiK'\n",
    "start = 'Manley Field House, Syracuse, NY 13244'\n",
    "finish =  'Carrier Dome, Syracuse, NY 13204'\n",
    "for d in getDirections(bing_key,start,finish):\n",
    "    print(d['instruction']['text'])"
   ]
  },
  {
   "cell_type": "markdown",
   "metadata": {},
   "source": [
    "## Step 2: Putting it all together\n",
    "\n",
    "\n",
    "PROMPTS:\n",
    "\n",
    "     11. Input your home address, then city where you want to eat.\n",
    "     12. Use Zomato to find the cityid\n",
    "     13. Use Zomato to get the trending restaurants\n",
    "     14. Build a list of trending restaurants\n",
    "     15. Start Interact - upon selection of a restaurant\n",
    "         16. find restaurant ID\n",
    "         17. get restaurant detail\n",
    "         18. show restaurant details name, cuisine, hours, address, phone\n",
    "         19. find driving directions from home address to restaurant \n"
   ]
  },
  {
   "cell_type": "code",
   "execution_count": 37,
   "metadata": {},
   "outputs": [
    {
     "data": {
      "text/html": [
       "<h1>Fudge's Food Finder</h1>"
      ],
      "text/plain": [
       "<IPython.core.display.HTML object>"
      ]
     },
     "metadata": {},
     "output_type": "display_data"
    },
    {
     "data": {
      "application/vnd.jupyter.widget-view+json": {
       "model_id": "aa28a3ba78084865894d38f918c6fb1e",
       "version_major": 2,
       "version_minor": 0
      },
      "text/plain": [
       "interactive(children=(Dropdown(description='restaurant', options=(\"Italian, Pizza: Paladino's Cicero Pizza\", '…"
      ]
     },
     "metadata": {},
     "output_type": "display_data"
    }
   ],
   "source": [
    "from IPython.display import display, HTML\n",
    "from ipywidgets import widgets, interact\n",
    "import requests\n",
    "\n",
    "# PROMPTS\n",
    "display(HTML(\"<h1>Fudge's Food Finder</h1>\"))\n",
    "bing_key = 'AhZv5ghIa4LKrsWJYkOkwyHZkv-2UF0ECLjMr7uUuo5rIfd3u0YVmzVzsIVmDeiK'\n",
    "zomato_key = '5aee574594af0c43a13d8f5e81744b73'\n",
    "\n",
    "home = input(\"Enter your home address: \")\n",
    "city = input(\"Enter city where you wish to eat: \")\n",
    "city_id = zomato.getCityId(zomato_key, city)\n",
    "rests = zomato.getTrending(zomato_key, city_id)\n",
    "rest_list = [ f\"{r['restaurant']['cuisines']}: {r['restaurant']['name']}\" for r in rests]\n",
    "@interact(restaurant=rest_list)\n",
    "def main(restaurant):\n",
    "    index = rest_list.index(restaurant)\n",
    "    r = rests[index]\n",
    "    details = zomato.getDetails(zomato_key,r['restaurant']['R']['res_id'])\n",
    "    display(HTML(f\"<h3>{details['name']}</h3>\"))\n",
    "    print(f\"Address: {details['location']['address']}\")\n",
    "    print(f\"Cuisines: {details ['cuisines']}\")\n",
    "    print(f\"Hours: {details['timings']}\")\n",
    "    print(f\"Phone: {details['phone_numbers']}\")    \n",
    "    display(HTML(f\"<h3>Directions:</h3>\"))\n",
    "    print(f\"FROM: {home}\")\n",
    "    print(f\"TO  : {details['location']['address']}\")\n",
    "    directions = getDirections(bing_key, home, details['location']['address'])\n",
    "    for d in directions:\n",
    "        print(f\"- {d['instruction']['text']}\")\n"
   ]
  },
  {
   "cell_type": "code",
   "execution_count": null,
   "metadata": {},
   "outputs": [],
   "source": [
    "# run this code to turn in your work!\n",
    "from coursetools.submission import Submission\n",
    "Submission().submit_now()"
   ]
  }
 ],
 "metadata": {
  "kernelspec": {
   "display_name": "Python 3",
   "language": "python",
   "name": "python3"
  },
  "language_info": {
   "codemirror_mode": {
    "name": "ipython",
    "version": 3
   },
   "file_extension": ".py",
   "mimetype": "text/x-python",
   "name": "python",
   "nbconvert_exporter": "python",
   "pygments_lexer": "ipython3",
   "version": "3.8.6"
  },
  "toc": {
   "base_numbering": 1,
   "nav_menu": {},
   "number_sections": false,
   "sideBar": false,
   "skip_h1_title": false,
   "title_cell": "Table of Contents",
   "title_sidebar": "Contents",
   "toc_cell": false,
   "toc_position": {},
   "toc_section_display": false,
   "toc_window_display": false
  }
 },
 "nbformat": 4,
 "nbformat_minor": 2
}
