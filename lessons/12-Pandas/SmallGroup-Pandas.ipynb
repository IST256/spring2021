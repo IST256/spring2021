{
 "cells": [
  {
   "cell_type": "markdown",
   "metadata": {},
   "source": [
    "# Now You Code In Class: Tricks of The Pandas Masters\n",
    "\n",
    "We will try something a bit different in the Activity - A series of Pandas coding challenges!\n",
    "\n",
    "\n",
    "For this Now You Code, you will need the Zomato api https://developers.zomato.com/api which provides API access to local area restaurants information.\n"
   ]
  },
  {
   "cell_type": "code",
   "execution_count": 4,
   "metadata": {},
   "outputs": [],
   "source": [
    "import pandas as pd\n",
    "import import_ipynb\n",
    "import googleapi as google\n",
    "import requests\n",
    "\n",
    "google_api_key = '751838d6b9978955679461c80a7df60bde4f093d'"
   ]
  },
  {
   "cell_type": "markdown",
   "metadata": {},
   "source": [
    "## Warm-Up 1\n",
    "\n",
    "Load the following data set into a data frame, called `exam_df`\n",
    "\n",
    "https://raw.githubusercontent.com/mafudge/datasets/master/exam-scores/exam-scores.csv\n",
    "\n",
    "HINT: observe the file format!"
   ]
  },
  {
   "cell_type": "code",
   "execution_count": null,
   "metadata": {},
   "outputs": [],
   "source": []
  },
  {
   "cell_type": "markdown",
   "metadata": {},
   "source": [
    "## Warm-Up 2\n",
    "\n",
    "Load the following HTML table into a data frame called `res_df`\n",
    "\n",
    "https://en.wikipedia.org/wiki/Graphics_display_resolution#High-definition\n",
    "\n",
    "HINT: Which table is it on the page?"
   ]
  },
  {
   "cell_type": "code",
   "execution_count": null,
   "metadata": {},
   "outputs": [],
   "source": []
  },
  {
   "cell_type": "markdown",
   "metadata": {},
   "source": [
    "## Warm-Up 3\n",
    "\n",
    "For your `exam_df` display exams where the students made their own study guide  and finished in 30 minutes or less.\n",
    "\n",
    "HINT: This can be multiple steps\n"
   ]
  },
  {
   "cell_type": "code",
   "execution_count": null,
   "metadata": {},
   "outputs": [],
   "source": []
  },
  {
   "cell_type": "markdown",
   "metadata": {},
   "source": [
    "## Warm-Up 4\n",
    "\n",
    "For your `res_df`, display the displays which are larger than 1920 x 1080. Show columns `Name` and `H:V` only\n",
    "\n",
    "HINT: Again, think multiple steps"
   ]
  },
  {
   "cell_type": "code",
   "execution_count": null,
   "metadata": {},
   "outputs": [],
   "source": []
  },
  {
   "cell_type": "markdown",
   "metadata": {
    "collapsed": true,
    "slideshow": {
     "slide_type": "slide"
    }
   },
   "source": [
    "## Challenge 1\n",
    "\n",
    "1. Search the Open Street Maps  geocode api for \"Syracuse\" (leave off the NY) put the results in a dataframe (there should be several results). \n",
    "\n",
    "Example:\n",
    "https://nominatim.openstreetmap.org/search?q=Syracuse&format=json\n",
    "\n"
   ]
  },
  {
   "cell_type": "code",
   "execution_count": null,
   "metadata": {},
   "outputs": [],
   "source": []
  },
  {
   "cell_type": "markdown",
   "metadata": {},
   "source": [
    "## Challenge 2\n",
    "\n",
    "1. Load the categories into a dataframe. using the `pd.DataFrame()` method. Start with whatever is of type `list` as that will automatically place it into a `DataFrame` \n"
   ]
  },
  {
   "cell_type": "code",
   "execution_count": null,
   "metadata": {},
   "outputs": [],
   "source": []
  },
  {
   "cell_type": "markdown",
   "metadata": {},
   "source": [
    "## Challenge 3\n",
    "\n",
    "1. Let's call the IST256 google places search api, looking for bars in the Syracuse NY area, and load the results into a dataframe. You can call `google.googlePlacesSearch()` With these inputs lat=`43.0481`, lng=`-76.1474`, type=`'bar'`\n",
    "\n"
   ]
  },
  {
   "cell_type": "code",
   "execution_count": null,
   "metadata": {},
   "outputs": [],
   "source": []
  },
  {
   "cell_type": "markdown",
   "metadata": {},
   "source": [
    "## Challenge 4\n",
    "\n",
    "Notice the nested JSON. Yuk. This can be fixed using `pd.json_normalize` instead of `pd.DataFrame`.\n",
    "\n",
    "Fix the results above so that the nested JSON is flattened in the dataframe.\n"
   ]
  },
  {
   "cell_type": "code",
   "execution_count": null,
   "metadata": {},
   "outputs": [],
   "source": []
  },
  {
   "cell_type": "markdown",
   "metadata": {},
   "source": [
    "## Challenge 5\n",
    "\n",
    "Convert your dataframe back into a list of dict.\n",
    "\n",
    "1. use `to_records()` to convert the dataframe in Challenge 4 back into a `list` of `dict`.\n",
    "2. loop over the rows and print the bar name, rating, and whether it is open now, \n",
    "   for only those rows where the bar is open now.\n",
    "\n",
    "NOTE: The keys match he columns in the data frame.\n"
   ]
  },
  {
   "cell_type": "code",
   "execution_count": null,
   "metadata": {},
   "outputs": [],
   "source": []
  },
  {
   "cell_type": "code",
   "execution_count": null,
   "metadata": {},
   "outputs": [],
   "source": [
    "# run this code to turn in your work!\n",
    "from coursetools.submission import Submission\n",
    "Submission().submit_now()"
   ]
  }
 ],
 "metadata": {
  "anaconda-cloud": {},
  "kernelspec": {
   "display_name": "Python 3",
   "language": "python",
   "name": "python3"
  },
  "language_info": {
   "codemirror_mode": {
    "name": "ipython",
    "version": 3
   },
   "file_extension": ".py",
   "mimetype": "text/x-python",
   "name": "python",
   "nbconvert_exporter": "python",
   "pygments_lexer": "ipython3",
   "version": "3.8.6"
  },
  "toc": {
   "base_numbering": 1,
   "nav_menu": {},
   "number_sections": false,
   "sideBar": false,
   "skip_h1_title": false,
   "title_cell": "Table of Contents",
   "title_sidebar": "Contents",
   "toc_cell": false,
   "toc_position": {},
   "toc_section_display": false,
   "toc_window_display": false
  }
 },
 "nbformat": 4,
 "nbformat_minor": 1
}
