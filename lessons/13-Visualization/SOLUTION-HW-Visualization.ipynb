{
 "cells": [
  {
   "cell_type": "markdown",
   "metadata": {},
   "source": [
    "# Homework: Visualizing UFO's\n",
    "\n",
    "## The Problem\n",
    "\n",
    "Let's go back to the UFO Dataset from earlier, remove the dataframe and add a Map!\n",
    "\n",
    " - You can start with the example from the previous unit.\n",
    "     - Require a state to be selected. (no more selecting all states)\n",
    "     - Remove the option to search by shape.\n",
    " - load a dataset of geographic centers, so you can center the map accordingly. https://raw.githubusercontent.com/mafudge/datasets/master/usa/geographic-centers.csv\n",
    " - When you run the interact:\n",
    "     - Create a map\n",
    "     - UFO Dataframe is filtered according to the search criteria\n",
    "     - For each row in the dataframe, City and State must be geocoded to a Latitude and Longitude\n",
    "     - Add pin a pin for each dataframe row, with the summary as the hover text\n",
    "     - show the map\n",
    "\n",
    "### Screenshot of Sample Run\n",
    "\n",
    "![Screenshot](https://i.imgur.com/1dO4xiV.png)\n",
    "\n",
    "\n",
    "HINTS and ADVICE::\n",
    "\n",
    "- Use the **problem simplication** approach. Solve an eaiser problem, then ramp up the complexity.\n",
    "- Start with the example from the previous lesson.\n",
    "- Remove the search by shape and require a state to be selected\n",
    "- Add the map and get it to center over the selected state\n",
    "- Geocode the UFO sightings, add the pins to the map\n",
    "\n",
    "\n"
   ]
  },
  {
   "cell_type": "markdown",
   "metadata": {
    "label": "problem_analysis_cell"
   },
   "source": [
    "## Part 1: Problem Analysis\n",
    "\n",
    "Inputs:\n",
    "\n",
    "```\n",
    "TODO: Inputs\n",
    "```\n",
    "\n",
    "Outputs:\n",
    "\n",
    "```\n",
    "TODO: Outputs\n",
    "```\n",
    "\n",
    "Algorithm (Steps in Program):  \n",
    "\n",
    "```\n",
    "TODO:Steps Here\n",
    "\n",
    "```"
   ]
  },
  {
   "cell_type": "markdown",
   "metadata": {},
   "source": [
    "## Part 2: Code Solution\n",
    "\n",
    "You may write your code in several cells, but place the complete, final working copy of your code solution within this single cell below. Only the within this cell will be considered your solution. Any imports or user-defined functions should be copied into this cell. "
   ]
  },
  {
   "cell_type": "code",
   "execution_count": 32,
   "metadata": {
    "label": "code_solution_cell"
   },
   "outputs": [
    {
     "data": {
      "text/html": [
       "<h1>Search UFO Sightings<h1>"
      ],
      "text/plain": [
       "<IPython.core.display.HTML object>"
      ]
     },
     "metadata": {},
     "output_type": "display_data"
    },
    {
     "data": {
      "application/vnd.jupyter.widget-view+json": {
       "model_id": "cf901dd045c44f6f88fb29d9f22ca415",
       "version_major": 2,
       "version_minor": 0
      },
      "text/plain": [
       "interactive(children=(Dropdown(description='state', options=('AB', 'AK', 'AL', 'AR', 'AZ', 'BC', 'CA', 'CO', '…"
      ]
     },
     "metadata": {},
     "output_type": "display_data"
    }
   ],
   "source": [
    "# Step 2: Write code here\n",
    "\n",
    "import requests \n",
    "import geocoder\n",
    "import folium\n",
    "import pandas as pd\n",
    "from IPython.display import display,HTML\n",
    "from ipywidgets import widgets, interact_manual\n",
    "import warnings\n",
    "warnings.filterwarnings('ignore')\n",
    "\n",
    "def loadUFODataFrame():\n",
    "    ufo_df = pd.DataFrame()\n",
    "    for i in range(1,6):\n",
    "        ufo = pd.read_csv(f'https://raw.githubusercontent.com/mafudge/datasets/master/ufo-sightings/ufo-sightings-2016-0{i}.csv')\n",
    "        ufo_df = ufo_df.append(ufo, ignore_index=True)\n",
    "    return ufo_df\n",
    "\n",
    "\n",
    "def getGeographicCenters():\n",
    "    geo = pd.read_csv('https://raw.githubusercontent.com/mafudge/datasets/master/usa/geographic-centers.csv')\n",
    "    return geo\n",
    "\n",
    "def getLatLong(geo,state_code):\n",
    "    for g in geo.to_records():\n",
    "        if g['Code'] == state_code:\n",
    "            return g['Latitude'], g['Longitude']\n",
    "    \n",
    "def drawMap(df, lat,lon):\n",
    "    m = folium.Map(location=(lat,lon), zoom_start=7)\n",
    "    for r in df.to_records():\n",
    "        g = geocoder.osm(f\"{r['City']},{r['State']}\")\n",
    "        if g.ok:\n",
    "            marker = folium.Marker(location=g.latlng, popup=r['Summary'])\n",
    "            m.add_child(marker)\n",
    "    return m\n",
    "\n",
    "df = loadUFODataFrame()\n",
    "geo = getGeographicCenters()\n",
    "display(HTML(\"<h1>Search UFO Sightings<h1>\"))\n",
    "states = list(df['State'].dropna().unique())\n",
    "states.sort()\n",
    "shapes = list(df['Shape'].dropna().unique())\n",
    "shapes.sort()\n",
    "shapes.insert(0, '*ANY*')\n",
    "@interact_manual(state=states, summary=\"\")\n",
    "def main(state, summary):\n",
    "    search_df = df[ df.State == state ]\n",
    "    lat,lon  = getLatLong(geo,state)\n",
    "    if summary != \"\":    \n",
    "        search_df = search_df[search_df.Summary.str.find(summary) >=0 ]\n",
    "    map = drawMap(search_df, lat,lon)\n",
    "    display(map)"
   ]
  },
  {
   "cell_type": "markdown",
   "metadata": {
    "label": "homework_questions_cell"
   },
   "source": [
    "## Part 3: Questions\n",
    "\n",
    "1. Why does the program crash when you select `AB` or `ON` ? What is happening here?\n",
    "\n",
    "`--== Double-Click and Write Your Answer Below This Line ==--`  \n",
    "\n",
    "\n",
    "2. It takes a while to draw the map because of the geocoding process. Describe an approach to improve performance.\n",
    "\n",
    "`--== Double-Click and Write Your Answer Below This Line ==--`  \n",
    "\n",
    "\n",
    "3. How would you handle errors this program to make it more user friendly?\n",
    "\n",
    "`--== Double-Click and Write Your Answer Below This Line ==--`  \n",
    "\n",
    "\n"
   ]
  },
  {
   "cell_type": "markdown",
   "metadata": {
    "label": "reflection_cell"
   },
   "source": [
    "## Part 4: Reflection\n",
    "\n",
    "Reflect upon your experience completing this assignment. This should be a personal narrative, in your own voice, and cite specifics relevant to the activity as to help the grader understand how you arrived at the code you submitted. Things to consider touching upon: Elaborate on the process itself. Did your original problem analysis work as designed?  How many iterations did you go through before you arrived at the solution? Where did you struggle along the way and how did you overcome it? What did you learn from completing the assignment? What do you need to work on to get better? What was most valuable and least valuable about this exercise? Do you have any suggestions for improvements?\n",
    "\n",
    "To make a good reflection, you should journal your thoughts, questions and comments while you complete the exercise.\n",
    "\n",
    "Keep your response to between 100 and 250 words.\n",
    "\n",
    "`--== Double-Click and Write Your Reflection Below Here ==--`  \n"
   ]
  },
  {
   "cell_type": "code",
   "execution_count": null,
   "metadata": {},
   "outputs": [],
   "source": [
    "# run this code to turn in your work!\n",
    "from coursetools.submission import Submission\n",
    "Submission().submit()"
   ]
  }
 ],
 "metadata": {
  "anaconda-cloud": {},
  "celltoolbar": "Edit Metadata",
  "kernelspec": {
   "display_name": "Python 3",
   "language": "python",
   "name": "python3"
  },
  "language_info": {
   "codemirror_mode": {
    "name": "ipython",
    "version": 3
   },
   "file_extension": ".py",
   "mimetype": "text/x-python",
   "name": "python",
   "nbconvert_exporter": "python",
   "pygments_lexer": "ipython3",
   "version": "3.8.6"
  },
  "toc": {
   "base_numbering": 1,
   "nav_menu": {},
   "number_sections": false,
   "sideBar": false,
   "skip_h1_title": false,
   "title_cell": "Table of Contents",
   "title_sidebar": "Contents",
   "toc_cell": false,
   "toc_position": {},
   "toc_section_display": false,
   "toc_window_display": false
  }
 },
 "nbformat": 4,
 "nbformat_minor": 4
}
