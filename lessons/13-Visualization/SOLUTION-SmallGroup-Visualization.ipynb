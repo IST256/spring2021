{
 "cells": [
  {
   "cell_type": "markdown",
   "metadata": {},
   "source": [
    "## Now You Code In Class: Tricks of The DataViz Masters\n",
    "\n",
    "We will try something a bit different in the Activity - A series of Data Visualization coding challenges!\n",
    "\n",
    "For this Now You Code, you will need:\n",
    "\n",
    "    - OpenWeatherMap API key https://openweathermap.org/api (From previous HW)\n",
    "    - Plotly Credentials  https://developers.zomato.com/api (From Lab) \n",
    "    \n",
    "\n",
    "    \n"
   ]
  },
  {
   "cell_type": "code",
   "execution_count": 104,
   "metadata": {},
   "outputs": [],
   "source": [
    "import requests\n",
    "import geocoder\n",
    "import matplotlib\n",
    "import matplotlib.pyplot as plt\n",
    "import chart_studio as plotly\n",
    "import chart_studio.plotly as py\n",
    "import plotly.express as px\n",
    "import plotly.graph_objects as go\n",
    "import pandas as pd\n",
    "import folium\n",
    "from IPython.display import display"
   ]
  },
  {
   "cell_type": "code",
   "execution_count": 105,
   "metadata": {},
   "outputs": [],
   "source": [
    "# SET YOUR KEYS AND CREDENTIALS\n",
    "plotly.tools.set_credentials_file(username='???', api_key='???')\n",
    "weather_key = '67f9d45c32dd086df27f2b7a90370a8e' # sign up for your own key at https://openweathermap.org/ "
   ]
  },
  {
   "cell_type": "code",
   "execution_count": 106,
   "metadata": {},
   "outputs": [],
   "source": [
    "def getWeather(weather_key,location):\n",
    "    g = geocoder.osm(location)\n",
    "    query_string = { 'lat' : g.latlng[0], 'lon': g.latlng[1], 'appid' : weather_key, 'units' : 'imperial'}\n",
    "    url='https://api.openweathermap.org/data/2.5/onecall' \n",
    "    response = requests.get(url, params=query_string)\n",
    "    response.raise_for_status()\n",
    "    #print (response.url)\n",
    "    weather = response.json()\n",
    "    return weather\n"
   ]
  },
  {
   "cell_type": "markdown",
   "metadata": {},
   "source": [
    "# Exam Scores Data Set\n",
    "\n",
    "Load the data"
   ]
  },
  {
   "cell_type": "code",
   "execution_count": 107,
   "metadata": {},
   "outputs": [
    {
     "data": {
      "text/html": [
       "<div>\n",
       "<style scoped>\n",
       "    .dataframe tbody tr th:only-of-type {\n",
       "        vertical-align: middle;\n",
       "    }\n",
       "\n",
       "    .dataframe tbody tr th {\n",
       "        vertical-align: top;\n",
       "    }\n",
       "\n",
       "    .dataframe thead th {\n",
       "        text-align: right;\n",
       "    }\n",
       "</style>\n",
       "<table border=\"1\" class=\"dataframe\">\n",
       "  <thead>\n",
       "    <tr style=\"text-align: right;\">\n",
       "      <th></th>\n",
       "      <th>Class_Section</th>\n",
       "      <th>Exam_Version</th>\n",
       "      <th>Completion_Time</th>\n",
       "      <th>Made_Own_Study_Guide</th>\n",
       "      <th>Did_Exam_Prep Assignment</th>\n",
       "      <th>Studied_In_Groups</th>\n",
       "      <th>Student_Score</th>\n",
       "      <th>Percentage</th>\n",
       "      <th>Letter_Grade</th>\n",
       "    </tr>\n",
       "  </thead>\n",
       "  <tbody>\n",
       "    <tr>\n",
       "      <th>62</th>\n",
       "      <td>M02</td>\n",
       "      <td>D</td>\n",
       "      <td>45</td>\n",
       "      <td>?</td>\n",
       "      <td>?</td>\n",
       "      <td>?</td>\n",
       "      <td>24</td>\n",
       "      <td>80.00%</td>\n",
       "      <td>B</td>\n",
       "    </tr>\n",
       "    <tr>\n",
       "      <th>17</th>\n",
       "      <td>M01</td>\n",
       "      <td>C</td>\n",
       "      <td>45</td>\n",
       "      <td>N</td>\n",
       "      <td>Y</td>\n",
       "      <td>Y</td>\n",
       "      <td>23</td>\n",
       "      <td>76.70%</td>\n",
       "      <td>B-</td>\n",
       "    </tr>\n",
       "    <tr>\n",
       "      <th>40</th>\n",
       "      <td>M02</td>\n",
       "      <td>B</td>\n",
       "      <td>25</td>\n",
       "      <td>?</td>\n",
       "      <td>?</td>\n",
       "      <td>?</td>\n",
       "      <td>25</td>\n",
       "      <td>83.30%</td>\n",
       "      <td>B</td>\n",
       "    </tr>\n",
       "    <tr>\n",
       "      <th>32</th>\n",
       "      <td>M02</td>\n",
       "      <td>A</td>\n",
       "      <td>35</td>\n",
       "      <td>?</td>\n",
       "      <td>?</td>\n",
       "      <td>?</td>\n",
       "      <td>22</td>\n",
       "      <td>73.30%</td>\n",
       "      <td>C+</td>\n",
       "    </tr>\n",
       "    <tr>\n",
       "      <th>24</th>\n",
       "      <td>M01</td>\n",
       "      <td>D</td>\n",
       "      <td>40</td>\n",
       "      <td>?</td>\n",
       "      <td>?</td>\n",
       "      <td>?</td>\n",
       "      <td>20</td>\n",
       "      <td>66.70%</td>\n",
       "      <td>C</td>\n",
       "    </tr>\n",
       "  </tbody>\n",
       "</table>\n",
       "</div>"
      ],
      "text/plain": [
       "   Class_Section Exam_Version  Completion_Time Made_Own_Study_Guide  \\\n",
       "62           M02            D               45                    ?   \n",
       "17           M01            C               45                    N   \n",
       "40           M02            B               25                    ?   \n",
       "32           M02            A               35                    ?   \n",
       "24           M01            D               40                    ?   \n",
       "\n",
       "   Did_Exam_Prep Assignment Studied_In_Groups  Student_Score Percentage  \\\n",
       "62                        ?                 ?             24     80.00%   \n",
       "17                        Y                 Y             23     76.70%   \n",
       "40                        ?                 ?             25     83.30%   \n",
       "32                        ?                 ?             22     73.30%   \n",
       "24                        ?                 ?             20     66.70%   \n",
       "\n",
       "   Letter_Grade  \n",
       "62            B  \n",
       "17           B-  \n",
       "40            B  \n",
       "32           C+  \n",
       "24            C  "
      ]
     },
     "metadata": {},
     "output_type": "display_data"
    }
   ],
   "source": [
    "exam_df = pd.read_csv('https://raw.githubusercontent.com/mafudge/datasets/master/exam-scores/exam-scores.csv')\n",
    "display(exam_df.sample(5))"
   ]
  },
  {
   "cell_type": "markdown",
   "metadata": {},
   "source": [
    "## Challenge 1\n",
    "\n",
    "Use `matplotlib` to plot a pie chart of 'Studied In Groups`\n",
    "\n",
    "HINTS: \n",
    " - You must get `value_counts` of the series, then make a `DataFrame` from it and plot.\n",
    " - Plotting help:  `help(df.plot.pie)` where `df` is the dataframe you made.\n"
   ]
  },
  {
   "cell_type": "code",
   "execution_count": 108,
   "metadata": {},
   "outputs": [
    {
     "data": {
      "text/plain": [
       "<AxesSubplot:ylabel='Counts'>"
      ]
     },
     "execution_count": 108,
     "metadata": {},
     "output_type": "execute_result"
    },
    {
     "data": {
      "image/png": "[encoded data removed]",
      "text/plain": [
       "<Figure size 432x288 with 1 Axes>"
      ]
     },
     "metadata": {},
     "output_type": "display_data"
    }
   ],
   "source": [
    "sig = exam_df['Studied_In_Groups'].value_counts()\n",
    "sig_df = pd.DataFrame( { \"SIG\" : sig.index, \"Counts\" : sig })\n",
    "sig_df.plot.pie(y=\"Counts\")\n",
    "\n"
   ]
  },
  {
   "cell_type": "markdown",
   "metadata": {},
   "source": [
    "## Challenge 2\n",
    "\n",
    "Use `plotly` express to plot the same pie chart of 'Studied In Groups`\n",
    "\n",
    "HINT: You can use the dataframe from the previous cell. `help(px.pie)` for assistance\n"
   ]
  },
  {
   "cell_type": "code",
   "execution_count": 109,
   "metadata": {
    "scrolled": false
   },
   "outputs": [
    {
     "data": {
      "application/vnd.plotly.v1+json": {
       "config": {
        "plotlyServerURL": "https://plotly.com"
       },
       "data": [
        {
         "domain": {
          "x": [
           0,
           1
          ],
          "y": [
           0,
           1
          ]
         },
         "hovertemplate": "SIG=%{label}<br>Counts=%{value}<extra></extra>",
         "labels": [
          "Y",
          "N",
          "?"
         ],
         "legendgroup": "",
         "name": "",
         "showlegend": true,
         "type": "pie",
         "values": [
          27,
          24,
          14
         ]
        }
       ],
       "layout": {
        "legend": {
         "tracegroupgap": 0
        },
        "margin": {
         "t": 60
        },
        "template": {
         "data": {
          "bar": [
           {
            "error_x": {
             "color": "#2a3f5f"
            },
            "error_y": {
             "color": "#2a3f5f"
            },
            "marker": {
             "line": {
              "color": "#E5ECF6",
              "width": 0.5
             }
            },
            "type": "bar"
           }
          ],
          "barpolar": [
           {
            "marker": {
             "line": {
              "color": "#E5ECF6",
              "width": 0.5
             }
            },
            "type": "barpolar"
           }
          ],
          "carpet": [
           {
            "aaxis": {
             "endlinecolor": "#2a3f5f",
             "gridcolor": "white",
             "linecolor": "white",
             "minorgridcolor": "white",
             "startlinecolor": "#2a3f5f"
            },
            "baxis": {
             "endlinecolor": "#2a3f5f",
             "gridcolor": "white",
             "linecolor": "white",
             "minorgridcolor": "white",
             "startlinecolor": "#2a3f5f"
            },
            "type": "carpet"
           }
          ],
          "choropleth": [
           {
            "colorbar": {
             "outlinewidth": 0,
             "ticks": ""
            },
            "type": "choropleth"
           }
          ],
          "contour": [
           {
            "colorbar": {
             "outlinewidth": 0,
             "ticks": ""
            },
            "colorscale": [
             [
              0,
              "#0d0887"
             ],
             [
              0.1111111111111111,
              "#46039f"
             ],
             [
              0.2222222222222222,
              "#7201a8"
             ],
             [
              0.3333333333333333,
              "#9c179e"
             ],
             [
              0.4444444444444444,
              "#bd3786"
             ],
             [
              0.5555555555555556,
              "#d8576b"
             ],
             [
              0.6666666666666666,
              "#ed7953"
             ],
             [
              0.7777777777777778,
              "#fb9f3a"
             ],
             [
              0.8888888888888888,
              "#fdca26"
             ],
             [
              1,
              "#f0f921"
             ]
            ],
            "type": "contour"
           }
          ],
          "contourcarpet": [
           {
            "colorbar": {
             "outlinewidth": 0,
             "ticks": ""
            },
            "type": "contourcarpet"
           }
          ],
          "heatmap": [
           {
            "colorbar": {
             "outlinewidth": 0,
             "ticks": ""
            },
            "colorscale": [
             [
              0,
              "#0d0887"
             ],
             [
              0.1111111111111111,
              "#46039f"
             ],
             [
              0.2222222222222222,
              "#7201a8"
             ],
             [
              0.3333333333333333,
              "#9c179e"
             ],
             [
              0.4444444444444444,
              "#bd3786"
             ],
             [
              0.5555555555555556,
              "#d8576b"
             ],
             [
              0.6666666666666666,
              "#ed7953"
             ],
             [
              0.7777777777777778,
              "#fb9f3a"
             ],
             [
              0.8888888888888888,
              "#fdca26"
             ],
             [
              1,
              "#f0f921"
             ]
            ],
            "type": "heatmap"
           }
          ],
          "heatmapgl": [
           {
            "colorbar": {
             "outlinewidth": 0,
             "ticks": ""
            },
            "colorscale": [
             [
              0,
              "#0d0887"
             ],
             [
              0.1111111111111111,
              "#46039f"
             ],
             [
              0.2222222222222222,
              "#7201a8"
             ],
             [
              0.3333333333333333,
              "#9c179e"
             ],
             [
              0.4444444444444444,
              "#bd3786"
             ],
             [
              0.5555555555555556,
              "#d8576b"
             ],
             [
              0.6666666666666666,
              "#ed7953"
             ],
             [
              0.7777777777777778,
              "#fb9f3a"
             ],
             [
              0.8888888888888888,
              "#fdca26"
             ],
             [
              1,
              "#f0f921"
             ]
            ],
            "type": "heatmapgl"
           }
          ],
          "histogram": [
           {
            "marker": {
             "colorbar": {
              "outlinewidth": 0,
              "ticks": ""
             }
            },
            "type": "histogram"
           }
          ],
          "histogram2d": [
           {
            "colorbar": {
             "outlinewidth": 0,
             "ticks": ""
            },
            "colorscale": [
             [
              0,
              "#0d0887"
             ],
             [
              0.1111111111111111,
              "#46039f"
             ],
             [
              0.2222222222222222,
              "#7201a8"
             ],
             [
              0.3333333333333333,
              "#9c179e"
             ],
             [
              0.4444444444444444,
              "#bd3786"
             ],
             [
              0.5555555555555556,
              "#d8576b"
             ],
             [
              0.6666666666666666,
              "#ed7953"
             ],
             [
              0.7777777777777778,
              "#fb9f3a"
             ],
             [
              0.8888888888888888,
              "#fdca26"
             ],
             [
              1,
              "#f0f921"
             ]
            ],
            "type": "histogram2d"
           }
          ],
          "histogram2dcontour": [
           {
            "colorbar": {
             "outlinewidth": 0,
             "ticks": ""
            },
            "colorscale": [
             [
              0,
              "#0d0887"
             ],
             [
              0.1111111111111111,
              "#46039f"
             ],
             [
              0.2222222222222222,
              "#7201a8"
             ],
             [
              0.3333333333333333,
              "#9c179e"
             ],
             [
              0.4444444444444444,
              "#bd3786"
             ],
             [
              0.5555555555555556,
              "#d8576b"
             ],
             [
              0.6666666666666666,
              "#ed7953"
             ],
             [
              0.7777777777777778,
              "#fb9f3a"
             ],
             [
              0.8888888888888888,
              "#fdca26"
             ],
             [
              1,
              "#f0f921"
             ]
            ],
            "type": "histogram2dcontour"
           }
          ],
          "mesh3d": [
           {
            "colorbar": {
             "outlinewidth": 0,
             "ticks": ""
            },
            "type": "mesh3d"
           }
          ],
          "parcoords": [
           {
            "line": {
             "colorbar": {
              "outlinewidth": 0,
              "ticks": ""
             }
            },
            "type": "parcoords"
           }
          ],
          "pie": [
           {
            "automargin": true,
            "type": "pie"
           }
          ],
          "scatter": [
           {
            "marker": {
             "colorbar": {
              "outlinewidth": 0,
              "ticks": ""
             }
            },
            "type": "scatter"
           }
          ],
          "scatter3d": [
           {
            "line": {
             "colorbar": {
              "outlinewidth": 0,
              "ticks": ""
             }
            },
            "marker": {
             "colorbar": {
              "outlinewidth": 0,
              "ticks": ""
             }
            },
            "type": "scatter3d"
           }
          ],
          "scattercarpet": [
           {
            "marker": {
             "colorbar": {
              "outlinewidth": 0,
              "ticks": ""
             }
            },
            "type": "scattercarpet"
           }
          ],
          "scattergeo": [
           {
            "marker": {
             "colorbar": {
              "outlinewidth": 0,
              "ticks": ""
             }
            },
            "type": "scattergeo"
           }
          ],
          "scattergl": [
           {
            "marker": {
             "colorbar": {
              "outlinewidth": 0,
              "ticks": ""
             }
            },
            "type": "scattergl"
           }
          ],
          "scattermapbox": [
           {
            "marker": {
             "colorbar": {
              "outlinewidth": 0,
              "ticks": ""
             }
            },
            "type": "scattermapbox"
           }
          ],
          "scatterpolar": [
           {
            "marker": {
             "colorbar": {
              "outlinewidth": 0,
              "ticks": ""
             }
            },
            "type": "scatterpolar"
           }
          ],
          "scatterpolargl": [
           {
            "marker": {
             "colorbar": {
              "outlinewidth": 0,
              "ticks": ""
             }
            },
            "type": "scatterpolargl"
           }
          ],
          "scatterternary": [
           {
            "marker": {
             "colorbar": {
              "outlinewidth": 0,
              "ticks": ""
             }
            },
            "type": "scatterternary"
           }
          ],
          "surface": [
           {
            "colorbar": {
             "outlinewidth": 0,
             "ticks": ""
            },
            "colorscale": [
             [
              0,
              "#0d0887"
             ],
             [
              0.1111111111111111,
              "#46039f"
             ],
             [
              0.2222222222222222,
              "#7201a8"
             ],
             [
              0.3333333333333333,
              "#9c179e"
             ],
             [
              0.4444444444444444,
              "#bd3786"
             ],
             [
              0.5555555555555556,
              "#d8576b"
             ],
             [
              0.6666666666666666,
              "#ed7953"
             ],
             [
              0.7777777777777778,
              "#fb9f3a"
             ],
             [
              0.8888888888888888,
              "#fdca26"
             ],
             [
              1,
              "#f0f921"
             ]
            ],
            "type": "surface"
           }
          ],
          "table": [
           {
            "cells": {
             "fill": {
              "color": "#EBF0F8"
             },
             "line": {
              "color": "white"
             }
            },
            "header": {
             "fill": {
              "color": "#C8D4E3"
             },
             "line": {
              "color": "white"
             }
            },
            "type": "table"
           }
          ]
         },
         "layout": {
          "annotationdefaults": {
           "arrowcolor": "#2a3f5f",
           "arrowhead": 0,
           "arrowwidth": 1
          },
          "autotypenumbers": "strict",
          "coloraxis": {
           "colorbar": {
            "outlinewidth": 0,
            "ticks": ""
           }
          },
          "colorscale": {
           "diverging": [
            [
             0,
             "#8e0152"
            ],
            [
             0.1,
             "#c51b7d"
            ],
            [
             0.2,
             "#de77ae"
            ],
            [
             0.3,
             "#f1b6da"
            ],
            [
             0.4,
             "#fde0ef"
            ],
            [
             0.5,
             "#f7f7f7"
            ],
            [
             0.6,
             "#e6f5d0"
            ],
            [
             0.7,
             "#b8e186"
            ],
            [
             0.8,
             "#7fbc41"
            ],
            [
             0.9,
             "#4d9221"
            ],
            [
             1,
             "#276419"
            ]
           ],
           "sequential": [
            [
             0,
             "#0d0887"
            ],
            [
             0.1111111111111111,
             "#46039f"
            ],
            [
             0.2222222222222222,
             "#7201a8"
            ],
            [
             0.3333333333333333,
             "#9c179e"
            ],
            [
             0.4444444444444444,
             "#bd3786"
            ],
            [
             0.5555555555555556,
             "#d8576b"
            ],
            [
             0.6666666666666666,
             "#ed7953"
            ],
            [
             0.7777777777777778,
             "#fb9f3a"
            ],
            [
             0.8888888888888888,
             "#fdca26"
            ],
            [
             1,
             "#f0f921"
            ]
           ],
           "sequentialminus": [
            [
             0,
             "#0d0887"
            ],
            [
             0.1111111111111111,
             "#46039f"
            ],
            [
             0.2222222222222222,
             "#7201a8"
            ],
            [
             0.3333333333333333,
             "#9c179e"
            ],
            [
             0.4444444444444444,
             "#bd3786"
            ],
            [
             0.5555555555555556,
             "#d8576b"
            ],
            [
             0.6666666666666666,
             "#ed7953"
            ],
            [
             0.7777777777777778,
             "#fb9f3a"
            ],
            [
             0.8888888888888888,
             "#fdca26"
            ],
            [
             1,
             "#f0f921"
            ]
           ]
          },
          "colorway": [
           "#636efa",
           "#EF553B",
           "#00cc96",
           "#ab63fa",
           "#FFA15A",
           "#19d3f3",
           "#FF6692",
           "#B6E880",
           "#FF97FF",
           "#FECB52"
          ],
          "font": {
           "color": "#2a3f5f"
          },
          "geo": {
           "bgcolor": "white",
           "lakecolor": "white",
           "landcolor": "#E5ECF6",
           "showlakes": true,
           "showland": true,
           "subunitcolor": "white"
          },
          "hoverlabel": {
           "align": "left"
          },
          "hovermode": "closest",
          "mapbox": {
           "style": "light"
          },
          "paper_bgcolor": "white",
          "plot_bgcolor": "#E5ECF6",
          "polar": {
           "angularaxis": {
            "gridcolor": "white",
            "linecolor": "white",
            "ticks": ""
           },
           "bgcolor": "#E5ECF6",
           "radialaxis": {
            "gridcolor": "white",
            "linecolor": "white",
            "ticks": ""
           }
          },
          "scene": {
           "xaxis": {
            "backgroundcolor": "#E5ECF6",
            "gridcolor": "white",
            "gridwidth": 2,
            "linecolor": "white",
            "showbackground": true,
            "ticks": "",
            "zerolinecolor": "white"
           },
           "yaxis": {
            "backgroundcolor": "#E5ECF6",
            "gridcolor": "white",
            "gridwidth": 2,
            "linecolor": "white",
            "showbackground": true,
            "ticks": "",
            "zerolinecolor": "white"
           },
           "zaxis": {
            "backgroundcolor": "#E5ECF6",
            "gridcolor": "white",
            "gridwidth": 2,
            "linecolor": "white",
            "showbackground": true,
            "ticks": "",
            "zerolinecolor": "white"
           }
          },
          "shapedefaults": {
           "line": {
            "color": "#2a3f5f"
           }
          },
          "ternary": {
           "aaxis": {
            "gridcolor": "white",
            "linecolor": "white",
            "ticks": ""
           },
           "baxis": {
            "gridcolor": "white",
            "linecolor": "white",
            "ticks": ""
           },
           "bgcolor": "#E5ECF6",
           "caxis": {
            "gridcolor": "white",
            "linecolor": "white",
            "ticks": ""
           }
          },
          "title": {
           "x": 0.05
          },
          "xaxis": {
           "automargin": true,
           "gridcolor": "white",
           "linecolor": "white",
           "ticks": "",
           "title": {
            "standoff": 15
           },
           "zerolinecolor": "white",
           "zerolinewidth": 2
          },
          "yaxis": {
           "automargin": true,
           "gridcolor": "white",
           "linecolor": "white",
           "ticks": "",
           "title": {
            "standoff": 15
           },
           "zerolinecolor": "white",
           "zerolinewidth": 2
          }
         }
        }
       }
      },
      "text/html": [
       "<div>                            <div id=\"da5980d0-bbfd-4892-b57c-f1c0b84a5110\" class=\"plotly-graph-div\" style=\"height:525px; width:100%;\"></div>            <script type=\"text/javascript\">                require([\"plotly\"], function(Plotly) {                    window.PLOTLYENV=window.PLOTLYENV || {};                                    if (document.getElementById(\"da5980d0-bbfd-4892-b57c-f1c0b84a5110\")) {                    Plotly.newPlot(                        \"da5980d0-bbfd-4892-b57c-f1c0b84a5110\",                        [{\"domain\": {\"x\": [0.0, 1.0], \"y\": [0.0, 1.0]}, \"hovertemplate\": \"SIG=%{label}<br>Counts=%{value}<extra></extra>\", \"labels\": [\"Y\", \"N\", \"?\"], \"legendgroup\": \"\", \"name\": \"\", \"showlegend\": true, \"type\": \"pie\", \"values\": [27, 24, 14]}],                        {\"legend\": {\"tracegroupgap\": 0}, \"margin\": {\"t\": 60}, \"template\": {\"data\": {\"bar\": [{\"error_x\": {\"color\": \"#2a3f5f\"}, \"error_y\": {\"color\": \"#2a3f5f\"}, \"marker\": {\"line\": {\"color\": \"#E5ECF6\", \"width\": 0.5}}, \"type\": \"bar\"}], \"barpolar\": [{\"marker\": {\"line\": {\"color\": \"#E5ECF6\", \"width\": 0.5}}, \"type\": \"barpolar\"}], \"carpet\": [{\"aaxis\": {\"endlinecolor\": \"#2a3f5f\", \"gridcolor\": \"white\", \"linecolor\": \"white\", \"minorgridcolor\": \"white\", \"startlinecolor\": \"#2a3f5f\"}, \"baxis\": {\"endlinecolor\": \"#2a3f5f\", \"gridcolor\": \"white\", \"linecolor\": \"white\", \"minorgridcolor\": \"white\", \"startlinecolor\": \"#2a3f5f\"}, \"type\": \"carpet\"}], \"choropleth\": [{\"colorbar\": {\"outlinewidth\": 0, \"ticks\": \"\"}, \"type\": \"choropleth\"}], \"contour\": [{\"colorbar\": {\"outlinewidth\": 0, \"ticks\": \"\"}, \"colorscale\": [[0.0, \"#0d0887\"], [0.1111111111111111, \"#46039f\"], [0.2222222222222222, \"#7201a8\"], [0.3333333333333333, \"#9c179e\"], [0.4444444444444444, \"#bd3786\"], [0.5555555555555556, \"#d8576b\"], [0.6666666666666666, \"#ed7953\"], [0.7777777777777778, \"#fb9f3a\"], [0.8888888888888888, \"#fdca26\"], [1.0, \"#f0f921\"]], \"type\": \"contour\"}], \"contourcarpet\": [{\"colorbar\": {\"outlinewidth\": 0, \"ticks\": \"\"}, \"type\": \"contourcarpet\"}], \"heatmap\": [{\"colorbar\": {\"outlinewidth\": 0, \"ticks\": \"\"}, \"colorscale\": [[0.0, \"#0d0887\"], [0.1111111111111111, \"#46039f\"], [0.2222222222222222, \"#7201a8\"], [0.3333333333333333, \"#9c179e\"], [0.4444444444444444, \"#bd3786\"], [0.5555555555555556, \"#d8576b\"], [0.6666666666666666, \"#ed7953\"], [0.7777777777777778, \"#fb9f3a\"], [0.8888888888888888, \"#fdca26\"], [1.0, \"#f0f921\"]], \"type\": \"heatmap\"}], \"heatmapgl\": [{\"colorbar\": {\"outlinewidth\": 0, \"ticks\": \"\"}, \"colorscale\": [[0.0, \"#0d0887\"], [0.1111111111111111, \"#46039f\"], [0.2222222222222222, \"#7201a8\"], [0.3333333333333333, \"#9c179e\"], [0.4444444444444444, \"#bd3786\"], [0.5555555555555556, \"#d8576b\"], [0.6666666666666666, \"#ed7953\"], [0.7777777777777778, \"#fb9f3a\"], [0.8888888888888888, \"#fdca26\"], [1.0, \"#f0f921\"]], \"type\": \"heatmapgl\"}], \"histogram\": [{\"marker\": {\"colorbar\": {\"outlinewidth\": 0, \"ticks\": \"\"}}, \"type\": \"histogram\"}], \"histogram2d\": [{\"colorbar\": {\"outlinewidth\": 0, \"ticks\": \"\"}, \"colorscale\": [[0.0, \"#0d0887\"], [0.1111111111111111, \"#46039f\"], [0.2222222222222222, \"#7201a8\"], [0.3333333333333333, \"#9c179e\"], [0.4444444444444444, \"#bd3786\"], [0.5555555555555556, \"#d8576b\"], [0.6666666666666666, \"#ed7953\"], [0.7777777777777778, \"#fb9f3a\"], [0.8888888888888888, \"#fdca26\"], [1.0, \"#f0f921\"]], \"type\": \"histogram2d\"}], \"histogram2dcontour\": [{\"colorbar\": {\"outlinewidth\": 0, \"ticks\": \"\"}, \"colorscale\": [[0.0, \"#0d0887\"], [0.1111111111111111, \"#46039f\"], [0.2222222222222222, \"#7201a8\"], [0.3333333333333333, \"#9c179e\"], [0.4444444444444444, \"#bd3786\"], [0.5555555555555556, \"#d8576b\"], [0.6666666666666666, \"#ed7953\"], [0.7777777777777778, \"#fb9f3a\"], [0.8888888888888888, \"#fdca26\"], [1.0, \"#f0f921\"]], \"type\": \"histogram2dcontour\"}], \"mesh3d\": [{\"colorbar\": {\"outlinewidth\": 0, \"ticks\": \"\"}, \"type\": \"mesh3d\"}], \"parcoords\": [{\"line\": {\"colorbar\": {\"outlinewidth\": 0, \"ticks\": \"\"}}, \"type\": \"parcoords\"}], \"pie\": [{\"automargin\": true, \"type\": \"pie\"}], \"scatter\": [{\"marker\": {\"colorbar\": {\"outlinewidth\": 0, \"ticks\": \"\"}}, \"type\": \"scatter\"}], \"scatter3d\": [{\"line\": {\"colorbar\": {\"outlinewidth\": 0, \"ticks\": \"\"}}, \"marker\": {\"colorbar\": {\"outlinewidth\": 0, \"ticks\": \"\"}}, \"type\": \"scatter3d\"}], \"scattercarpet\": [{\"marker\": {\"colorbar\": {\"outlinewidth\": 0, \"ticks\": \"\"}}, \"type\": \"scattercarpet\"}], \"scattergeo\": [{\"marker\": {\"colorbar\": {\"outlinewidth\": 0, \"ticks\": \"\"}}, \"type\": \"scattergeo\"}], \"scattergl\": [{\"marker\": {\"colorbar\": {\"outlinewidth\": 0, \"ticks\": \"\"}}, \"type\": \"scattergl\"}], \"scattermapbox\": [{\"marker\": {\"colorbar\": {\"outlinewidth\": 0, \"ticks\": \"\"}}, \"type\": \"scattermapbox\"}], \"scatterpolar\": [{\"marker\": {\"colorbar\": {\"outlinewidth\": 0, \"ticks\": \"\"}}, \"type\": \"scatterpolar\"}], \"scatterpolargl\": [{\"marker\": {\"colorbar\": {\"outlinewidth\": 0, \"ticks\": \"\"}}, \"type\": \"scatterpolargl\"}], \"scatterternary\": [{\"marker\": {\"colorbar\": {\"outlinewidth\": 0, \"ticks\": \"\"}}, \"type\": \"scatterternary\"}], \"surface\": [{\"colorbar\": {\"outlinewidth\": 0, \"ticks\": \"\"}, \"colorscale\": [[0.0, \"#0d0887\"], [0.1111111111111111, \"#46039f\"], [0.2222222222222222, \"#7201a8\"], [0.3333333333333333, \"#9c179e\"], [0.4444444444444444, \"#bd3786\"], [0.5555555555555556, \"#d8576b\"], [0.6666666666666666, \"#ed7953\"], [0.7777777777777778, \"#fb9f3a\"], [0.8888888888888888, \"#fdca26\"], [1.0, \"#f0f921\"]], \"type\": \"surface\"}], \"table\": [{\"cells\": {\"fill\": {\"color\": \"#EBF0F8\"}, \"line\": {\"color\": \"white\"}}, \"header\": {\"fill\": {\"color\": \"#C8D4E3\"}, \"line\": {\"color\": \"white\"}}, \"type\": \"table\"}]}, \"layout\": {\"annotationdefaults\": {\"arrowcolor\": \"#2a3f5f\", \"arrowhead\": 0, \"arrowwidth\": 1}, \"autotypenumbers\": \"strict\", \"coloraxis\": {\"colorbar\": {\"outlinewidth\": 0, \"ticks\": \"\"}}, \"colorscale\": {\"diverging\": [[0, \"#8e0152\"], [0.1, \"#c51b7d\"], [0.2, \"#de77ae\"], [0.3, \"#f1b6da\"], [0.4, \"#fde0ef\"], [0.5, \"#f7f7f7\"], [0.6, \"#e6f5d0\"], [0.7, \"#b8e186\"], [0.8, \"#7fbc41\"], [0.9, \"#4d9221\"], [1, \"#276419\"]], \"sequential\": [[0.0, \"#0d0887\"], [0.1111111111111111, \"#46039f\"], [0.2222222222222222, \"#7201a8\"], [0.3333333333333333, \"#9c179e\"], [0.4444444444444444, \"#bd3786\"], [0.5555555555555556, \"#d8576b\"], [0.6666666666666666, \"#ed7953\"], [0.7777777777777778, \"#fb9f3a\"], [0.8888888888888888, \"#fdca26\"], [1.0, \"#f0f921\"]], \"sequentialminus\": [[0.0, \"#0d0887\"], [0.1111111111111111, \"#46039f\"], [0.2222222222222222, \"#7201a8\"], [0.3333333333333333, \"#9c179e\"], [0.4444444444444444, \"#bd3786\"], [0.5555555555555556, \"#d8576b\"], [0.6666666666666666, \"#ed7953\"], [0.7777777777777778, \"#fb9f3a\"], [0.8888888888888888, \"#fdca26\"], [1.0, \"#f0f921\"]]}, \"colorway\": [\"#636efa\", \"#EF553B\", \"#00cc96\", \"#ab63fa\", \"#FFA15A\", \"#19d3f3\", \"#FF6692\", \"#B6E880\", \"#FF97FF\", \"#FECB52\"], \"font\": {\"color\": \"#2a3f5f\"}, \"geo\": {\"bgcolor\": \"white\", \"lakecolor\": \"white\", \"landcolor\": \"#E5ECF6\", \"showlakes\": true, \"showland\": true, \"subunitcolor\": \"white\"}, \"hoverlabel\": {\"align\": \"left\"}, \"hovermode\": \"closest\", \"mapbox\": {\"style\": \"light\"}, \"paper_bgcolor\": \"white\", \"plot_bgcolor\": \"#E5ECF6\", \"polar\": {\"angularaxis\": {\"gridcolor\": \"white\", \"linecolor\": \"white\", \"ticks\": \"\"}, \"bgcolor\": \"#E5ECF6\", \"radialaxis\": {\"gridcolor\": \"white\", \"linecolor\": \"white\", \"ticks\": \"\"}}, \"scene\": {\"xaxis\": {\"backgroundcolor\": \"#E5ECF6\", \"gridcolor\": \"white\", \"gridwidth\": 2, \"linecolor\": \"white\", \"showbackground\": true, \"ticks\": \"\", \"zerolinecolor\": \"white\"}, \"yaxis\": {\"backgroundcolor\": \"#E5ECF6\", \"gridcolor\": \"white\", \"gridwidth\": 2, \"linecolor\": \"white\", \"showbackground\": true, \"ticks\": \"\", \"zerolinecolor\": \"white\"}, \"zaxis\": {\"backgroundcolor\": \"#E5ECF6\", \"gridcolor\": \"white\", \"gridwidth\": 2, \"linecolor\": \"white\", \"showbackground\": true, \"ticks\": \"\", \"zerolinecolor\": \"white\"}}, \"shapedefaults\": {\"line\": {\"color\": \"#2a3f5f\"}}, \"ternary\": {\"aaxis\": {\"gridcolor\": \"white\", \"linecolor\": \"white\", \"ticks\": \"\"}, \"baxis\": {\"gridcolor\": \"white\", \"linecolor\": \"white\", \"ticks\": \"\"}, \"bgcolor\": \"#E5ECF6\", \"caxis\": {\"gridcolor\": \"white\", \"linecolor\": \"white\", \"ticks\": \"\"}}, \"title\": {\"x\": 0.05}, \"xaxis\": {\"automargin\": true, \"gridcolor\": \"white\", \"linecolor\": \"white\", \"ticks\": \"\", \"title\": {\"standoff\": 15}, \"zerolinecolor\": \"white\", \"zerolinewidth\": 2}, \"yaxis\": {\"automargin\": true, \"gridcolor\": \"white\", \"linecolor\": \"white\", \"ticks\": \"\", \"title\": {\"standoff\": 15}, \"zerolinecolor\": \"white\", \"zerolinewidth\": 2}}}},                        {\"responsive\": true}                    ).then(function(){\n",
       "                            \n",
       "var gd = document.getElementById('da5980d0-bbfd-4892-b57c-f1c0b84a5110');\n",
       "var x = new MutationObserver(function (mutations, observer) {{\n",
       "        var display = window.getComputedStyle(gd).display;\n",
       "        if (!display || display === 'none') {{\n",
       "            console.log([gd, 'removed!']);\n",
       "            Plotly.purge(gd);\n",
       "            observer.disconnect();\n",
       "        }}\n",
       "}});\n",
       "\n",
       "// Listen for the removal of the full notebook cells\n",
       "var notebookContainer = gd.closest('#notebook-container');\n",
       "if (notebookContainer) {{\n",
       "    x.observe(notebookContainer, {childList: true});\n",
       "}}\n",
       "\n",
       "// Listen for the clearing of the current output cell\n",
       "var outputEl = gd.closest('.output');\n",
       "if (outputEl) {{\n",
       "    x.observe(outputEl, {childList: true});\n",
       "}}\n",
       "\n",
       "                        })                };                });            </script>        </div>"
      ]
     },
     "metadata": {},
     "output_type": "display_data"
    }
   ],
   "source": [
    "px.pie(sig_df, labels='SIG', names=\"SIG\", values='Counts')"
   ]
  },
  {
   "cell_type": "markdown",
   "metadata": {},
   "source": [
    "## Challenge 3\n",
    "\n",
    "Use `matplotlib` to plot the grades Student_score as a bar. There should be a bar for each student score.\n",
    "\n",
    "HINT: `help(exam_df.plot.bar)` for assistance."
   ]
  },
  {
   "cell_type": "code",
   "execution_count": 110,
   "metadata": {},
   "outputs": [
    {
     "data": {
      "text/plain": [
       "<AxesSubplot:>"
      ]
     },
     "execution_count": 110,
     "metadata": {},
     "output_type": "execute_result"
    },
    {
     "data": {
      "image/png": "[encoded data removed]",
      "text/plain": [
       "<Figure size 432x288 with 1 Axes>"
      ]
     },
     "metadata": {
      "needs_background": "light"
     },
     "output_type": "display_data"
    }
   ],
   "source": [
    "exam_df.plot.bar(y = \"Student_Score\")"
   ]
  },
  {
   "cell_type": "markdown",
   "metadata": {},
   "source": [
    "## Challenge 4\n",
    "\n",
    "Since the last plot was too detailed, use `matplotlib` to plot a histogram of the grades in 9 bins. \n",
    "\n",
    "HINT: `help(exam_df.hist)` for assistance."
   ]
  },
  {
   "cell_type": "code",
   "execution_count": 111,
   "metadata": {},
   "outputs": [
    {
     "data": {
      "text/plain": [
       "array([[<AxesSubplot:title={'center':'Student_Score'}>]], dtype=object)"
      ]
     },
     "execution_count": 111,
     "metadata": {},
     "output_type": "execute_result"
    },
    {
     "data": {
      "image/png": "[encoded data removed]",
      "text/plain": [
       "<Figure size 432x288 with 1 Axes>"
      ]
     },
     "metadata": {
      "needs_background": "light"
     },
     "output_type": "display_data"
    }
   ],
   "source": [
    "exam_df.hist(column=\"Student_Score\", bins=9)"
   ]
  },
  {
   "cell_type": "markdown",
   "metadata": {},
   "source": [
    "## Challenge 5\n",
    "\n",
    "Plot the exact same histogram using plotly express. \n",
    "\n",
    "HINT: `help(px.histogram)` for assistance. \n",
    "\n",
    "Note (binning algorithm is different)\n"
   ]
  },
  {
   "cell_type": "code",
   "execution_count": 112,
   "metadata": {},
   "outputs": [
    {
     "data": {
      "application/vnd.plotly.v1+json": {
       "config": {
        "plotlyServerURL": "https://plotly.com"
       },
       "data": [
        {
         "alignmentgroup": "True",
         "bingroup": "x",
         "hovertemplate": "Student_Score=%{x}<br>count=%{y}<extra></extra>",
         "legendgroup": "",
         "marker": {
          "color": "#636efa"
         },
         "name": "",
         "nbinsx": 9,
         "offsetgroup": "",
         "orientation": "v",
         "showlegend": false,
         "type": "histogram",
         "x": [
          24,
          27,
          30,
          18,
          24,
          25,
          30,
          26,
          13,
          27,
          20,
          24,
          29,
          26,
          26,
          23,
          22,
          23,
          27,
          23,
          22,
          15,
          24,
          13,
          20,
          20,
          19,
          21,
          26,
          16,
          17,
          24,
          22,
          27,
          24,
          27,
          25,
          19,
          23,
          19,
          25,
          21,
          28,
          24,
          25,
          28,
          17,
          22,
          28,
          24,
          23,
          23,
          16,
          20,
          21,
          25,
          16,
          21,
          23,
          21,
          23,
          22,
          24,
          24,
          24
         ],
         "xaxis": "x",
         "yaxis": "y"
        }
       ],
       "layout": {
        "barmode": "relative",
        "legend": {
         "tracegroupgap": 0
        },
        "margin": {
         "t": 60
        },
        "template": {
         "data": {
          "bar": [
           {
            "error_x": {
             "color": "#2a3f5f"
            },
            "error_y": {
             "color": "#2a3f5f"
            },
            "marker": {
             "line": {
              "color": "#E5ECF6",
              "width": 0.5
             }
            },
            "type": "bar"
           }
          ],
          "barpolar": [
           {
            "marker": {
             "line": {
              "color": "#E5ECF6",
              "width": 0.5
             }
            },
            "type": "barpolar"
           }
          ],
          "carpet": [
           {
            "aaxis": {
             "endlinecolor": "#2a3f5f",
             "gridcolor": "white",
             "linecolor": "white",
             "minorgridcolor": "white",
             "startlinecolor": "#2a3f5f"
            },
            "baxis": {
             "endlinecolor": "#2a3f5f",
             "gridcolor": "white",
             "linecolor": "white",
             "minorgridcolor": "white",
             "startlinecolor": "#2a3f5f"
            },
            "type": "carpet"
           }
          ],
          "choropleth": [
           {
            "colorbar": {
             "outlinewidth": 0,
             "ticks": ""
            },
            "type": "choropleth"
           }
          ],
          "contour": [
           {
            "colorbar": {
             "outlinewidth": 0,
             "ticks": ""
            },
            "colorscale": [
             [
              0,
              "#0d0887"
             ],
             [
              0.1111111111111111,
              "#46039f"
             ],
             [
              0.2222222222222222,
              "#7201a8"
             ],
             [
              0.3333333333333333,
              "#9c179e"
             ],
             [
              0.4444444444444444,
              "#bd3786"
             ],
             [
              0.5555555555555556,
              "#d8576b"
             ],
             [
              0.6666666666666666,
              "#ed7953"
             ],
             [
              0.7777777777777778,
              "#fb9f3a"
             ],
             [
              0.8888888888888888,
              "#fdca26"
             ],
             [
              1,
              "#f0f921"
             ]
            ],
            "type": "contour"
           }
          ],
          "contourcarpet": [
           {
            "colorbar": {
             "outlinewidth": 0,
             "ticks": ""
            },
            "type": "contourcarpet"
           }
          ],
          "heatmap": [
           {
            "colorbar": {
             "outlinewidth": 0,
             "ticks": ""
            },
            "colorscale": [
             [
              0,
              "#0d0887"
             ],
             [
              0.1111111111111111,
              "#46039f"
             ],
             [
              0.2222222222222222,
              "#7201a8"
             ],
             [
              0.3333333333333333,
              "#9c179e"
             ],
             [
              0.4444444444444444,
              "#bd3786"
             ],
             [
              0.5555555555555556,
              "#d8576b"
             ],
             [
              0.6666666666666666,
              "#ed7953"
             ],
             [
              0.7777777777777778,
              "#fb9f3a"
             ],
             [
              0.8888888888888888,
              "#fdca26"
             ],
             [
              1,
              "#f0f921"
             ]
            ],
            "type": "heatmap"
           }
          ],
          "heatmapgl": [
           {
            "colorbar": {
             "outlinewidth": 0,
             "ticks": ""
            },
            "colorscale": [
             [
              0,
              "#0d0887"
             ],
             [
              0.1111111111111111,
              "#46039f"
             ],
             [
              0.2222222222222222,
              "#7201a8"
             ],
             [
              0.3333333333333333,
              "#9c179e"
             ],
             [
              0.4444444444444444,
              "#bd3786"
             ],
             [
              0.5555555555555556,
              "#d8576b"
             ],
             [
              0.6666666666666666,
              "#ed7953"
             ],
             [
              0.7777777777777778,
              "#fb9f3a"
             ],
             [
              0.8888888888888888,
              "#fdca26"
             ],
             [
              1,
              "#f0f921"
             ]
            ],
            "type": "heatmapgl"
           }
          ],
          "histogram": [
           {
            "marker": {
             "colorbar": {
              "outlinewidth": 0,
              "ticks": ""
             }
            },
            "type": "histogram"
           }
          ],
          "histogram2d": [
           {
            "colorbar": {
             "outlinewidth": 0,
             "ticks": ""
            },
            "colorscale": [
             [
              0,
              "#0d0887"
             ],
             [
              0.1111111111111111,
              "#46039f"
             ],
             [
              0.2222222222222222,
              "#7201a8"
             ],
             [
              0.3333333333333333,
              "#9c179e"
             ],
             [
              0.4444444444444444,
              "#bd3786"
             ],
             [
              0.5555555555555556,
              "#d8576b"
             ],
             [
              0.6666666666666666,
              "#ed7953"
             ],
             [
              0.7777777777777778,
              "#fb9f3a"
             ],
             [
              0.8888888888888888,
              "#fdca26"
             ],
             [
              1,
              "#f0f921"
             ]
            ],
            "type": "histogram2d"
           }
          ],
          "histogram2dcontour": [
           {
            "colorbar": {
             "outlinewidth": 0,
             "ticks": ""
            },
            "colorscale": [
             [
              0,
              "#0d0887"
             ],
             [
              0.1111111111111111,
              "#46039f"
             ],
             [
              0.2222222222222222,
              "#7201a8"
             ],
             [
              0.3333333333333333,
              "#9c179e"
             ],
             [
              0.4444444444444444,
              "#bd3786"
             ],
             [
              0.5555555555555556,
              "#d8576b"
             ],
             [
              0.6666666666666666,
              "#ed7953"
             ],
             [
              0.7777777777777778,
              "#fb9f3a"
             ],
             [
              0.8888888888888888,
              "#fdca26"
             ],
             [
              1,
              "#f0f921"
             ]
            ],
            "type": "histogram2dcontour"
           }
          ],
          "mesh3d": [
           {
            "colorbar": {
             "outlinewidth": 0,
             "ticks": ""
            },
            "type": "mesh3d"
           }
          ],
          "parcoords": [
           {
            "line": {
             "colorbar": {
              "outlinewidth": 0,
              "ticks": ""
             }
            },
            "type": "parcoords"
           }
          ],
          "pie": [
           {
            "automargin": true,
            "type": "pie"
           }
          ],
          "scatter": [
           {
            "marker": {
             "colorbar": {
              "outlinewidth": 0,
              "ticks": ""
             }
            },
            "type": "scatter"
           }
          ],
          "scatter3d": [
           {
            "line": {
             "colorbar": {
              "outlinewidth": 0,
              "ticks": ""
             }
            },
            "marker": {
             "colorbar": {
              "outlinewidth": 0,
              "ticks": ""
             }
            },
            "type": "scatter3d"
           }
          ],
          "scattercarpet": [
           {
            "marker": {
             "colorbar": {
              "outlinewidth": 0,
              "ticks": ""
             }
            },
            "type": "scattercarpet"
           }
          ],
          "scattergeo": [
           {
            "marker": {
             "colorbar": {
              "outlinewidth": 0,
              "ticks": ""
             }
            },
            "type": "scattergeo"
           }
          ],
          "scattergl": [
           {
            "marker": {
             "colorbar": {
              "outlinewidth": 0,
              "ticks": ""
             }
            },
            "type": "scattergl"
           }
          ],
          "scattermapbox": [
           {
            "marker": {
             "colorbar": {
              "outlinewidth": 0,
              "ticks": ""
             }
            },
            "type": "scattermapbox"
           }
          ],
          "scatterpolar": [
           {
            "marker": {
             "colorbar": {
              "outlinewidth": 0,
              "ticks": ""
             }
            },
            "type": "scatterpolar"
           }
          ],
          "scatterpolargl": [
           {
            "marker": {
             "colorbar": {
              "outlinewidth": 0,
              "ticks": ""
             }
            },
            "type": "scatterpolargl"
           }
          ],
          "scatterternary": [
           {
            "marker": {
             "colorbar": {
              "outlinewidth": 0,
              "ticks": ""
             }
            },
            "type": "scatterternary"
           }
          ],
          "surface": [
           {
            "colorbar": {
             "outlinewidth": 0,
             "ticks": ""
            },
            "colorscale": [
             [
              0,
              "#0d0887"
             ],
             [
              0.1111111111111111,
              "#46039f"
             ],
             [
              0.2222222222222222,
              "#7201a8"
             ],
             [
              0.3333333333333333,
              "#9c179e"
             ],
             [
              0.4444444444444444,
              "#bd3786"
             ],
             [
              0.5555555555555556,
              "#d8576b"
             ],
             [
              0.6666666666666666,
              "#ed7953"
             ],
             [
              0.7777777777777778,
              "#fb9f3a"
             ],
             [
              0.8888888888888888,
              "#fdca26"
             ],
             [
              1,
              "#f0f921"
             ]
            ],
            "type": "surface"
           }
          ],
          "table": [
           {
            "cells": {
             "fill": {
              "color": "#EBF0F8"
             },
             "line": {
              "color": "white"
             }
            },
            "header": {
             "fill": {
              "color": "#C8D4E3"
             },
             "line": {
              "color": "white"
             }
            },
            "type": "table"
           }
          ]
         },
         "layout": {
          "annotationdefaults": {
           "arrowcolor": "#2a3f5f",
           "arrowhead": 0,
           "arrowwidth": 1
          },
          "autotypenumbers": "strict",
          "coloraxis": {
           "colorbar": {
            "outlinewidth": 0,
            "ticks": ""
           }
          },
          "colorscale": {
           "diverging": [
            [
             0,
             "#8e0152"
            ],
            [
             0.1,
             "#c51b7d"
            ],
            [
             0.2,
             "#de77ae"
            ],
            [
             0.3,
             "#f1b6da"
            ],
            [
             0.4,
             "#fde0ef"
            ],
            [
             0.5,
             "#f7f7f7"
            ],
            [
             0.6,
             "#e6f5d0"
            ],
            [
             0.7,
             "#b8e186"
            ],
            [
             0.8,
             "#7fbc41"
            ],
            [
             0.9,
             "#4d9221"
            ],
            [
             1,
             "#276419"
            ]
           ],
           "sequential": [
            [
             0,
             "#0d0887"
            ],
            [
             0.1111111111111111,
             "#46039f"
            ],
            [
             0.2222222222222222,
             "#7201a8"
            ],
            [
             0.3333333333333333,
             "#9c179e"
            ],
            [
             0.4444444444444444,
             "#bd3786"
            ],
            [
             0.5555555555555556,
             "#d8576b"
            ],
            [
             0.6666666666666666,
             "#ed7953"
            ],
            [
             0.7777777777777778,
             "#fb9f3a"
            ],
            [
             0.8888888888888888,
             "#fdca26"
            ],
            [
             1,
             "#f0f921"
            ]
           ],
           "sequentialminus": [
            [
             0,
             "#0d0887"
            ],
            [
             0.1111111111111111,
             "#46039f"
            ],
            [
             0.2222222222222222,
             "#7201a8"
            ],
            [
             0.3333333333333333,
             "#9c179e"
            ],
            [
             0.4444444444444444,
             "#bd3786"
            ],
            [
             0.5555555555555556,
             "#d8576b"
            ],
            [
             0.6666666666666666,
             "#ed7953"
            ],
            [
             0.7777777777777778,
             "#fb9f3a"
            ],
            [
             0.8888888888888888,
             "#fdca26"
            ],
            [
             1,
             "#f0f921"
            ]
           ]
          },
          "colorway": [
           "#636efa",
           "#EF553B",
           "#00cc96",
           "#ab63fa",
           "#FFA15A",
           "#19d3f3",
           "#FF6692",
           "#B6E880",
           "#FF97FF",
           "#FECB52"
          ],
          "font": {
           "color": "#2a3f5f"
          },
          "geo": {
           "bgcolor": "white",
           "lakecolor": "white",
           "landcolor": "#E5ECF6",
           "showlakes": true,
           "showland": true,
           "subunitcolor": "white"
          },
          "hoverlabel": {
           "align": "left"
          },
          "hovermode": "closest",
          "mapbox": {
           "style": "light"
          },
          "paper_bgcolor": "white",
          "plot_bgcolor": "#E5ECF6",
          "polar": {
           "angularaxis": {
            "gridcolor": "white",
            "linecolor": "white",
            "ticks": ""
           },
           "bgcolor": "#E5ECF6",
           "radialaxis": {
            "gridcolor": "white",
            "linecolor": "white",
            "ticks": ""
           }
          },
          "scene": {
           "xaxis": {
            "backgroundcolor": "#E5ECF6",
            "gridcolor": "white",
            "gridwidth": 2,
            "linecolor": "white",
            "showbackground": true,
            "ticks": "",
            "zerolinecolor": "white"
           },
           "yaxis": {
            "backgroundcolor": "#E5ECF6",
            "gridcolor": "white",
            "gridwidth": 2,
            "linecolor": "white",
            "showbackground": true,
            "ticks": "",
            "zerolinecolor": "white"
           },
           "zaxis": {
            "backgroundcolor": "#E5ECF6",
            "gridcolor": "white",
            "gridwidth": 2,
            "linecolor": "white",
            "showbackground": true,
            "ticks": "",
            "zerolinecolor": "white"
           }
          },
          "shapedefaults": {
           "line": {
            "color": "#2a3f5f"
           }
          },
          "ternary": {
           "aaxis": {
            "gridcolor": "white",
            "linecolor": "white",
            "ticks": ""
           },
           "baxis": {
            "gridcolor": "white",
            "linecolor": "white",
            "ticks": ""
           },
           "bgcolor": "#E5ECF6",
           "caxis": {
            "gridcolor": "white",
            "linecolor": "white",
            "ticks": ""
           }
          },
          "title": {
           "x": 0.05
          },
          "xaxis": {
           "automargin": true,
           "gridcolor": "white",
           "linecolor": "white",
           "ticks": "",
           "title": {
            "standoff": 15
           },
           "zerolinecolor": "white",
           "zerolinewidth": 2
          },
          "yaxis": {
           "automargin": true,
           "gridcolor": "white",
           "linecolor": "white",
           "ticks": "",
           "title": {
            "standoff": 15
           },
           "zerolinecolor": "white",
           "zerolinewidth": 2
          }
         }
        },
        "xaxis": {
         "anchor": "y",
         "domain": [
          0,
          1
         ],
         "title": {
          "text": "Student_Score"
         }
        },
        "yaxis": {
         "anchor": "x",
         "domain": [
          0,
          1
         ],
         "title": {
          "text": "count"
         }
        }
       }
      },
      "text/html": [
       "<div>                            <div id=\"240d42f4-1ae7-4d12-8685-52c4ca7828ea\" class=\"plotly-graph-div\" style=\"height:525px; width:100%;\"></div>            <script type=\"text/javascript\">                require([\"plotly\"], function(Plotly) {                    window.PLOTLYENV=window.PLOTLYENV || {};                                    if (document.getElementById(\"240d42f4-1ae7-4d12-8685-52c4ca7828ea\")) {                    Plotly.newPlot(                        \"240d42f4-1ae7-4d12-8685-52c4ca7828ea\",                        [{\"alignmentgroup\": \"True\", \"bingroup\": \"x\", \"hovertemplate\": \"Student_Score=%{x}<br>count=%{y}<extra></extra>\", \"legendgroup\": \"\", \"marker\": {\"color\": \"#636efa\"}, \"name\": \"\", \"nbinsx\": 9, \"offsetgroup\": \"\", \"orientation\": \"v\", \"showlegend\": false, \"type\": \"histogram\", \"x\": [24, 27, 30, 18, 24, 25, 30, 26, 13, 27, 20, 24, 29, 26, 26, 23, 22, 23, 27, 23, 22, 15, 24, 13, 20, 20, 19, 21, 26, 16, 17, 24, 22, 27, 24, 27, 25, 19, 23, 19, 25, 21, 28, 24, 25, 28, 17, 22, 28, 24, 23, 23, 16, 20, 21, 25, 16, 21, 23, 21, 23, 22, 24, 24, 24], \"xaxis\": \"x\", \"yaxis\": \"y\"}],                        {\"barmode\": \"relative\", \"legend\": {\"tracegroupgap\": 0}, \"margin\": {\"t\": 60}, \"template\": {\"data\": {\"bar\": [{\"error_x\": {\"color\": \"#2a3f5f\"}, \"error_y\": {\"color\": \"#2a3f5f\"}, \"marker\": {\"line\": {\"color\": \"#E5ECF6\", \"width\": 0.5}}, \"type\": \"bar\"}], \"barpolar\": [{\"marker\": {\"line\": {\"color\": \"#E5ECF6\", \"width\": 0.5}}, \"type\": \"barpolar\"}], \"carpet\": [{\"aaxis\": {\"endlinecolor\": \"#2a3f5f\", \"gridcolor\": \"white\", \"linecolor\": \"white\", \"minorgridcolor\": \"white\", \"startlinecolor\": \"#2a3f5f\"}, \"baxis\": {\"endlinecolor\": \"#2a3f5f\", \"gridcolor\": \"white\", \"linecolor\": \"white\", \"minorgridcolor\": \"white\", \"startlinecolor\": \"#2a3f5f\"}, \"type\": \"carpet\"}], \"choropleth\": [{\"colorbar\": {\"outlinewidth\": 0, \"ticks\": \"\"}, \"type\": \"choropleth\"}], \"contour\": [{\"colorbar\": {\"outlinewidth\": 0, \"ticks\": \"\"}, \"colorscale\": [[0.0, \"#0d0887\"], [0.1111111111111111, \"#46039f\"], [0.2222222222222222, \"#7201a8\"], [0.3333333333333333, \"#9c179e\"], [0.4444444444444444, \"#bd3786\"], [0.5555555555555556, \"#d8576b\"], [0.6666666666666666, \"#ed7953\"], [0.7777777777777778, \"#fb9f3a\"], [0.8888888888888888, \"#fdca26\"], [1.0, \"#f0f921\"]], \"type\": \"contour\"}], \"contourcarpet\": [{\"colorbar\": {\"outlinewidth\": 0, \"ticks\": \"\"}, \"type\": \"contourcarpet\"}], \"heatmap\": [{\"colorbar\": {\"outlinewidth\": 0, \"ticks\": \"\"}, \"colorscale\": [[0.0, \"#0d0887\"], [0.1111111111111111, \"#46039f\"], [0.2222222222222222, \"#7201a8\"], [0.3333333333333333, \"#9c179e\"], [0.4444444444444444, \"#bd3786\"], [0.5555555555555556, \"#d8576b\"], [0.6666666666666666, \"#ed7953\"], [0.7777777777777778, \"#fb9f3a\"], [0.8888888888888888, \"#fdca26\"], [1.0, \"#f0f921\"]], \"type\": \"heatmap\"}], \"heatmapgl\": [{\"colorbar\": {\"outlinewidth\": 0, \"ticks\": \"\"}, \"colorscale\": [[0.0, \"#0d0887\"], [0.1111111111111111, \"#46039f\"], [0.2222222222222222, \"#7201a8\"], [0.3333333333333333, \"#9c179e\"], [0.4444444444444444, \"#bd3786\"], [0.5555555555555556, \"#d8576b\"], [0.6666666666666666, \"#ed7953\"], [0.7777777777777778, \"#fb9f3a\"], [0.8888888888888888, \"#fdca26\"], [1.0, \"#f0f921\"]], \"type\": \"heatmapgl\"}], \"histogram\": [{\"marker\": {\"colorbar\": {\"outlinewidth\": 0, \"ticks\": \"\"}}, \"type\": \"histogram\"}], \"histogram2d\": [{\"colorbar\": {\"outlinewidth\": 0, \"ticks\": \"\"}, \"colorscale\": [[0.0, \"#0d0887\"], [0.1111111111111111, \"#46039f\"], [0.2222222222222222, \"#7201a8\"], [0.3333333333333333, \"#9c179e\"], [0.4444444444444444, \"#bd3786\"], [0.5555555555555556, \"#d8576b\"], [0.6666666666666666, \"#ed7953\"], [0.7777777777777778, \"#fb9f3a\"], [0.8888888888888888, \"#fdca26\"], [1.0, \"#f0f921\"]], \"type\": \"histogram2d\"}], \"histogram2dcontour\": [{\"colorbar\": {\"outlinewidth\": 0, \"ticks\": \"\"}, \"colorscale\": [[0.0, \"#0d0887\"], [0.1111111111111111, \"#46039f\"], [0.2222222222222222, \"#7201a8\"], [0.3333333333333333, \"#9c179e\"], [0.4444444444444444, \"#bd3786\"], [0.5555555555555556, \"#d8576b\"], [0.6666666666666666, \"#ed7953\"], [0.7777777777777778, \"#fb9f3a\"], [0.8888888888888888, \"#fdca26\"], [1.0, \"#f0f921\"]], \"type\": \"histogram2dcontour\"}], \"mesh3d\": [{\"colorbar\": {\"outlinewidth\": 0, \"ticks\": \"\"}, \"type\": \"mesh3d\"}], \"parcoords\": [{\"line\": {\"colorbar\": {\"outlinewidth\": 0, \"ticks\": \"\"}}, \"type\": \"parcoords\"}], \"pie\": [{\"automargin\": true, \"type\": \"pie\"}], \"scatter\": [{\"marker\": {\"colorbar\": {\"outlinewidth\": 0, \"ticks\": \"\"}}, \"type\": \"scatter\"}], \"scatter3d\": [{\"line\": {\"colorbar\": {\"outlinewidth\": 0, \"ticks\": \"\"}}, \"marker\": {\"colorbar\": {\"outlinewidth\": 0, \"ticks\": \"\"}}, \"type\": \"scatter3d\"}], \"scattercarpet\": [{\"marker\": {\"colorbar\": {\"outlinewidth\": 0, \"ticks\": \"\"}}, \"type\": \"scattercarpet\"}], \"scattergeo\": [{\"marker\": {\"colorbar\": {\"outlinewidth\": 0, \"ticks\": \"\"}}, \"type\": \"scattergeo\"}], \"scattergl\": [{\"marker\": {\"colorbar\": {\"outlinewidth\": 0, \"ticks\": \"\"}}, \"type\": \"scattergl\"}], \"scattermapbox\": [{\"marker\": {\"colorbar\": {\"outlinewidth\": 0, \"ticks\": \"\"}}, \"type\": \"scattermapbox\"}], \"scatterpolar\": [{\"marker\": {\"colorbar\": {\"outlinewidth\": 0, \"ticks\": \"\"}}, \"type\": \"scatterpolar\"}], \"scatterpolargl\": [{\"marker\": {\"colorbar\": {\"outlinewidth\": 0, \"ticks\": \"\"}}, \"type\": \"scatterpolargl\"}], \"scatterternary\": [{\"marker\": {\"colorbar\": {\"outlinewidth\": 0, \"ticks\": \"\"}}, \"type\": \"scatterternary\"}], \"surface\": [{\"colorbar\": {\"outlinewidth\": 0, \"ticks\": \"\"}, \"colorscale\": [[0.0, \"#0d0887\"], [0.1111111111111111, \"#46039f\"], [0.2222222222222222, \"#7201a8\"], [0.3333333333333333, \"#9c179e\"], [0.4444444444444444, \"#bd3786\"], [0.5555555555555556, \"#d8576b\"], [0.6666666666666666, \"#ed7953\"], [0.7777777777777778, \"#fb9f3a\"], [0.8888888888888888, \"#fdca26\"], [1.0, \"#f0f921\"]], \"type\": \"surface\"}], \"table\": [{\"cells\": {\"fill\": {\"color\": \"#EBF0F8\"}, \"line\": {\"color\": \"white\"}}, \"header\": {\"fill\": {\"color\": \"#C8D4E3\"}, \"line\": {\"color\": \"white\"}}, \"type\": \"table\"}]}, \"layout\": {\"annotationdefaults\": {\"arrowcolor\": \"#2a3f5f\", \"arrowhead\": 0, \"arrowwidth\": 1}, \"autotypenumbers\": \"strict\", \"coloraxis\": {\"colorbar\": {\"outlinewidth\": 0, \"ticks\": \"\"}}, \"colorscale\": {\"diverging\": [[0, \"#8e0152\"], [0.1, \"#c51b7d\"], [0.2, \"#de77ae\"], [0.3, \"#f1b6da\"], [0.4, \"#fde0ef\"], [0.5, \"#f7f7f7\"], [0.6, \"#e6f5d0\"], [0.7, \"#b8e186\"], [0.8, \"#7fbc41\"], [0.9, \"#4d9221\"], [1, \"#276419\"]], \"sequential\": [[0.0, \"#0d0887\"], [0.1111111111111111, \"#46039f\"], [0.2222222222222222, \"#7201a8\"], [0.3333333333333333, \"#9c179e\"], [0.4444444444444444, \"#bd3786\"], [0.5555555555555556, \"#d8576b\"], [0.6666666666666666, \"#ed7953\"], [0.7777777777777778, \"#fb9f3a\"], [0.8888888888888888, \"#fdca26\"], [1.0, \"#f0f921\"]], \"sequentialminus\": [[0.0, \"#0d0887\"], [0.1111111111111111, \"#46039f\"], [0.2222222222222222, \"#7201a8\"], [0.3333333333333333, \"#9c179e\"], [0.4444444444444444, \"#bd3786\"], [0.5555555555555556, \"#d8576b\"], [0.6666666666666666, \"#ed7953\"], [0.7777777777777778, \"#fb9f3a\"], [0.8888888888888888, \"#fdca26\"], [1.0, \"#f0f921\"]]}, \"colorway\": [\"#636efa\", \"#EF553B\", \"#00cc96\", \"#ab63fa\", \"#FFA15A\", \"#19d3f3\", \"#FF6692\", \"#B6E880\", \"#FF97FF\", \"#FECB52\"], \"font\": {\"color\": \"#2a3f5f\"}, \"geo\": {\"bgcolor\": \"white\", \"lakecolor\": \"white\", \"landcolor\": \"#E5ECF6\", \"showlakes\": true, \"showland\": true, \"subunitcolor\": \"white\"}, \"hoverlabel\": {\"align\": \"left\"}, \"hovermode\": \"closest\", \"mapbox\": {\"style\": \"light\"}, \"paper_bgcolor\": \"white\", \"plot_bgcolor\": \"#E5ECF6\", \"polar\": {\"angularaxis\": {\"gridcolor\": \"white\", \"linecolor\": \"white\", \"ticks\": \"\"}, \"bgcolor\": \"#E5ECF6\", \"radialaxis\": {\"gridcolor\": \"white\", \"linecolor\": \"white\", \"ticks\": \"\"}}, \"scene\": {\"xaxis\": {\"backgroundcolor\": \"#E5ECF6\", \"gridcolor\": \"white\", \"gridwidth\": 2, \"linecolor\": \"white\", \"showbackground\": true, \"ticks\": \"\", \"zerolinecolor\": \"white\"}, \"yaxis\": {\"backgroundcolor\": \"#E5ECF6\", \"gridcolor\": \"white\", \"gridwidth\": 2, \"linecolor\": \"white\", \"showbackground\": true, \"ticks\": \"\", \"zerolinecolor\": \"white\"}, \"zaxis\": {\"backgroundcolor\": \"#E5ECF6\", \"gridcolor\": \"white\", \"gridwidth\": 2, \"linecolor\": \"white\", \"showbackground\": true, \"ticks\": \"\", \"zerolinecolor\": \"white\"}}, \"shapedefaults\": {\"line\": {\"color\": \"#2a3f5f\"}}, \"ternary\": {\"aaxis\": {\"gridcolor\": \"white\", \"linecolor\": \"white\", \"ticks\": \"\"}, \"baxis\": {\"gridcolor\": \"white\", \"linecolor\": \"white\", \"ticks\": \"\"}, \"bgcolor\": \"#E5ECF6\", \"caxis\": {\"gridcolor\": \"white\", \"linecolor\": \"white\", \"ticks\": \"\"}}, \"title\": {\"x\": 0.05}, \"xaxis\": {\"automargin\": true, \"gridcolor\": \"white\", \"linecolor\": \"white\", \"ticks\": \"\", \"title\": {\"standoff\": 15}, \"zerolinecolor\": \"white\", \"zerolinewidth\": 2}, \"yaxis\": {\"automargin\": true, \"gridcolor\": \"white\", \"linecolor\": \"white\", \"ticks\": \"\", \"title\": {\"standoff\": 15}, \"zerolinecolor\": \"white\", \"zerolinewidth\": 2}}}, \"xaxis\": {\"anchor\": \"y\", \"domain\": [0.0, 1.0], \"title\": {\"text\": \"Student_Score\"}}, \"yaxis\": {\"anchor\": \"x\", \"domain\": [0.0, 1.0], \"title\": {\"text\": \"count\"}}},                        {\"responsive\": true}                    ).then(function(){\n",
       "                            \n",
       "var gd = document.getElementById('240d42f4-1ae7-4d12-8685-52c4ca7828ea');\n",
       "var x = new MutationObserver(function (mutations, observer) {{\n",
       "        var display = window.getComputedStyle(gd).display;\n",
       "        if (!display || display === 'none') {{\n",
       "            console.log([gd, 'removed!']);\n",
       "            Plotly.purge(gd);\n",
       "            observer.disconnect();\n",
       "        }}\n",
       "}});\n",
       "\n",
       "// Listen for the removal of the full notebook cells\n",
       "var notebookContainer = gd.closest('#notebook-container');\n",
       "if (notebookContainer) {{\n",
       "    x.observe(notebookContainer, {childList: true});\n",
       "}}\n",
       "\n",
       "// Listen for the clearing of the current output cell\n",
       "var outputEl = gd.closest('.output');\n",
       "if (outputEl) {{\n",
       "    x.observe(outputEl, {childList: true});\n",
       "}}\n",
       "\n",
       "                        })                };                });            </script>        </div>"
      ]
     },
     "metadata": {},
     "output_type": "display_data"
    }
   ],
   "source": [
    "px.histogram(exam_df, x=\"Student_Score\", nbins=9)"
   ]
  },
  {
   "cell_type": "markdown",
   "metadata": {},
   "source": [
    "## Challenge 6\n",
    "\n",
    "Plot a scatter comparing the completion time the exam to the exam score. use `matplotlib`\n",
    "\n",
    "Note: No correlation will stick out."
   ]
  },
  {
   "cell_type": "code",
   "execution_count": 113,
   "metadata": {},
   "outputs": [
    {
     "data": {
      "text/plain": [
       "<AxesSubplot:xlabel='Completion_Time', ylabel='Student_Score'>"
      ]
     },
     "execution_count": 113,
     "metadata": {},
     "output_type": "execute_result"
    },
    {
     "data": {
      "image/png": "[encoded data removed]",
      "text/plain": [
       "<Figure size 432x288 with 1 Axes>"
      ]
     },
     "metadata": {
      "needs_background": "light"
     },
     "output_type": "display_data"
    }
   ],
   "source": [
    "exam_df.plot.scatter(x = \"Completion_Time\", y = \"Student_Score\")"
   ]
  },
  {
   "cell_type": "markdown",
   "metadata": {},
   "source": [
    "## Challenge 7\n",
    "\n",
    "Plot the same scatter in `plotly express`\n"
   ]
  },
  {
   "cell_type": "code",
   "execution_count": 114,
   "metadata": {},
   "outputs": [
    {
     "data": {
      "application/vnd.plotly.v1+json": {
       "config": {
        "plotlyServerURL": "https://plotly.com"
       },
       "data": [
        {
         "hovertemplate": "Completion_Time=%{x}<br>Student_Score=%{y}<extra></extra>",
         "legendgroup": "",
         "marker": {
          "color": "#636efa",
          "symbol": "circle"
         },
         "mode": "markers",
         "name": "",
         "orientation": "v",
         "showlegend": false,
         "type": "scatter",
         "x": [
          20,
          20,
          30,
          50,
          55,
          60,
          60,
          15,
          20,
          20,
          25,
          25,
          35,
          60,
          20,
          40,
          45,
          45,
          50,
          55,
          60,
          25,
          25,
          35,
          40,
          55,
          60,
          60,
          60,
          20,
          25,
          30,
          35,
          40,
          45,
          50,
          55,
          60,
          60,
          15,
          25,
          35,
          40,
          45,
          45,
          50,
          55,
          60,
          25,
          30,
          35,
          35,
          40,
          45,
          45,
          45,
          60,
          20,
          25,
          30,
          40,
          45,
          45,
          55,
          60
         ],
         "xaxis": "x",
         "y": [
          24,
          27,
          30,
          18,
          24,
          25,
          30,
          26,
          13,
          27,
          20,
          24,
          29,
          26,
          26,
          23,
          22,
          23,
          27,
          23,
          22,
          15,
          24,
          13,
          20,
          20,
          19,
          21,
          26,
          16,
          17,
          24,
          22,
          27,
          24,
          27,
          25,
          19,
          23,
          19,
          25,
          21,
          28,
          24,
          25,
          28,
          17,
          22,
          28,
          24,
          23,
          23,
          16,
          20,
          21,
          25,
          16,
          21,
          23,
          21,
          23,
          22,
          24,
          24,
          24
         ],
         "yaxis": "y"
        }
       ],
       "layout": {
        "legend": {
         "tracegroupgap": 0
        },
        "margin": {
         "t": 60
        },
        "template": {
         "data": {
          "bar": [
           {
            "error_x": {
             "color": "#2a3f5f"
            },
            "error_y": {
             "color": "#2a3f5f"
            },
            "marker": {
             "line": {
              "color": "#E5ECF6",
              "width": 0.5
             }
            },
            "type": "bar"
           }
          ],
          "barpolar": [
           {
            "marker": {
             "line": {
              "color": "#E5ECF6",
              "width": 0.5
             }
            },
            "type": "barpolar"
           }
          ],
          "carpet": [
           {
            "aaxis": {
             "endlinecolor": "#2a3f5f",
             "gridcolor": "white",
             "linecolor": "white",
             "minorgridcolor": "white",
             "startlinecolor": "#2a3f5f"
            },
            "baxis": {
             "endlinecolor": "#2a3f5f",
             "gridcolor": "white",
             "linecolor": "white",
             "minorgridcolor": "white",
             "startlinecolor": "#2a3f5f"
            },
            "type": "carpet"
           }
          ],
          "choropleth": [
           {
            "colorbar": {
             "outlinewidth": 0,
             "ticks": ""
            },
            "type": "choropleth"
           }
          ],
          "contour": [
           {
            "colorbar": {
             "outlinewidth": 0,
             "ticks": ""
            },
            "colorscale": [
             [
              0,
              "#0d0887"
             ],
             [
              0.1111111111111111,
              "#46039f"
             ],
             [
              0.2222222222222222,
              "#7201a8"
             ],
             [
              0.3333333333333333,
              "#9c179e"
             ],
             [
              0.4444444444444444,
              "#bd3786"
             ],
             [
              0.5555555555555556,
              "#d8576b"
             ],
             [
              0.6666666666666666,
              "#ed7953"
             ],
             [
              0.7777777777777778,
              "#fb9f3a"
             ],
             [
              0.8888888888888888,
              "#fdca26"
             ],
             [
              1,
              "#f0f921"
             ]
            ],
            "type": "contour"
           }
          ],
          "contourcarpet": [
           {
            "colorbar": {
             "outlinewidth": 0,
             "ticks": ""
            },
            "type": "contourcarpet"
           }
          ],
          "heatmap": [
           {
            "colorbar": {
             "outlinewidth": 0,
             "ticks": ""
            },
            "colorscale": [
             [
              0,
              "#0d0887"
             ],
             [
              0.1111111111111111,
              "#46039f"
             ],
             [
              0.2222222222222222,
              "#7201a8"
             ],
             [
              0.3333333333333333,
              "#9c179e"
             ],
             [
              0.4444444444444444,
              "#bd3786"
             ],
             [
              0.5555555555555556,
              "#d8576b"
             ],
             [
              0.6666666666666666,
              "#ed7953"
             ],
             [
              0.7777777777777778,
              "#fb9f3a"
             ],
             [
              0.8888888888888888,
              "#fdca26"
             ],
             [
              1,
              "#f0f921"
             ]
            ],
            "type": "heatmap"
           }
          ],
          "heatmapgl": [
           {
            "colorbar": {
             "outlinewidth": 0,
             "ticks": ""
            },
            "colorscale": [
             [
              0,
              "#0d0887"
             ],
             [
              0.1111111111111111,
              "#46039f"
             ],
             [
              0.2222222222222222,
              "#7201a8"
             ],
             [
              0.3333333333333333,
              "#9c179e"
             ],
             [
              0.4444444444444444,
              "#bd3786"
             ],
             [
              0.5555555555555556,
              "#d8576b"
             ],
             [
              0.6666666666666666,
              "#ed7953"
             ],
             [
              0.7777777777777778,
              "#fb9f3a"
             ],
             [
              0.8888888888888888,
              "#fdca26"
             ],
             [
              1,
              "#f0f921"
             ]
            ],
            "type": "heatmapgl"
           }
          ],
          "histogram": [
           {
            "marker": {
             "colorbar": {
              "outlinewidth": 0,
              "ticks": ""
             }
            },
            "type": "histogram"
           }
          ],
          "histogram2d": [
           {
            "colorbar": {
             "outlinewidth": 0,
             "ticks": ""
            },
            "colorscale": [
             [
              0,
              "#0d0887"
             ],
             [
              0.1111111111111111,
              "#46039f"
             ],
             [
              0.2222222222222222,
              "#7201a8"
             ],
             [
              0.3333333333333333,
              "#9c179e"
             ],
             [
              0.4444444444444444,
              "#bd3786"
             ],
             [
              0.5555555555555556,
              "#d8576b"
             ],
             [
              0.6666666666666666,
              "#ed7953"
             ],
             [
              0.7777777777777778,
              "#fb9f3a"
             ],
             [
              0.8888888888888888,
              "#fdca26"
             ],
             [
              1,
              "#f0f921"
             ]
            ],
            "type": "histogram2d"
           }
          ],
          "histogram2dcontour": [
           {
            "colorbar": {
             "outlinewidth": 0,
             "ticks": ""
            },
            "colorscale": [
             [
              0,
              "#0d0887"
             ],
             [
              0.1111111111111111,
              "#46039f"
             ],
             [
              0.2222222222222222,
              "#7201a8"
             ],
             [
              0.3333333333333333,
              "#9c179e"
             ],
             [
              0.4444444444444444,
              "#bd3786"
             ],
             [
              0.5555555555555556,
              "#d8576b"
             ],
             [
              0.6666666666666666,
              "#ed7953"
             ],
             [
              0.7777777777777778,
              "#fb9f3a"
             ],
             [
              0.8888888888888888,
              "#fdca26"
             ],
             [
              1,
              "#f0f921"
             ]
            ],
            "type": "histogram2dcontour"
           }
          ],
          "mesh3d": [
           {
            "colorbar": {
             "outlinewidth": 0,
             "ticks": ""
            },
            "type": "mesh3d"
           }
          ],
          "parcoords": [
           {
            "line": {
             "colorbar": {
              "outlinewidth": 0,
              "ticks": ""
             }
            },
            "type": "parcoords"
           }
          ],
          "pie": [
           {
            "automargin": true,
            "type": "pie"
           }
          ],
          "scatter": [
           {
            "marker": {
             "colorbar": {
              "outlinewidth": 0,
              "ticks": ""
             }
            },
            "type": "scatter"
           }
          ],
          "scatter3d": [
           {
            "line": {
             "colorbar": {
              "outlinewidth": 0,
              "ticks": ""
             }
            },
            "marker": {
             "colorbar": {
              "outlinewidth": 0,
              "ticks": ""
             }
            },
            "type": "scatter3d"
           }
          ],
          "scattercarpet": [
           {
            "marker": {
             "colorbar": {
              "outlinewidth": 0,
              "ticks": ""
             }
            },
            "type": "scattercarpet"
           }
          ],
          "scattergeo": [
           {
            "marker": {
             "colorbar": {
              "outlinewidth": 0,
              "ticks": ""
             }
            },
            "type": "scattergeo"
           }
          ],
          "scattergl": [
           {
            "marker": {
             "colorbar": {
              "outlinewidth": 0,
              "ticks": ""
             }
            },
            "type": "scattergl"
           }
          ],
          "scattermapbox": [
           {
            "marker": {
             "colorbar": {
              "outlinewidth": 0,
              "ticks": ""
             }
            },
            "type": "scattermapbox"
           }
          ],
          "scatterpolar": [
           {
            "marker": {
             "colorbar": {
              "outlinewidth": 0,
              "ticks": ""
             }
            },
            "type": "scatterpolar"
           }
          ],
          "scatterpolargl": [
           {
            "marker": {
             "colorbar": {
              "outlinewidth": 0,
              "ticks": ""
             }
            },
            "type": "scatterpolargl"
           }
          ],
          "scatterternary": [
           {
            "marker": {
             "colorbar": {
              "outlinewidth": 0,
              "ticks": ""
             }
            },
            "type": "scatterternary"
           }
          ],
          "surface": [
           {
            "colorbar": {
             "outlinewidth": 0,
             "ticks": ""
            },
            "colorscale": [
             [
              0,
              "#0d0887"
             ],
             [
              0.1111111111111111,
              "#46039f"
             ],
             [
              0.2222222222222222,
              "#7201a8"
             ],
             [
              0.3333333333333333,
              "#9c179e"
             ],
             [
              0.4444444444444444,
              "#bd3786"
             ],
             [
              0.5555555555555556,
              "#d8576b"
             ],
             [
              0.6666666666666666,
              "#ed7953"
             ],
             [
              0.7777777777777778,
              "#fb9f3a"
             ],
             [
              0.8888888888888888,
              "#fdca26"
             ],
             [
              1,
              "#f0f921"
             ]
            ],
            "type": "surface"
           }
          ],
          "table": [
           {
            "cells": {
             "fill": {
              "color": "#EBF0F8"
             },
             "line": {
              "color": "white"
             }
            },
            "header": {
             "fill": {
              "color": "#C8D4E3"
             },
             "line": {
              "color": "white"
             }
            },
            "type": "table"
           }
          ]
         },
         "layout": {
          "annotationdefaults": {
           "arrowcolor": "#2a3f5f",
           "arrowhead": 0,
           "arrowwidth": 1
          },
          "autotypenumbers": "strict",
          "coloraxis": {
           "colorbar": {
            "outlinewidth": 0,
            "ticks": ""
           }
          },
          "colorscale": {
           "diverging": [
            [
             0,
             "#8e0152"
            ],
            [
             0.1,
             "#c51b7d"
            ],
            [
             0.2,
             "#de77ae"
            ],
            [
             0.3,
             "#f1b6da"
            ],
            [
             0.4,
             "#fde0ef"
            ],
            [
             0.5,
             "#f7f7f7"
            ],
            [
             0.6,
             "#e6f5d0"
            ],
            [
             0.7,
             "#b8e186"
            ],
            [
             0.8,
             "#7fbc41"
            ],
            [
             0.9,
             "#4d9221"
            ],
            [
             1,
             "#276419"
            ]
           ],
           "sequential": [
            [
             0,
             "#0d0887"
            ],
            [
             0.1111111111111111,
             "#46039f"
            ],
            [
             0.2222222222222222,
             "#7201a8"
            ],
            [
             0.3333333333333333,
             "#9c179e"
            ],
            [
             0.4444444444444444,
             "#bd3786"
            ],
            [
             0.5555555555555556,
             "#d8576b"
            ],
            [
             0.6666666666666666,
             "#ed7953"
            ],
            [
             0.7777777777777778,
             "#fb9f3a"
            ],
            [
             0.8888888888888888,
             "#fdca26"
            ],
            [
             1,
             "#f0f921"
            ]
           ],
           "sequentialminus": [
            [
             0,
             "#0d0887"
            ],
            [
             0.1111111111111111,
             "#46039f"
            ],
            [
             0.2222222222222222,
             "#7201a8"
            ],
            [
             0.3333333333333333,
             "#9c179e"
            ],
            [
             0.4444444444444444,
             "#bd3786"
            ],
            [
             0.5555555555555556,
             "#d8576b"
            ],
            [
             0.6666666666666666,
             "#ed7953"
            ],
            [
             0.7777777777777778,
             "#fb9f3a"
            ],
            [
             0.8888888888888888,
             "#fdca26"
            ],
            [
             1,
             "#f0f921"
            ]
           ]
          },
          "colorway": [
           "#636efa",
           "#EF553B",
           "#00cc96",
           "#ab63fa",
           "#FFA15A",
           "#19d3f3",
           "#FF6692",
           "#B6E880",
           "#FF97FF",
           "#FECB52"
          ],
          "font": {
           "color": "#2a3f5f"
          },
          "geo": {
           "bgcolor": "white",
           "lakecolor": "white",
           "landcolor": "#E5ECF6",
           "showlakes": true,
           "showland": true,
           "subunitcolor": "white"
          },
          "hoverlabel": {
           "align": "left"
          },
          "hovermode": "closest",
          "mapbox": {
           "style": "light"
          },
          "paper_bgcolor": "white",
          "plot_bgcolor": "#E5ECF6",
          "polar": {
           "angularaxis": {
            "gridcolor": "white",
            "linecolor": "white",
            "ticks": ""
           },
           "bgcolor": "#E5ECF6",
           "radialaxis": {
            "gridcolor": "white",
            "linecolor": "white",
            "ticks": ""
           }
          },
          "scene": {
           "xaxis": {
            "backgroundcolor": "#E5ECF6",
            "gridcolor": "white",
            "gridwidth": 2,
            "linecolor": "white",
            "showbackground": true,
            "ticks": "",
            "zerolinecolor": "white"
           },
           "yaxis": {
            "backgroundcolor": "#E5ECF6",
            "gridcolor": "white",
            "gridwidth": 2,
            "linecolor": "white",
            "showbackground": true,
            "ticks": "",
            "zerolinecolor": "white"
           },
           "zaxis": {
            "backgroundcolor": "#E5ECF6",
            "gridcolor": "white",
            "gridwidth": 2,
            "linecolor": "white",
            "showbackground": true,
            "ticks": "",
            "zerolinecolor": "white"
           }
          },
          "shapedefaults": {
           "line": {
            "color": "#2a3f5f"
           }
          },
          "ternary": {
           "aaxis": {
            "gridcolor": "white",
            "linecolor": "white",
            "ticks": ""
           },
           "baxis": {
            "gridcolor": "white",
            "linecolor": "white",
            "ticks": ""
           },
           "bgcolor": "#E5ECF6",
           "caxis": {
            "gridcolor": "white",
            "linecolor": "white",
            "ticks": ""
           }
          },
          "title": {
           "x": 0.05
          },
          "xaxis": {
           "automargin": true,
           "gridcolor": "white",
           "linecolor": "white",
           "ticks": "",
           "title": {
            "standoff": 15
           },
           "zerolinecolor": "white",
           "zerolinewidth": 2
          },
          "yaxis": {
           "automargin": true,
           "gridcolor": "white",
           "linecolor": "white",
           "ticks": "",
           "title": {
            "standoff": 15
           },
           "zerolinecolor": "white",
           "zerolinewidth": 2
          }
         }
        },
        "xaxis": {
         "anchor": "y",
         "domain": [
          0,
          1
         ],
         "title": {
          "text": "Completion_Time"
         }
        },
        "yaxis": {
         "anchor": "x",
         "domain": [
          0,
          1
         ],
         "title": {
          "text": "Student_Score"
         }
        }
       }
      },
      "text/html": [
       "<div>                            <div id=\"fb4ae10e-e5e4-49e3-b6e2-98a6a7d66b60\" class=\"plotly-graph-div\" style=\"height:525px; width:100%;\"></div>            <script type=\"text/javascript\">                require([\"plotly\"], function(Plotly) {                    window.PLOTLYENV=window.PLOTLYENV || {};                                    if (document.getElementById(\"fb4ae10e-e5e4-49e3-b6e2-98a6a7d66b60\")) {                    Plotly.newPlot(                        \"fb4ae10e-e5e4-49e3-b6e2-98a6a7d66b60\",                        [{\"hovertemplate\": \"Completion_Time=%{x}<br>Student_Score=%{y}<extra></extra>\", \"legendgroup\": \"\", \"marker\": {\"color\": \"#636efa\", \"symbol\": \"circle\"}, \"mode\": \"markers\", \"name\": \"\", \"orientation\": \"v\", \"showlegend\": false, \"type\": \"scatter\", \"x\": [20, 20, 30, 50, 55, 60, 60, 15, 20, 20, 25, 25, 35, 60, 20, 40, 45, 45, 50, 55, 60, 25, 25, 35, 40, 55, 60, 60, 60, 20, 25, 30, 35, 40, 45, 50, 55, 60, 60, 15, 25, 35, 40, 45, 45, 50, 55, 60, 25, 30, 35, 35, 40, 45, 45, 45, 60, 20, 25, 30, 40, 45, 45, 55, 60], \"xaxis\": \"x\", \"y\": [24, 27, 30, 18, 24, 25, 30, 26, 13, 27, 20, 24, 29, 26, 26, 23, 22, 23, 27, 23, 22, 15, 24, 13, 20, 20, 19, 21, 26, 16, 17, 24, 22, 27, 24, 27, 25, 19, 23, 19, 25, 21, 28, 24, 25, 28, 17, 22, 28, 24, 23, 23, 16, 20, 21, 25, 16, 21, 23, 21, 23, 22, 24, 24, 24], \"yaxis\": \"y\"}],                        {\"legend\": {\"tracegroupgap\": 0}, \"margin\": {\"t\": 60}, \"template\": {\"data\": {\"bar\": [{\"error_x\": {\"color\": \"#2a3f5f\"}, \"error_y\": {\"color\": \"#2a3f5f\"}, \"marker\": {\"line\": {\"color\": \"#E5ECF6\", \"width\": 0.5}}, \"type\": \"bar\"}], \"barpolar\": [{\"marker\": {\"line\": {\"color\": \"#E5ECF6\", \"width\": 0.5}}, \"type\": \"barpolar\"}], \"carpet\": [{\"aaxis\": {\"endlinecolor\": \"#2a3f5f\", \"gridcolor\": \"white\", \"linecolor\": \"white\", \"minorgridcolor\": \"white\", \"startlinecolor\": \"#2a3f5f\"}, \"baxis\": {\"endlinecolor\": \"#2a3f5f\", \"gridcolor\": \"white\", \"linecolor\": \"white\", \"minorgridcolor\": \"white\", \"startlinecolor\": \"#2a3f5f\"}, \"type\": \"carpet\"}], \"choropleth\": [{\"colorbar\": {\"outlinewidth\": 0, \"ticks\": \"\"}, \"type\": \"choropleth\"}], \"contour\": [{\"colorbar\": {\"outlinewidth\": 0, \"ticks\": \"\"}, \"colorscale\": [[0.0, \"#0d0887\"], [0.1111111111111111, \"#46039f\"], [0.2222222222222222, \"#7201a8\"], [0.3333333333333333, \"#9c179e\"], [0.4444444444444444, \"#bd3786\"], [0.5555555555555556, \"#d8576b\"], [0.6666666666666666, \"#ed7953\"], [0.7777777777777778, \"#fb9f3a\"], [0.8888888888888888, \"#fdca26\"], [1.0, \"#f0f921\"]], \"type\": \"contour\"}], \"contourcarpet\": [{\"colorbar\": {\"outlinewidth\": 0, \"ticks\": \"\"}, \"type\": \"contourcarpet\"}], \"heatmap\": [{\"colorbar\": {\"outlinewidth\": 0, \"ticks\": \"\"}, \"colorscale\": [[0.0, \"#0d0887\"], [0.1111111111111111, \"#46039f\"], [0.2222222222222222, \"#7201a8\"], [0.3333333333333333, \"#9c179e\"], [0.4444444444444444, \"#bd3786\"], [0.5555555555555556, \"#d8576b\"], [0.6666666666666666, \"#ed7953\"], [0.7777777777777778, \"#fb9f3a\"], [0.8888888888888888, \"#fdca26\"], [1.0, \"#f0f921\"]], \"type\": \"heatmap\"}], \"heatmapgl\": [{\"colorbar\": {\"outlinewidth\": 0, \"ticks\": \"\"}, \"colorscale\": [[0.0, \"#0d0887\"], [0.1111111111111111, \"#46039f\"], [0.2222222222222222, \"#7201a8\"], [0.3333333333333333, \"#9c179e\"], [0.4444444444444444, \"#bd3786\"], [0.5555555555555556, \"#d8576b\"], [0.6666666666666666, \"#ed7953\"], [0.7777777777777778, \"#fb9f3a\"], [0.8888888888888888, \"#fdca26\"], [1.0, \"#f0f921\"]], \"type\": \"heatmapgl\"}], \"histogram\": [{\"marker\": {\"colorbar\": {\"outlinewidth\": 0, \"ticks\": \"\"}}, \"type\": \"histogram\"}], \"histogram2d\": [{\"colorbar\": {\"outlinewidth\": 0, \"ticks\": \"\"}, \"colorscale\": [[0.0, \"#0d0887\"], [0.1111111111111111, \"#46039f\"], [0.2222222222222222, \"#7201a8\"], [0.3333333333333333, \"#9c179e\"], [0.4444444444444444, \"#bd3786\"], [0.5555555555555556, \"#d8576b\"], [0.6666666666666666, \"#ed7953\"], [0.7777777777777778, \"#fb9f3a\"], [0.8888888888888888, \"#fdca26\"], [1.0, \"#f0f921\"]], \"type\": \"histogram2d\"}], \"histogram2dcontour\": [{\"colorbar\": {\"outlinewidth\": 0, \"ticks\": \"\"}, \"colorscale\": [[0.0, \"#0d0887\"], [0.1111111111111111, \"#46039f\"], [0.2222222222222222, \"#7201a8\"], [0.3333333333333333, \"#9c179e\"], [0.4444444444444444, \"#bd3786\"], [0.5555555555555556, \"#d8576b\"], [0.6666666666666666, \"#ed7953\"], [0.7777777777777778, \"#fb9f3a\"], [0.8888888888888888, \"#fdca26\"], [1.0, \"#f0f921\"]], \"type\": \"histogram2dcontour\"}], \"mesh3d\": [{\"colorbar\": {\"outlinewidth\": 0, \"ticks\": \"\"}, \"type\": \"mesh3d\"}], \"parcoords\": [{\"line\": {\"colorbar\": {\"outlinewidth\": 0, \"ticks\": \"\"}}, \"type\": \"parcoords\"}], \"pie\": [{\"automargin\": true, \"type\": \"pie\"}], \"scatter\": [{\"marker\": {\"colorbar\": {\"outlinewidth\": 0, \"ticks\": \"\"}}, \"type\": \"scatter\"}], \"scatter3d\": [{\"line\": {\"colorbar\": {\"outlinewidth\": 0, \"ticks\": \"\"}}, \"marker\": {\"colorbar\": {\"outlinewidth\": 0, \"ticks\": \"\"}}, \"type\": \"scatter3d\"}], \"scattercarpet\": [{\"marker\": {\"colorbar\": {\"outlinewidth\": 0, \"ticks\": \"\"}}, \"type\": \"scattercarpet\"}], \"scattergeo\": [{\"marker\": {\"colorbar\": {\"outlinewidth\": 0, \"ticks\": \"\"}}, \"type\": \"scattergeo\"}], \"scattergl\": [{\"marker\": {\"colorbar\": {\"outlinewidth\": 0, \"ticks\": \"\"}}, \"type\": \"scattergl\"}], \"scattermapbox\": [{\"marker\": {\"colorbar\": {\"outlinewidth\": 0, \"ticks\": \"\"}}, \"type\": \"scattermapbox\"}], \"scatterpolar\": [{\"marker\": {\"colorbar\": {\"outlinewidth\": 0, \"ticks\": \"\"}}, \"type\": \"scatterpolar\"}], \"scatterpolargl\": [{\"marker\": {\"colorbar\": {\"outlinewidth\": 0, \"ticks\": \"\"}}, \"type\": \"scatterpolargl\"}], \"scatterternary\": [{\"marker\": {\"colorbar\": {\"outlinewidth\": 0, \"ticks\": \"\"}}, \"type\": \"scatterternary\"}], \"surface\": [{\"colorbar\": {\"outlinewidth\": 0, \"ticks\": \"\"}, \"colorscale\": [[0.0, \"#0d0887\"], [0.1111111111111111, \"#46039f\"], [0.2222222222222222, \"#7201a8\"], [0.3333333333333333, \"#9c179e\"], [0.4444444444444444, \"#bd3786\"], [0.5555555555555556, \"#d8576b\"], [0.6666666666666666, \"#ed7953\"], [0.7777777777777778, \"#fb9f3a\"], [0.8888888888888888, \"#fdca26\"], [1.0, \"#f0f921\"]], \"type\": \"surface\"}], \"table\": [{\"cells\": {\"fill\": {\"color\": \"#EBF0F8\"}, \"line\": {\"color\": \"white\"}}, \"header\": {\"fill\": {\"color\": \"#C8D4E3\"}, \"line\": {\"color\": \"white\"}}, \"type\": \"table\"}]}, \"layout\": {\"annotationdefaults\": {\"arrowcolor\": \"#2a3f5f\", \"arrowhead\": 0, \"arrowwidth\": 1}, \"autotypenumbers\": \"strict\", \"coloraxis\": {\"colorbar\": {\"outlinewidth\": 0, \"ticks\": \"\"}}, \"colorscale\": {\"diverging\": [[0, \"#8e0152\"], [0.1, \"#c51b7d\"], [0.2, \"#de77ae\"], [0.3, \"#f1b6da\"], [0.4, \"#fde0ef\"], [0.5, \"#f7f7f7\"], [0.6, \"#e6f5d0\"], [0.7, \"#b8e186\"], [0.8, \"#7fbc41\"], [0.9, \"#4d9221\"], [1, \"#276419\"]], \"sequential\": [[0.0, \"#0d0887\"], [0.1111111111111111, \"#46039f\"], [0.2222222222222222, \"#7201a8\"], [0.3333333333333333, \"#9c179e\"], [0.4444444444444444, \"#bd3786\"], [0.5555555555555556, \"#d8576b\"], [0.6666666666666666, \"#ed7953\"], [0.7777777777777778, \"#fb9f3a\"], [0.8888888888888888, \"#fdca26\"], [1.0, \"#f0f921\"]], \"sequentialminus\": [[0.0, \"#0d0887\"], [0.1111111111111111, \"#46039f\"], [0.2222222222222222, \"#7201a8\"], [0.3333333333333333, \"#9c179e\"], [0.4444444444444444, \"#bd3786\"], [0.5555555555555556, \"#d8576b\"], [0.6666666666666666, \"#ed7953\"], [0.7777777777777778, \"#fb9f3a\"], [0.8888888888888888, \"#fdca26\"], [1.0, \"#f0f921\"]]}, \"colorway\": [\"#636efa\", \"#EF553B\", \"#00cc96\", \"#ab63fa\", \"#FFA15A\", \"#19d3f3\", \"#FF6692\", \"#B6E880\", \"#FF97FF\", \"#FECB52\"], \"font\": {\"color\": \"#2a3f5f\"}, \"geo\": {\"bgcolor\": \"white\", \"lakecolor\": \"white\", \"landcolor\": \"#E5ECF6\", \"showlakes\": true, \"showland\": true, \"subunitcolor\": \"white\"}, \"hoverlabel\": {\"align\": \"left\"}, \"hovermode\": \"closest\", \"mapbox\": {\"style\": \"light\"}, \"paper_bgcolor\": \"white\", \"plot_bgcolor\": \"#E5ECF6\", \"polar\": {\"angularaxis\": {\"gridcolor\": \"white\", \"linecolor\": \"white\", \"ticks\": \"\"}, \"bgcolor\": \"#E5ECF6\", \"radialaxis\": {\"gridcolor\": \"white\", \"linecolor\": \"white\", \"ticks\": \"\"}}, \"scene\": {\"xaxis\": {\"backgroundcolor\": \"#E5ECF6\", \"gridcolor\": \"white\", \"gridwidth\": 2, \"linecolor\": \"white\", \"showbackground\": true, \"ticks\": \"\", \"zerolinecolor\": \"white\"}, \"yaxis\": {\"backgroundcolor\": \"#E5ECF6\", \"gridcolor\": \"white\", \"gridwidth\": 2, \"linecolor\": \"white\", \"showbackground\": true, \"ticks\": \"\", \"zerolinecolor\": \"white\"}, \"zaxis\": {\"backgroundcolor\": \"#E5ECF6\", \"gridcolor\": \"white\", \"gridwidth\": 2, \"linecolor\": \"white\", \"showbackground\": true, \"ticks\": \"\", \"zerolinecolor\": \"white\"}}, \"shapedefaults\": {\"line\": {\"color\": \"#2a3f5f\"}}, \"ternary\": {\"aaxis\": {\"gridcolor\": \"white\", \"linecolor\": \"white\", \"ticks\": \"\"}, \"baxis\": {\"gridcolor\": \"white\", \"linecolor\": \"white\", \"ticks\": \"\"}, \"bgcolor\": \"#E5ECF6\", \"caxis\": {\"gridcolor\": \"white\", \"linecolor\": \"white\", \"ticks\": \"\"}}, \"title\": {\"x\": 0.05}, \"xaxis\": {\"automargin\": true, \"gridcolor\": \"white\", \"linecolor\": \"white\", \"ticks\": \"\", \"title\": {\"standoff\": 15}, \"zerolinecolor\": \"white\", \"zerolinewidth\": 2}, \"yaxis\": {\"automargin\": true, \"gridcolor\": \"white\", \"linecolor\": \"white\", \"ticks\": \"\", \"title\": {\"standoff\": 15}, \"zerolinecolor\": \"white\", \"zerolinewidth\": 2}}}, \"xaxis\": {\"anchor\": \"y\", \"domain\": [0.0, 1.0], \"title\": {\"text\": \"Completion_Time\"}}, \"yaxis\": {\"anchor\": \"x\", \"domain\": [0.0, 1.0], \"title\": {\"text\": \"Student_Score\"}}},                        {\"responsive\": true}                    ).then(function(){\n",
       "                            \n",
       "var gd = document.getElementById('fb4ae10e-e5e4-49e3-b6e2-98a6a7d66b60');\n",
       "var x = new MutationObserver(function (mutations, observer) {{\n",
       "        var display = window.getComputedStyle(gd).display;\n",
       "        if (!display || display === 'none') {{\n",
       "            console.log([gd, 'removed!']);\n",
       "            Plotly.purge(gd);\n",
       "            observer.disconnect();\n",
       "        }}\n",
       "}});\n",
       "\n",
       "// Listen for the removal of the full notebook cells\n",
       "var notebookContainer = gd.closest('#notebook-container');\n",
       "if (notebookContainer) {{\n",
       "    x.observe(notebookContainer, {childList: true});\n",
       "}}\n",
       "\n",
       "// Listen for the clearing of the current output cell\n",
       "var outputEl = gd.closest('.output');\n",
       "if (outputEl) {{\n",
       "    x.observe(outputEl, {childList: true});\n",
       "}}\n",
       "\n",
       "                        })                };                });            </script>        </div>"
      ]
     },
     "metadata": {},
     "output_type": "display_data"
    }
   ],
   "source": [
    "px.scatter(exam_df, x = \"Completion_Time\", y = \"Student_Score\")"
   ]
  },
  {
   "cell_type": "markdown",
   "metadata": {},
   "source": [
    "# Weather API Dataset\n",
    "\n",
    "Load the data "
   ]
  },
  {
   "cell_type": "code",
   "execution_count": 115,
   "metadata": {},
   "outputs": [
    {
     "data": {
      "text/html": [
       "<div>\n",
       "<style scoped>\n",
       "    .dataframe tbody tr th:only-of-type {\n",
       "        vertical-align: middle;\n",
       "    }\n",
       "\n",
       "    .dataframe tbody tr th {\n",
       "        vertical-align: top;\n",
       "    }\n",
       "\n",
       "    .dataframe thead th {\n",
       "        text-align: right;\n",
       "    }\n",
       "</style>\n",
       "<table border=\"1\" class=\"dataframe\">\n",
       "  <thead>\n",
       "    <tr style=\"text-align: right;\">\n",
       "      <th></th>\n",
       "      <th>dt</th>\n",
       "      <th>sunrise</th>\n",
       "      <th>sunset</th>\n",
       "      <th>pressure</th>\n",
       "      <th>humidity</th>\n",
       "      <th>dew_point</th>\n",
       "      <th>wind_speed</th>\n",
       "      <th>wind_deg</th>\n",
       "      <th>weather</th>\n",
       "      <th>clouds</th>\n",
       "      <th>...</th>\n",
       "      <th>temp.day</th>\n",
       "      <th>temp.min</th>\n",
       "      <th>temp.max</th>\n",
       "      <th>temp.night</th>\n",
       "      <th>temp.eve</th>\n",
       "      <th>temp.morn</th>\n",
       "      <th>feels_like.day</th>\n",
       "      <th>feels_like.night</th>\n",
       "      <th>feels_like.eve</th>\n",
       "      <th>feels_like.morn</th>\n",
       "    </tr>\n",
       "  </thead>\n",
       "  <tbody>\n",
       "    <tr>\n",
       "      <th>3</th>\n",
       "      <td>1611421200</td>\n",
       "      <td>1611404870</td>\n",
       "      <td>1611439492</td>\n",
       "      <td>1023</td>\n",
       "      <td>94</td>\n",
       "      <td>13.17</td>\n",
       "      <td>15.32</td>\n",
       "      <td>308</td>\n",
       "      <td>[{'id': 600, 'main': 'Snow', 'description': 'l...</td>\n",
       "      <td>100</td>\n",
       "      <td>...</td>\n",
       "      <td>17.85</td>\n",
       "      <td>16.21</td>\n",
       "      <td>20.91</td>\n",
       "      <td>16.21</td>\n",
       "      <td>17.82</td>\n",
       "      <td>17.94</td>\n",
       "      <td>3.90</td>\n",
       "      <td>5.95</td>\n",
       "      <td>7.09</td>\n",
       "      <td>4.91</td>\n",
       "    </tr>\n",
       "    <tr>\n",
       "      <th>4</th>\n",
       "      <td>1611507600</td>\n",
       "      <td>1611491223</td>\n",
       "      <td>1611525970</td>\n",
       "      <td>1025</td>\n",
       "      <td>91</td>\n",
       "      <td>12.24</td>\n",
       "      <td>6.22</td>\n",
       "      <td>315</td>\n",
       "      <td>[{'id': 803, 'main': 'Clouds', 'description': ...</td>\n",
       "      <td>54</td>\n",
       "      <td>...</td>\n",
       "      <td>19.33</td>\n",
       "      <td>7.16</td>\n",
       "      <td>19.33</td>\n",
       "      <td>12.63</td>\n",
       "      <td>14.34</td>\n",
       "      <td>7.16</td>\n",
       "      <td>10.58</td>\n",
       "      <td>5.43</td>\n",
       "      <td>8.46</td>\n",
       "      <td>0.09</td>\n",
       "    </tr>\n",
       "    <tr>\n",
       "      <th>1</th>\n",
       "      <td>1611248400</td>\n",
       "      <td>1611232160</td>\n",
       "      <td>1611266537</td>\n",
       "      <td>1001</td>\n",
       "      <td>92</td>\n",
       "      <td>28.94</td>\n",
       "      <td>15.61</td>\n",
       "      <td>227</td>\n",
       "      <td>[{'id': 600, 'main': 'Snow', 'description': 'l...</td>\n",
       "      <td>94</td>\n",
       "      <td>...</td>\n",
       "      <td>33.26</td>\n",
       "      <td>19.29</td>\n",
       "      <td>34.34</td>\n",
       "      <td>30.24</td>\n",
       "      <td>32.47</td>\n",
       "      <td>24.21</td>\n",
       "      <td>20.77</td>\n",
       "      <td>19.78</td>\n",
       "      <td>22.39</td>\n",
       "      <td>12.15</td>\n",
       "    </tr>\n",
       "  </tbody>\n",
       "</table>\n",
       "<p>3 rows × 23 columns</p>\n",
       "</div>"
      ],
      "text/plain": [
       "           dt     sunrise      sunset  pressure  humidity  dew_point  \\\n",
       "3  1611421200  1611404870  1611439492      1023        94      13.17   \n",
       "4  1611507600  1611491223  1611525970      1025        91      12.24   \n",
       "1  1611248400  1611232160  1611266537      1001        92      28.94   \n",
       "\n",
       "   wind_speed  wind_deg                                            weather  \\\n",
       "3       15.32       308  [{'id': 600, 'main': 'Snow', 'description': 'l...   \n",
       "4        6.22       315  [{'id': 803, 'main': 'Clouds', 'description': ...   \n",
       "1       15.61       227  [{'id': 600, 'main': 'Snow', 'description': 'l...   \n",
       "\n",
       "   clouds  ...  temp.day  temp.min  temp.max  temp.night  temp.eve  temp.morn  \\\n",
       "3     100  ...     17.85     16.21     20.91       16.21     17.82      17.94   \n",
       "4      54  ...     19.33      7.16     19.33       12.63     14.34       7.16   \n",
       "1      94  ...     33.26     19.29     34.34       30.24     32.47      24.21   \n",
       "\n",
       "   feels_like.day  feels_like.night  feels_like.eve  feels_like.morn  \n",
       "3            3.90              5.95            7.09             4.91  \n",
       "4           10.58              5.43            8.46             0.09  \n",
       "1           20.77             19.78           22.39            12.15  \n",
       "\n",
       "[3 rows x 23 columns]"
      ]
     },
     "metadata": {},
     "output_type": "display_data"
    }
   ],
   "source": [
    "location = 'Syracuse, NY'\n",
    "weather = getWeather(weather_key,location)\n",
    "weather_df = pd.json_normalize(weather['daily'])\n",
    "display(weather_df.sample(3))"
   ]
  },
  {
   "cell_type": "markdown",
   "metadata": {},
   "source": [
    "## Challenge 7\n",
    "\n",
    "Plot a line of daily day temperatures (temp.day) using `matplotlib`"
   ]
  },
  {
   "cell_type": "code",
   "execution_count": 116,
   "metadata": {},
   "outputs": [
    {
     "data": {
      "text/plain": [
       "<AxesSubplot:>"
      ]
     },
     "execution_count": 116,
     "metadata": {},
     "output_type": "execute_result"
    },
    {
     "data": {
      "image/png": "[encoded data removed]",
      "text/plain": [
       "<Figure size 432x288 with 1 Axes>"
      ]
     },
     "metadata": {
      "needs_background": "light"
     },
     "output_type": "display_data"
    }
   ],
   "source": [
    "weather_df.plot.line(y = \"temp.day\")"
   ]
  },
  {
   "cell_type": "markdown",
   "metadata": {},
   "source": [
    "## Challenge 8\n",
    "\n",
    "Plot the same line in `plotly express`"
   ]
  },
  {
   "cell_type": "code",
   "execution_count": 117,
   "metadata": {},
   "outputs": [
    {
     "data": {
      "application/vnd.plotly.v1+json": {
       "config": {
        "plotlyServerURL": "https://plotly.com"
       },
       "data": [
        {
         "hovertemplate": "index=%{x}<br>temp.day=%{y}<extra></extra>",
         "legendgroup": "",
         "line": {
          "color": "#636efa",
          "dash": "solid"
         },
         "mode": "lines",
         "name": "",
         "orientation": "v",
         "showlegend": false,
         "type": "scatter",
         "x": [
          0,
          1,
          2,
          3,
          4,
          5,
          6,
          7
         ],
         "xaxis": "x",
         "y": [
          26.49,
          33.26,
          31.21,
          17.85,
          19.33,
          21.36,
          20.55,
          16.66
         ],
         "yaxis": "y"
        }
       ],
       "layout": {
        "legend": {
         "tracegroupgap": 0
        },
        "margin": {
         "t": 60
        },
        "template": {
         "data": {
          "bar": [
           {
            "error_x": {
             "color": "#2a3f5f"
            },
            "error_y": {
             "color": "#2a3f5f"
            },
            "marker": {
             "line": {
              "color": "#E5ECF6",
              "width": 0.5
             }
            },
            "type": "bar"
           }
          ],
          "barpolar": [
           {
            "marker": {
             "line": {
              "color": "#E5ECF6",
              "width": 0.5
             }
            },
            "type": "barpolar"
           }
          ],
          "carpet": [
           {
            "aaxis": {
             "endlinecolor": "#2a3f5f",
             "gridcolor": "white",
             "linecolor": "white",
             "minorgridcolor": "white",
             "startlinecolor": "#2a3f5f"
            },
            "baxis": {
             "endlinecolor": "#2a3f5f",
             "gridcolor": "white",
             "linecolor": "white",
             "minorgridcolor": "white",
             "startlinecolor": "#2a3f5f"
            },
            "type": "carpet"
           }
          ],
          "choropleth": [
           {
            "colorbar": {
             "outlinewidth": 0,
             "ticks": ""
            },
            "type": "choropleth"
           }
          ],
          "contour": [
           {
            "colorbar": {
             "outlinewidth": 0,
             "ticks": ""
            },
            "colorscale": [
             [
              0,
              "#0d0887"
             ],
             [
              0.1111111111111111,
              "#46039f"
             ],
             [
              0.2222222222222222,
              "#7201a8"
             ],
             [
              0.3333333333333333,
              "#9c179e"
             ],
             [
              0.4444444444444444,
              "#bd3786"
             ],
             [
              0.5555555555555556,
              "#d8576b"
             ],
             [
              0.6666666666666666,
              "#ed7953"
             ],
             [
              0.7777777777777778,
              "#fb9f3a"
             ],
             [
              0.8888888888888888,
              "#fdca26"
             ],
             [
              1,
              "#f0f921"
             ]
            ],
            "type": "contour"
           }
          ],
          "contourcarpet": [
           {
            "colorbar": {
             "outlinewidth": 0,
             "ticks": ""
            },
            "type": "contourcarpet"
           }
          ],
          "heatmap": [
           {
            "colorbar": {
             "outlinewidth": 0,
             "ticks": ""
            },
            "colorscale": [
             [
              0,
              "#0d0887"
             ],
             [
              0.1111111111111111,
              "#46039f"
             ],
             [
              0.2222222222222222,
              "#7201a8"
             ],
             [
              0.3333333333333333,
              "#9c179e"
             ],
             [
              0.4444444444444444,
              "#bd3786"
             ],
             [
              0.5555555555555556,
              "#d8576b"
             ],
             [
              0.6666666666666666,
              "#ed7953"
             ],
             [
              0.7777777777777778,
              "#fb9f3a"
             ],
             [
              0.8888888888888888,
              "#fdca26"
             ],
             [
              1,
              "#f0f921"
             ]
            ],
            "type": "heatmap"
           }
          ],
          "heatmapgl": [
           {
            "colorbar": {
             "outlinewidth": 0,
             "ticks": ""
            },
            "colorscale": [
             [
              0,
              "#0d0887"
             ],
             [
              0.1111111111111111,
              "#46039f"
             ],
             [
              0.2222222222222222,
              "#7201a8"
             ],
             [
              0.3333333333333333,
              "#9c179e"
             ],
             [
              0.4444444444444444,
              "#bd3786"
             ],
             [
              0.5555555555555556,
              "#d8576b"
             ],
             [
              0.6666666666666666,
              "#ed7953"
             ],
             [
              0.7777777777777778,
              "#fb9f3a"
             ],
             [
              0.8888888888888888,
              "#fdca26"
             ],
             [
              1,
              "#f0f921"
             ]
            ],
            "type": "heatmapgl"
           }
          ],
          "histogram": [
           {
            "marker": {
             "colorbar": {
              "outlinewidth": 0,
              "ticks": ""
             }
            },
            "type": "histogram"
           }
          ],
          "histogram2d": [
           {
            "colorbar": {
             "outlinewidth": 0,
             "ticks": ""
            },
            "colorscale": [
             [
              0,
              "#0d0887"
             ],
             [
              0.1111111111111111,
              "#46039f"
             ],
             [
              0.2222222222222222,
              "#7201a8"
             ],
             [
              0.3333333333333333,
              "#9c179e"
             ],
             [
              0.4444444444444444,
              "#bd3786"
             ],
             [
              0.5555555555555556,
              "#d8576b"
             ],
             [
              0.6666666666666666,
              "#ed7953"
             ],
             [
              0.7777777777777778,
              "#fb9f3a"
             ],
             [
              0.8888888888888888,
              "#fdca26"
             ],
             [
              1,
              "#f0f921"
             ]
            ],
            "type": "histogram2d"
           }
          ],
          "histogram2dcontour": [
           {
            "colorbar": {
             "outlinewidth": 0,
             "ticks": ""
            },
            "colorscale": [
             [
              0,
              "#0d0887"
             ],
             [
              0.1111111111111111,
              "#46039f"
             ],
             [
              0.2222222222222222,
              "#7201a8"
             ],
             [
              0.3333333333333333,
              "#9c179e"
             ],
             [
              0.4444444444444444,
              "#bd3786"
             ],
             [
              0.5555555555555556,
              "#d8576b"
             ],
             [
              0.6666666666666666,
              "#ed7953"
             ],
             [
              0.7777777777777778,
              "#fb9f3a"
             ],
             [
              0.8888888888888888,
              "#fdca26"
             ],
             [
              1,
              "#f0f921"
             ]
            ],
            "type": "histogram2dcontour"
           }
          ],
          "mesh3d": [
           {
            "colorbar": {
             "outlinewidth": 0,
             "ticks": ""
            },
            "type": "mesh3d"
           }
          ],
          "parcoords": [
           {
            "line": {
             "colorbar": {
              "outlinewidth": 0,
              "ticks": ""
             }
            },
            "type": "parcoords"
           }
          ],
          "pie": [
           {
            "automargin": true,
            "type": "pie"
           }
          ],
          "scatter": [
           {
            "marker": {
             "colorbar": {
              "outlinewidth": 0,
              "ticks": ""
             }
            },
            "type": "scatter"
           }
          ],
          "scatter3d": [
           {
            "line": {
             "colorbar": {
              "outlinewidth": 0,
              "ticks": ""
             }
            },
            "marker": {
             "colorbar": {
              "outlinewidth": 0,
              "ticks": ""
             }
            },
            "type": "scatter3d"
           }
          ],
          "scattercarpet": [
           {
            "marker": {
             "colorbar": {
              "outlinewidth": 0,
              "ticks": ""
             }
            },
            "type": "scattercarpet"
           }
          ],
          "scattergeo": [
           {
            "marker": {
             "colorbar": {
              "outlinewidth": 0,
              "ticks": ""
             }
            },
            "type": "scattergeo"
           }
          ],
          "scattergl": [
           {
            "marker": {
             "colorbar": {
              "outlinewidth": 0,
              "ticks": ""
             }
            },
            "type": "scattergl"
           }
          ],
          "scattermapbox": [
           {
            "marker": {
             "colorbar": {
              "outlinewidth": 0,
              "ticks": ""
             }
            },
            "type": "scattermapbox"
           }
          ],
          "scatterpolar": [
           {
            "marker": {
             "colorbar": {
              "outlinewidth": 0,
              "ticks": ""
             }
            },
            "type": "scatterpolar"
           }
          ],
          "scatterpolargl": [
           {
            "marker": {
             "colorbar": {
              "outlinewidth": 0,
              "ticks": ""
             }
            },
            "type": "scatterpolargl"
           }
          ],
          "scatterternary": [
           {
            "marker": {
             "colorbar": {
              "outlinewidth": 0,
              "ticks": ""
             }
            },
            "type": "scatterternary"
           }
          ],
          "surface": [
           {
            "colorbar": {
             "outlinewidth": 0,
             "ticks": ""
            },
            "colorscale": [
             [
              0,
              "#0d0887"
             ],
             [
              0.1111111111111111,
              "#46039f"
             ],
             [
              0.2222222222222222,
              "#7201a8"
             ],
             [
              0.3333333333333333,
              "#9c179e"
             ],
             [
              0.4444444444444444,
              "#bd3786"
             ],
             [
              0.5555555555555556,
              "#d8576b"
             ],
             [
              0.6666666666666666,
              "#ed7953"
             ],
             [
              0.7777777777777778,
              "#fb9f3a"
             ],
             [
              0.8888888888888888,
              "#fdca26"
             ],
             [
              1,
              "#f0f921"
             ]
            ],
            "type": "surface"
           }
          ],
          "table": [
           {
            "cells": {
             "fill": {
              "color": "#EBF0F8"
             },
             "line": {
              "color": "white"
             }
            },
            "header": {
             "fill": {
              "color": "#C8D4E3"
             },
             "line": {
              "color": "white"
             }
            },
            "type": "table"
           }
          ]
         },
         "layout": {
          "annotationdefaults": {
           "arrowcolor": "#2a3f5f",
           "arrowhead": 0,
           "arrowwidth": 1
          },
          "autotypenumbers": "strict",
          "coloraxis": {
           "colorbar": {
            "outlinewidth": 0,
            "ticks": ""
           }
          },
          "colorscale": {
           "diverging": [
            [
             0,
             "#8e0152"
            ],
            [
             0.1,
             "#c51b7d"
            ],
            [
             0.2,
             "#de77ae"
            ],
            [
             0.3,
             "#f1b6da"
            ],
            [
             0.4,
             "#fde0ef"
            ],
            [
             0.5,
             "#f7f7f7"
            ],
            [
             0.6,
             "#e6f5d0"
            ],
            [
             0.7,
             "#b8e186"
            ],
            [
             0.8,
             "#7fbc41"
            ],
            [
             0.9,
             "#4d9221"
            ],
            [
             1,
             "#276419"
            ]
           ],
           "sequential": [
            [
             0,
             "#0d0887"
            ],
            [
             0.1111111111111111,
             "#46039f"
            ],
            [
             0.2222222222222222,
             "#7201a8"
            ],
            [
             0.3333333333333333,
             "#9c179e"
            ],
            [
             0.4444444444444444,
             "#bd3786"
            ],
            [
             0.5555555555555556,
             "#d8576b"
            ],
            [
             0.6666666666666666,
             "#ed7953"
            ],
            [
             0.7777777777777778,
             "#fb9f3a"
            ],
            [
             0.8888888888888888,
             "#fdca26"
            ],
            [
             1,
             "#f0f921"
            ]
           ],
           "sequentialminus": [
            [
             0,
             "#0d0887"
            ],
            [
             0.1111111111111111,
             "#46039f"
            ],
            [
             0.2222222222222222,
             "#7201a8"
            ],
            [
             0.3333333333333333,
             "#9c179e"
            ],
            [
             0.4444444444444444,
             "#bd3786"
            ],
            [
             0.5555555555555556,
             "#d8576b"
            ],
            [
             0.6666666666666666,
             "#ed7953"
            ],
            [
             0.7777777777777778,
             "#fb9f3a"
            ],
            [
             0.8888888888888888,
             "#fdca26"
            ],
            [
             1,
             "#f0f921"
            ]
           ]
          },
          "colorway": [
           "#636efa",
           "#EF553B",
           "#00cc96",
           "#ab63fa",
           "#FFA15A",
           "#19d3f3",
           "#FF6692",
           "#B6E880",
           "#FF97FF",
           "#FECB52"
          ],
          "font": {
           "color": "#2a3f5f"
          },
          "geo": {
           "bgcolor": "white",
           "lakecolor": "white",
           "landcolor": "#E5ECF6",
           "showlakes": true,
           "showland": true,
           "subunitcolor": "white"
          },
          "hoverlabel": {
           "align": "left"
          },
          "hovermode": "closest",
          "mapbox": {
           "style": "light"
          },
          "paper_bgcolor": "white",
          "plot_bgcolor": "#E5ECF6",
          "polar": {
           "angularaxis": {
            "gridcolor": "white",
            "linecolor": "white",
            "ticks": ""
           },
           "bgcolor": "#E5ECF6",
           "radialaxis": {
            "gridcolor": "white",
            "linecolor": "white",
            "ticks": ""
           }
          },
          "scene": {
           "xaxis": {
            "backgroundcolor": "#E5ECF6",
            "gridcolor": "white",
            "gridwidth": 2,
            "linecolor": "white",
            "showbackground": true,
            "ticks": "",
            "zerolinecolor": "white"
           },
           "yaxis": {
            "backgroundcolor": "#E5ECF6",
            "gridcolor": "white",
            "gridwidth": 2,
            "linecolor": "white",
            "showbackground": true,
            "ticks": "",
            "zerolinecolor": "white"
           },
           "zaxis": {
            "backgroundcolor": "#E5ECF6",
            "gridcolor": "white",
            "gridwidth": 2,
            "linecolor": "white",
            "showbackground": true,
            "ticks": "",
            "zerolinecolor": "white"
           }
          },
          "shapedefaults": {
           "line": {
            "color": "#2a3f5f"
           }
          },
          "ternary": {
           "aaxis": {
            "gridcolor": "white",
            "linecolor": "white",
            "ticks": ""
           },
           "baxis": {
            "gridcolor": "white",
            "linecolor": "white",
            "ticks": ""
           },
           "bgcolor": "#E5ECF6",
           "caxis": {
            "gridcolor": "white",
            "linecolor": "white",
            "ticks": ""
           }
          },
          "title": {
           "x": 0.05
          },
          "xaxis": {
           "automargin": true,
           "gridcolor": "white",
           "linecolor": "white",
           "ticks": "",
           "title": {
            "standoff": 15
           },
           "zerolinecolor": "white",
           "zerolinewidth": 2
          },
          "yaxis": {
           "automargin": true,
           "gridcolor": "white",
           "linecolor": "white",
           "ticks": "",
           "title": {
            "standoff": 15
           },
           "zerolinecolor": "white",
           "zerolinewidth": 2
          }
         }
        },
        "xaxis": {
         "anchor": "y",
         "domain": [
          0,
          1
         ],
         "title": {
          "text": "index"
         }
        },
        "yaxis": {
         "anchor": "x",
         "domain": [
          0,
          1
         ],
         "title": {
          "text": "temp.day"
         }
        }
       }
      },
      "text/html": [
       "<div>                            <div id=\"f6879f9c-f844-4255-9ba6-c1a2ac0a356d\" class=\"plotly-graph-div\" style=\"height:525px; width:100%;\"></div>            <script type=\"text/javascript\">                require([\"plotly\"], function(Plotly) {                    window.PLOTLYENV=window.PLOTLYENV || {};                                    if (document.getElementById(\"f6879f9c-f844-4255-9ba6-c1a2ac0a356d\")) {                    Plotly.newPlot(                        \"f6879f9c-f844-4255-9ba6-c1a2ac0a356d\",                        [{\"hovertemplate\": \"index=%{x}<br>temp.day=%{y}<extra></extra>\", \"legendgroup\": \"\", \"line\": {\"color\": \"#636efa\", \"dash\": \"solid\"}, \"mode\": \"lines\", \"name\": \"\", \"orientation\": \"v\", \"showlegend\": false, \"type\": \"scatter\", \"x\": [0, 1, 2, 3, 4, 5, 6, 7], \"xaxis\": \"x\", \"y\": [26.49, 33.26, 31.21, 17.85, 19.33, 21.36, 20.55, 16.66], \"yaxis\": \"y\"}],                        {\"legend\": {\"tracegroupgap\": 0}, \"margin\": {\"t\": 60}, \"template\": {\"data\": {\"bar\": [{\"error_x\": {\"color\": \"#2a3f5f\"}, \"error_y\": {\"color\": \"#2a3f5f\"}, \"marker\": {\"line\": {\"color\": \"#E5ECF6\", \"width\": 0.5}}, \"type\": \"bar\"}], \"barpolar\": [{\"marker\": {\"line\": {\"color\": \"#E5ECF6\", \"width\": 0.5}}, \"type\": \"barpolar\"}], \"carpet\": [{\"aaxis\": {\"endlinecolor\": \"#2a3f5f\", \"gridcolor\": \"white\", \"linecolor\": \"white\", \"minorgridcolor\": \"white\", \"startlinecolor\": \"#2a3f5f\"}, \"baxis\": {\"endlinecolor\": \"#2a3f5f\", \"gridcolor\": \"white\", \"linecolor\": \"white\", \"minorgridcolor\": \"white\", \"startlinecolor\": \"#2a3f5f\"}, \"type\": \"carpet\"}], \"choropleth\": [{\"colorbar\": {\"outlinewidth\": 0, \"ticks\": \"\"}, \"type\": \"choropleth\"}], \"contour\": [{\"colorbar\": {\"outlinewidth\": 0, \"ticks\": \"\"}, \"colorscale\": [[0.0, \"#0d0887\"], [0.1111111111111111, \"#46039f\"], [0.2222222222222222, \"#7201a8\"], [0.3333333333333333, \"#9c179e\"], [0.4444444444444444, \"#bd3786\"], [0.5555555555555556, \"#d8576b\"], [0.6666666666666666, \"#ed7953\"], [0.7777777777777778, \"#fb9f3a\"], [0.8888888888888888, \"#fdca26\"], [1.0, \"#f0f921\"]], \"type\": \"contour\"}], \"contourcarpet\": [{\"colorbar\": {\"outlinewidth\": 0, \"ticks\": \"\"}, \"type\": \"contourcarpet\"}], \"heatmap\": [{\"colorbar\": {\"outlinewidth\": 0, \"ticks\": \"\"}, \"colorscale\": [[0.0, \"#0d0887\"], [0.1111111111111111, \"#46039f\"], [0.2222222222222222, \"#7201a8\"], [0.3333333333333333, \"#9c179e\"], [0.4444444444444444, \"#bd3786\"], [0.5555555555555556, \"#d8576b\"], [0.6666666666666666, \"#ed7953\"], [0.7777777777777778, \"#fb9f3a\"], [0.8888888888888888, \"#fdca26\"], [1.0, \"#f0f921\"]], \"type\": \"heatmap\"}], \"heatmapgl\": [{\"colorbar\": {\"outlinewidth\": 0, \"ticks\": \"\"}, \"colorscale\": [[0.0, \"#0d0887\"], [0.1111111111111111, \"#46039f\"], [0.2222222222222222, \"#7201a8\"], [0.3333333333333333, \"#9c179e\"], [0.4444444444444444, \"#bd3786\"], [0.5555555555555556, \"#d8576b\"], [0.6666666666666666, \"#ed7953\"], [0.7777777777777778, \"#fb9f3a\"], [0.8888888888888888, \"#fdca26\"], [1.0, \"#f0f921\"]], \"type\": \"heatmapgl\"}], \"histogram\": [{\"marker\": {\"colorbar\": {\"outlinewidth\": 0, \"ticks\": \"\"}}, \"type\": \"histogram\"}], \"histogram2d\": [{\"colorbar\": {\"outlinewidth\": 0, \"ticks\": \"\"}, \"colorscale\": [[0.0, \"#0d0887\"], [0.1111111111111111, \"#46039f\"], [0.2222222222222222, \"#7201a8\"], [0.3333333333333333, \"#9c179e\"], [0.4444444444444444, \"#bd3786\"], [0.5555555555555556, \"#d8576b\"], [0.6666666666666666, \"#ed7953\"], [0.7777777777777778, \"#fb9f3a\"], [0.8888888888888888, \"#fdca26\"], [1.0, \"#f0f921\"]], \"type\": \"histogram2d\"}], \"histogram2dcontour\": [{\"colorbar\": {\"outlinewidth\": 0, \"ticks\": \"\"}, \"colorscale\": [[0.0, \"#0d0887\"], [0.1111111111111111, \"#46039f\"], [0.2222222222222222, \"#7201a8\"], [0.3333333333333333, \"#9c179e\"], [0.4444444444444444, \"#bd3786\"], [0.5555555555555556, \"#d8576b\"], [0.6666666666666666, \"#ed7953\"], [0.7777777777777778, \"#fb9f3a\"], [0.8888888888888888, \"#fdca26\"], [1.0, \"#f0f921\"]], \"type\": \"histogram2dcontour\"}], \"mesh3d\": [{\"colorbar\": {\"outlinewidth\": 0, \"ticks\": \"\"}, \"type\": \"mesh3d\"}], \"parcoords\": [{\"line\": {\"colorbar\": {\"outlinewidth\": 0, \"ticks\": \"\"}}, \"type\": \"parcoords\"}], \"pie\": [{\"automargin\": true, \"type\": \"pie\"}], \"scatter\": [{\"marker\": {\"colorbar\": {\"outlinewidth\": 0, \"ticks\": \"\"}}, \"type\": \"scatter\"}], \"scatter3d\": [{\"line\": {\"colorbar\": {\"outlinewidth\": 0, \"ticks\": \"\"}}, \"marker\": {\"colorbar\": {\"outlinewidth\": 0, \"ticks\": \"\"}}, \"type\": \"scatter3d\"}], \"scattercarpet\": [{\"marker\": {\"colorbar\": {\"outlinewidth\": 0, \"ticks\": \"\"}}, \"type\": \"scattercarpet\"}], \"scattergeo\": [{\"marker\": {\"colorbar\": {\"outlinewidth\": 0, \"ticks\": \"\"}}, \"type\": \"scattergeo\"}], \"scattergl\": [{\"marker\": {\"colorbar\": {\"outlinewidth\": 0, \"ticks\": \"\"}}, \"type\": \"scattergl\"}], \"scattermapbox\": [{\"marker\": {\"colorbar\": {\"outlinewidth\": 0, \"ticks\": \"\"}}, \"type\": \"scattermapbox\"}], \"scatterpolar\": [{\"marker\": {\"colorbar\": {\"outlinewidth\": 0, \"ticks\": \"\"}}, \"type\": \"scatterpolar\"}], \"scatterpolargl\": [{\"marker\": {\"colorbar\": {\"outlinewidth\": 0, \"ticks\": \"\"}}, \"type\": \"scatterpolargl\"}], \"scatterternary\": [{\"marker\": {\"colorbar\": {\"outlinewidth\": 0, \"ticks\": \"\"}}, \"type\": \"scatterternary\"}], \"surface\": [{\"colorbar\": {\"outlinewidth\": 0, \"ticks\": \"\"}, \"colorscale\": [[0.0, \"#0d0887\"], [0.1111111111111111, \"#46039f\"], [0.2222222222222222, \"#7201a8\"], [0.3333333333333333, \"#9c179e\"], [0.4444444444444444, \"#bd3786\"], [0.5555555555555556, \"#d8576b\"], [0.6666666666666666, \"#ed7953\"], [0.7777777777777778, \"#fb9f3a\"], [0.8888888888888888, \"#fdca26\"], [1.0, \"#f0f921\"]], \"type\": \"surface\"}], \"table\": [{\"cells\": {\"fill\": {\"color\": \"#EBF0F8\"}, \"line\": {\"color\": \"white\"}}, \"header\": {\"fill\": {\"color\": \"#C8D4E3\"}, \"line\": {\"color\": \"white\"}}, \"type\": \"table\"}]}, \"layout\": {\"annotationdefaults\": {\"arrowcolor\": \"#2a3f5f\", \"arrowhead\": 0, \"arrowwidth\": 1}, \"autotypenumbers\": \"strict\", \"coloraxis\": {\"colorbar\": {\"outlinewidth\": 0, \"ticks\": \"\"}}, \"colorscale\": {\"diverging\": [[0, \"#8e0152\"], [0.1, \"#c51b7d\"], [0.2, \"#de77ae\"], [0.3, \"#f1b6da\"], [0.4, \"#fde0ef\"], [0.5, \"#f7f7f7\"], [0.6, \"#e6f5d0\"], [0.7, \"#b8e186\"], [0.8, \"#7fbc41\"], [0.9, \"#4d9221\"], [1, \"#276419\"]], \"sequential\": [[0.0, \"#0d0887\"], [0.1111111111111111, \"#46039f\"], [0.2222222222222222, \"#7201a8\"], [0.3333333333333333, \"#9c179e\"], [0.4444444444444444, \"#bd3786\"], [0.5555555555555556, \"#d8576b\"], [0.6666666666666666, \"#ed7953\"], [0.7777777777777778, \"#fb9f3a\"], [0.8888888888888888, \"#fdca26\"], [1.0, \"#f0f921\"]], \"sequentialminus\": [[0.0, \"#0d0887\"], [0.1111111111111111, \"#46039f\"], [0.2222222222222222, \"#7201a8\"], [0.3333333333333333, \"#9c179e\"], [0.4444444444444444, \"#bd3786\"], [0.5555555555555556, \"#d8576b\"], [0.6666666666666666, \"#ed7953\"], [0.7777777777777778, \"#fb9f3a\"], [0.8888888888888888, \"#fdca26\"], [1.0, \"#f0f921\"]]}, \"colorway\": [\"#636efa\", \"#EF553B\", \"#00cc96\", \"#ab63fa\", \"#FFA15A\", \"#19d3f3\", \"#FF6692\", \"#B6E880\", \"#FF97FF\", \"#FECB52\"], \"font\": {\"color\": \"#2a3f5f\"}, \"geo\": {\"bgcolor\": \"white\", \"lakecolor\": \"white\", \"landcolor\": \"#E5ECF6\", \"showlakes\": true, \"showland\": true, \"subunitcolor\": \"white\"}, \"hoverlabel\": {\"align\": \"left\"}, \"hovermode\": \"closest\", \"mapbox\": {\"style\": \"light\"}, \"paper_bgcolor\": \"white\", \"plot_bgcolor\": \"#E5ECF6\", \"polar\": {\"angularaxis\": {\"gridcolor\": \"white\", \"linecolor\": \"white\", \"ticks\": \"\"}, \"bgcolor\": \"#E5ECF6\", \"radialaxis\": {\"gridcolor\": \"white\", \"linecolor\": \"white\", \"ticks\": \"\"}}, \"scene\": {\"xaxis\": {\"backgroundcolor\": \"#E5ECF6\", \"gridcolor\": \"white\", \"gridwidth\": 2, \"linecolor\": \"white\", \"showbackground\": true, \"ticks\": \"\", \"zerolinecolor\": \"white\"}, \"yaxis\": {\"backgroundcolor\": \"#E5ECF6\", \"gridcolor\": \"white\", \"gridwidth\": 2, \"linecolor\": \"white\", \"showbackground\": true, \"ticks\": \"\", \"zerolinecolor\": \"white\"}, \"zaxis\": {\"backgroundcolor\": \"#E5ECF6\", \"gridcolor\": \"white\", \"gridwidth\": 2, \"linecolor\": \"white\", \"showbackground\": true, \"ticks\": \"\", \"zerolinecolor\": \"white\"}}, \"shapedefaults\": {\"line\": {\"color\": \"#2a3f5f\"}}, \"ternary\": {\"aaxis\": {\"gridcolor\": \"white\", \"linecolor\": \"white\", \"ticks\": \"\"}, \"baxis\": {\"gridcolor\": \"white\", \"linecolor\": \"white\", \"ticks\": \"\"}, \"bgcolor\": \"#E5ECF6\", \"caxis\": {\"gridcolor\": \"white\", \"linecolor\": \"white\", \"ticks\": \"\"}}, \"title\": {\"x\": 0.05}, \"xaxis\": {\"automargin\": true, \"gridcolor\": \"white\", \"linecolor\": \"white\", \"ticks\": \"\", \"title\": {\"standoff\": 15}, \"zerolinecolor\": \"white\", \"zerolinewidth\": 2}, \"yaxis\": {\"automargin\": true, \"gridcolor\": \"white\", \"linecolor\": \"white\", \"ticks\": \"\", \"title\": {\"standoff\": 15}, \"zerolinecolor\": \"white\", \"zerolinewidth\": 2}}}, \"xaxis\": {\"anchor\": \"y\", \"domain\": [0.0, 1.0], \"title\": {\"text\": \"index\"}}, \"yaxis\": {\"anchor\": \"x\", \"domain\": [0.0, 1.0], \"title\": {\"text\": \"temp.day\"}}},                        {\"responsive\": true}                    ).then(function(){\n",
       "                            \n",
       "var gd = document.getElementById('f6879f9c-f844-4255-9ba6-c1a2ac0a356d');\n",
       "var x = new MutationObserver(function (mutations, observer) {{\n",
       "        var display = window.getComputedStyle(gd).display;\n",
       "        if (!display || display === 'none') {{\n",
       "            console.log([gd, 'removed!']);\n",
       "            Plotly.purge(gd);\n",
       "            observer.disconnect();\n",
       "        }}\n",
       "}});\n",
       "\n",
       "// Listen for the removal of the full notebook cells\n",
       "var notebookContainer = gd.closest('#notebook-container');\n",
       "if (notebookContainer) {{\n",
       "    x.observe(notebookContainer, {childList: true});\n",
       "}}\n",
       "\n",
       "// Listen for the clearing of the current output cell\n",
       "var outputEl = gd.closest('.output');\n",
       "if (outputEl) {{\n",
       "    x.observe(outputEl, {childList: true});\n",
       "}}\n",
       "\n",
       "                        })                };                });            </script>        </div>"
      ]
     },
     "metadata": {},
     "output_type": "display_data"
    }
   ],
   "source": [
    "px.line(weather_df, y=\"temp.day\")"
   ]
  },
  {
   "cell_type": "markdown",
   "metadata": {},
   "source": [
    "## Challenge 9 \n",
    "\n",
    "Let's plot multiple series\n",
    "\n",
    "Using `matplotlib` plot two series `temp.min` and `temp.max` (both as lines) on the same graph.\n",
    "\n",
    "HINT: \n",
    "\n",
    " - This is not a one-liner. you must call in the `plt.plot()` method manually, then `display(plt)`\n",
    " - Consult the WMC1 example."
   ]
  },
  {
   "cell_type": "code",
   "execution_count": 118,
   "metadata": {},
   "outputs": [
    {
     "data": {
      "text/plain": [
       "<module 'matplotlib.pyplot' from '/opt/conda/lib/python3.8/site-packages/matplotlib/pyplot.py'>"
      ]
     },
     "metadata": {},
     "output_type": "display_data"
    },
    {
     "data": {
      "image/png": "[encoded data removed]",
      "text/plain": [
       "<Figure size 432x288 with 1 Axes>"
      ]
     },
     "metadata": {
      "needs_background": "light"
     },
     "output_type": "display_data"
    }
   ],
   "source": [
    "plt.plot(weather_df.index, weather_df['temp.min'])\n",
    "plt.plot(weather_df.index, weather_df['temp.max'])\n",
    "display(plt)"
   ]
  },
  {
   "cell_type": "markdown",
   "metadata": {},
   "source": [
    "## Challenge 10\n",
    "\n",
    "Plot the same thing using PoP (plain old plotly), similar to the lab example.\n",
    "\n",
    "HINT: \n",
    "\n",
    " - This is not a one-liner. you must make a figure and `add_trace()` for each series. \n",
    " - Consult the lab. "
   ]
  },
  {
   "cell_type": "code",
   "execution_count": 119,
   "metadata": {},
   "outputs": [
    {
     "name": "stderr",
     "output_type": "stream",
     "text": [
      "/opt/conda/lib/python3.8/site-packages/plotly/graph_objs/_deprecations.py:378: DeprecationWarning:\n",
      "\n",
      "plotly.graph_objs.Line is deprecated.\n",
      "Please replace it with one of the following more specific types\n",
      "  - plotly.graph_objs.scatter.Line\n",
      "  - plotly.graph_objs.layout.shape.Line\n",
      "  - etc.\n",
      "\n",
      "\n"
     ]
    },
    {
     "data": {
      "application/vnd.plotly.v1+json": {
       "config": {
        "plotlyServerURL": "https://plotly.com"
       },
       "data": [
        {
         "name": "Lo Temperature",
         "type": "scatter",
         "x": [
          0,
          1,
          2,
          3,
          4,
          5,
          6,
          7
         ],
         "y": [
          17.89,
          19.29,
          21.33,
          16.21,
          7.16,
          13.62,
          9.9,
          9.19
         ]
        },
        {
         "name": "Hi Temperature",
         "type": "scatter",
         "x": [
          0,
          1,
          2,
          3,
          4,
          5,
          6,
          7
         ],
         "y": [
          27.46,
          34.34,
          31.32,
          20.91,
          19.33,
          21.36,
          20.55,
          17.06
         ]
        }
       ],
       "layout": {
        "template": {
         "data": {
          "bar": [
           {
            "error_x": {
             "color": "#2a3f5f"
            },
            "error_y": {
             "color": "#2a3f5f"
            },
            "marker": {
             "line": {
              "color": "#E5ECF6",
              "width": 0.5
             }
            },
            "type": "bar"
           }
          ],
          "barpolar": [
           {
            "marker": {
             "line": {
              "color": "#E5ECF6",
              "width": 0.5
             }
            },
            "type": "barpolar"
           }
          ],
          "carpet": [
           {
            "aaxis": {
             "endlinecolor": "#2a3f5f",
             "gridcolor": "white",
             "linecolor": "white",
             "minorgridcolor": "white",
             "startlinecolor": "#2a3f5f"
            },
            "baxis": {
             "endlinecolor": "#2a3f5f",
             "gridcolor": "white",
             "linecolor": "white",
             "minorgridcolor": "white",
             "startlinecolor": "#2a3f5f"
            },
            "type": "carpet"
           }
          ],
          "choropleth": [
           {
            "colorbar": {
             "outlinewidth": 0,
             "ticks": ""
            },
            "type": "choropleth"
           }
          ],
          "contour": [
           {
            "colorbar": {
             "outlinewidth": 0,
             "ticks": ""
            },
            "colorscale": [
             [
              0,
              "#0d0887"
             ],
             [
              0.1111111111111111,
              "#46039f"
             ],
             [
              0.2222222222222222,
              "#7201a8"
             ],
             [
              0.3333333333333333,
              "#9c179e"
             ],
             [
              0.4444444444444444,
              "#bd3786"
             ],
             [
              0.5555555555555556,
              "#d8576b"
             ],
             [
              0.6666666666666666,
              "#ed7953"
             ],
             [
              0.7777777777777778,
              "#fb9f3a"
             ],
             [
              0.8888888888888888,
              "#fdca26"
             ],
             [
              1,
              "#f0f921"
             ]
            ],
            "type": "contour"
           }
          ],
          "contourcarpet": [
           {
            "colorbar": {
             "outlinewidth": 0,
             "ticks": ""
            },
            "type": "contourcarpet"
           }
          ],
          "heatmap": [
           {
            "colorbar": {
             "outlinewidth": 0,
             "ticks": ""
            },
            "colorscale": [
             [
              0,
              "#0d0887"
             ],
             [
              0.1111111111111111,
              "#46039f"
             ],
             [
              0.2222222222222222,
              "#7201a8"
             ],
             [
              0.3333333333333333,
              "#9c179e"
             ],
             [
              0.4444444444444444,
              "#bd3786"
             ],
             [
              0.5555555555555556,
              "#d8576b"
             ],
             [
              0.6666666666666666,
              "#ed7953"
             ],
             [
              0.7777777777777778,
              "#fb9f3a"
             ],
             [
              0.8888888888888888,
              "#fdca26"
             ],
             [
              1,
              "#f0f921"
             ]
            ],
            "type": "heatmap"
           }
          ],
          "heatmapgl": [
           {
            "colorbar": {
             "outlinewidth": 0,
             "ticks": ""
            },
            "colorscale": [
             [
              0,
              "#0d0887"
             ],
             [
              0.1111111111111111,
              "#46039f"
             ],
             [
              0.2222222222222222,
              "#7201a8"
             ],
             [
              0.3333333333333333,
              "#9c179e"
             ],
             [
              0.4444444444444444,
              "#bd3786"
             ],
             [
              0.5555555555555556,
              "#d8576b"
             ],
             [
              0.6666666666666666,
              "#ed7953"
             ],
             [
              0.7777777777777778,
              "#fb9f3a"
             ],
             [
              0.8888888888888888,
              "#fdca26"
             ],
             [
              1,
              "#f0f921"
             ]
            ],
            "type": "heatmapgl"
           }
          ],
          "histogram": [
           {
            "marker": {
             "colorbar": {
              "outlinewidth": 0,
              "ticks": ""
             }
            },
            "type": "histogram"
           }
          ],
          "histogram2d": [
           {
            "colorbar": {
             "outlinewidth": 0,
             "ticks": ""
            },
            "colorscale": [
             [
              0,
              "#0d0887"
             ],
             [
              0.1111111111111111,
              "#46039f"
             ],
             [
              0.2222222222222222,
              "#7201a8"
             ],
             [
              0.3333333333333333,
              "#9c179e"
             ],
             [
              0.4444444444444444,
              "#bd3786"
             ],
             [
              0.5555555555555556,
              "#d8576b"
             ],
             [
              0.6666666666666666,
              "#ed7953"
             ],
             [
              0.7777777777777778,
              "#fb9f3a"
             ],
             [
              0.8888888888888888,
              "#fdca26"
             ],
             [
              1,
              "#f0f921"
             ]
            ],
            "type": "histogram2d"
           }
          ],
          "histogram2dcontour": [
           {
            "colorbar": {
             "outlinewidth": 0,
             "ticks": ""
            },
            "colorscale": [
             [
              0,
              "#0d0887"
             ],
             [
              0.1111111111111111,
              "#46039f"
             ],
             [
              0.2222222222222222,
              "#7201a8"
             ],
             [
              0.3333333333333333,
              "#9c179e"
             ],
             [
              0.4444444444444444,
              "#bd3786"
             ],
             [
              0.5555555555555556,
              "#d8576b"
             ],
             [
              0.6666666666666666,
              "#ed7953"
             ],
             [
              0.7777777777777778,
              "#fb9f3a"
             ],
             [
              0.8888888888888888,
              "#fdca26"
             ],
             [
              1,
              "#f0f921"
             ]
            ],
            "type": "histogram2dcontour"
           }
          ],
          "mesh3d": [
           {
            "colorbar": {
             "outlinewidth": 0,
             "ticks": ""
            },
            "type": "mesh3d"
           }
          ],
          "parcoords": [
           {
            "line": {
             "colorbar": {
              "outlinewidth": 0,
              "ticks": ""
             }
            },
            "type": "parcoords"
           }
          ],
          "pie": [
           {
            "automargin": true,
            "type": "pie"
           }
          ],
          "scatter": [
           {
            "marker": {
             "colorbar": {
              "outlinewidth": 0,
              "ticks": ""
             }
            },
            "type": "scatter"
           }
          ],
          "scatter3d": [
           {
            "line": {
             "colorbar": {
              "outlinewidth": 0,
              "ticks": ""
             }
            },
            "marker": {
             "colorbar": {
              "outlinewidth": 0,
              "ticks": ""
             }
            },
            "type": "scatter3d"
           }
          ],
          "scattercarpet": [
           {
            "marker": {
             "colorbar": {
              "outlinewidth": 0,
              "ticks": ""
             }
            },
            "type": "scattercarpet"
           }
          ],
          "scattergeo": [
           {
            "marker": {
             "colorbar": {
              "outlinewidth": 0,
              "ticks": ""
             }
            },
            "type": "scattergeo"
           }
          ],
          "scattergl": [
           {
            "marker": {
             "colorbar": {
              "outlinewidth": 0,
              "ticks": ""
             }
            },
            "type": "scattergl"
           }
          ],
          "scattermapbox": [
           {
            "marker": {
             "colorbar": {
              "outlinewidth": 0,
              "ticks": ""
             }
            },
            "type": "scattermapbox"
           }
          ],
          "scatterpolar": [
           {
            "marker": {
             "colorbar": {
              "outlinewidth": 0,
              "ticks": ""
             }
            },
            "type": "scatterpolar"
           }
          ],
          "scatterpolargl": [
           {
            "marker": {
             "colorbar": {
              "outlinewidth": 0,
              "ticks": ""
             }
            },
            "type": "scatterpolargl"
           }
          ],
          "scatterternary": [
           {
            "marker": {
             "colorbar": {
              "outlinewidth": 0,
              "ticks": ""
             }
            },
            "type": "scatterternary"
           }
          ],
          "surface": [
           {
            "colorbar": {
             "outlinewidth": 0,
             "ticks": ""
            },
            "colorscale": [
             [
              0,
              "#0d0887"
             ],
             [
              0.1111111111111111,
              "#46039f"
             ],
             [
              0.2222222222222222,
              "#7201a8"
             ],
             [
              0.3333333333333333,
              "#9c179e"
             ],
             [
              0.4444444444444444,
              "#bd3786"
             ],
             [
              0.5555555555555556,
              "#d8576b"
             ],
             [
              0.6666666666666666,
              "#ed7953"
             ],
             [
              0.7777777777777778,
              "#fb9f3a"
             ],
             [
              0.8888888888888888,
              "#fdca26"
             ],
             [
              1,
              "#f0f921"
             ]
            ],
            "type": "surface"
           }
          ],
          "table": [
           {
            "cells": {
             "fill": {
              "color": "#EBF0F8"
             },
             "line": {
              "color": "white"
             }
            },
            "header": {
             "fill": {
              "color": "#C8D4E3"
             },
             "line": {
              "color": "white"
             }
            },
            "type": "table"
           }
          ]
         },
         "layout": {
          "annotationdefaults": {
           "arrowcolor": "#2a3f5f",
           "arrowhead": 0,
           "arrowwidth": 1
          },
          "autotypenumbers": "strict",
          "coloraxis": {
           "colorbar": {
            "outlinewidth": 0,
            "ticks": ""
           }
          },
          "colorscale": {
           "diverging": [
            [
             0,
             "#8e0152"
            ],
            [
             0.1,
             "#c51b7d"
            ],
            [
             0.2,
             "#de77ae"
            ],
            [
             0.3,
             "#f1b6da"
            ],
            [
             0.4,
             "#fde0ef"
            ],
            [
             0.5,
             "#f7f7f7"
            ],
            [
             0.6,
             "#e6f5d0"
            ],
            [
             0.7,
             "#b8e186"
            ],
            [
             0.8,
             "#7fbc41"
            ],
            [
             0.9,
             "#4d9221"
            ],
            [
             1,
             "#276419"
            ]
           ],
           "sequential": [
            [
             0,
             "#0d0887"
            ],
            [
             0.1111111111111111,
             "#46039f"
            ],
            [
             0.2222222222222222,
             "#7201a8"
            ],
            [
             0.3333333333333333,
             "#9c179e"
            ],
            [
             0.4444444444444444,
             "#bd3786"
            ],
            [
             0.5555555555555556,
             "#d8576b"
            ],
            [
             0.6666666666666666,
             "#ed7953"
            ],
            [
             0.7777777777777778,
             "#fb9f3a"
            ],
            [
             0.8888888888888888,
             "#fdca26"
            ],
            [
             1,
             "#f0f921"
            ]
           ],
           "sequentialminus": [
            [
             0,
             "#0d0887"
            ],
            [
             0.1111111111111111,
             "#46039f"
            ],
            [
             0.2222222222222222,
             "#7201a8"
            ],
            [
             0.3333333333333333,
             "#9c179e"
            ],
            [
             0.4444444444444444,
             "#bd3786"
            ],
            [
             0.5555555555555556,
             "#d8576b"
            ],
            [
             0.6666666666666666,
             "#ed7953"
            ],
            [
             0.7777777777777778,
             "#fb9f3a"
            ],
            [
             0.8888888888888888,
             "#fdca26"
            ],
            [
             1,
             "#f0f921"
            ]
           ]
          },
          "colorway": [
           "#636efa",
           "#EF553B",
           "#00cc96",
           "#ab63fa",
           "#FFA15A",
           "#19d3f3",
           "#FF6692",
           "#B6E880",
           "#FF97FF",
           "#FECB52"
          ],
          "font": {
           "color": "#2a3f5f"
          },
          "geo": {
           "bgcolor": "white",
           "lakecolor": "white",
           "landcolor": "#E5ECF6",
           "showlakes": true,
           "showland": true,
           "subunitcolor": "white"
          },
          "hoverlabel": {
           "align": "left"
          },
          "hovermode": "closest",
          "mapbox": {
           "style": "light"
          },
          "paper_bgcolor": "white",
          "plot_bgcolor": "#E5ECF6",
          "polar": {
           "angularaxis": {
            "gridcolor": "white",
            "linecolor": "white",
            "ticks": ""
           },
           "bgcolor": "#E5ECF6",
           "radialaxis": {
            "gridcolor": "white",
            "linecolor": "white",
            "ticks": ""
           }
          },
          "scene": {
           "xaxis": {
            "backgroundcolor": "#E5ECF6",
            "gridcolor": "white",
            "gridwidth": 2,
            "linecolor": "white",
            "showbackground": true,
            "ticks": "",
            "zerolinecolor": "white"
           },
           "yaxis": {
            "backgroundcolor": "#E5ECF6",
            "gridcolor": "white",
            "gridwidth": 2,
            "linecolor": "white",
            "showbackground": true,
            "ticks": "",
            "zerolinecolor": "white"
           },
           "zaxis": {
            "backgroundcolor": "#E5ECF6",
            "gridcolor": "white",
            "gridwidth": 2,
            "linecolor": "white",
            "showbackground": true,
            "ticks": "",
            "zerolinecolor": "white"
           }
          },
          "shapedefaults": {
           "line": {
            "color": "#2a3f5f"
           }
          },
          "ternary": {
           "aaxis": {
            "gridcolor": "white",
            "linecolor": "white",
            "ticks": ""
           },
           "baxis": {
            "gridcolor": "white",
            "linecolor": "white",
            "ticks": ""
           },
           "bgcolor": "#E5ECF6",
           "caxis": {
            "gridcolor": "white",
            "linecolor": "white",
            "ticks": ""
           }
          },
          "title": {
           "x": 0.05
          },
          "xaxis": {
           "automargin": true,
           "gridcolor": "white",
           "linecolor": "white",
           "ticks": "",
           "title": {
            "standoff": 15
           },
           "zerolinecolor": "white",
           "zerolinewidth": 2
          },
          "yaxis": {
           "automargin": true,
           "gridcolor": "white",
           "linecolor": "white",
           "ticks": "",
           "title": {
            "standoff": 15
           },
           "zerolinecolor": "white",
           "zerolinewidth": 2
          }
         }
        }
       }
      },
      "text/html": [
       "<div>                            <div id=\"660a0ad5-619e-46bd-aad5-75ba8929558e\" class=\"plotly-graph-div\" style=\"height:525px; width:100%;\"></div>            <script type=\"text/javascript\">                require([\"plotly\"], function(Plotly) {                    window.PLOTLYENV=window.PLOTLYENV || {};                                    if (document.getElementById(\"660a0ad5-619e-46bd-aad5-75ba8929558e\")) {                    Plotly.newPlot(                        \"660a0ad5-619e-46bd-aad5-75ba8929558e\",                        [{\"name\": \"Lo Temperature\", \"type\": \"scatter\", \"x\": [0, 1, 2, 3, 4, 5, 6, 7], \"y\": [17.89, 19.29, 21.33, 16.21, 7.16, 13.62, 9.9, 9.19]}, {\"name\": \"Hi Temperature\", \"type\": \"scatter\", \"x\": [0, 1, 2, 3, 4, 5, 6, 7], \"y\": [27.46, 34.34, 31.32, 20.91, 19.33, 21.36, 20.55, 17.06]}],                        {\"template\": {\"data\": {\"bar\": [{\"error_x\": {\"color\": \"#2a3f5f\"}, \"error_y\": {\"color\": \"#2a3f5f\"}, \"marker\": {\"line\": {\"color\": \"#E5ECF6\", \"width\": 0.5}}, \"type\": \"bar\"}], \"barpolar\": [{\"marker\": {\"line\": {\"color\": \"#E5ECF6\", \"width\": 0.5}}, \"type\": \"barpolar\"}], \"carpet\": [{\"aaxis\": {\"endlinecolor\": \"#2a3f5f\", \"gridcolor\": \"white\", \"linecolor\": \"white\", \"minorgridcolor\": \"white\", \"startlinecolor\": \"#2a3f5f\"}, \"baxis\": {\"endlinecolor\": \"#2a3f5f\", \"gridcolor\": \"white\", \"linecolor\": \"white\", \"minorgridcolor\": \"white\", \"startlinecolor\": \"#2a3f5f\"}, \"type\": \"carpet\"}], \"choropleth\": [{\"colorbar\": {\"outlinewidth\": 0, \"ticks\": \"\"}, \"type\": \"choropleth\"}], \"contour\": [{\"colorbar\": {\"outlinewidth\": 0, \"ticks\": \"\"}, \"colorscale\": [[0.0, \"#0d0887\"], [0.1111111111111111, \"#46039f\"], [0.2222222222222222, \"#7201a8\"], [0.3333333333333333, \"#9c179e\"], [0.4444444444444444, \"#bd3786\"], [0.5555555555555556, \"#d8576b\"], [0.6666666666666666, \"#ed7953\"], [0.7777777777777778, \"#fb9f3a\"], [0.8888888888888888, \"#fdca26\"], [1.0, \"#f0f921\"]], \"type\": \"contour\"}], \"contourcarpet\": [{\"colorbar\": {\"outlinewidth\": 0, \"ticks\": \"\"}, \"type\": \"contourcarpet\"}], \"heatmap\": [{\"colorbar\": {\"outlinewidth\": 0, \"ticks\": \"\"}, \"colorscale\": [[0.0, \"#0d0887\"], [0.1111111111111111, \"#46039f\"], [0.2222222222222222, \"#7201a8\"], [0.3333333333333333, \"#9c179e\"], [0.4444444444444444, \"#bd3786\"], [0.5555555555555556, \"#d8576b\"], [0.6666666666666666, \"#ed7953\"], [0.7777777777777778, \"#fb9f3a\"], [0.8888888888888888, \"#fdca26\"], [1.0, \"#f0f921\"]], \"type\": \"heatmap\"}], \"heatmapgl\": [{\"colorbar\": {\"outlinewidth\": 0, \"ticks\": \"\"}, \"colorscale\": [[0.0, \"#0d0887\"], [0.1111111111111111, \"#46039f\"], [0.2222222222222222, \"#7201a8\"], [0.3333333333333333, \"#9c179e\"], [0.4444444444444444, \"#bd3786\"], [0.5555555555555556, \"#d8576b\"], [0.6666666666666666, \"#ed7953\"], [0.7777777777777778, \"#fb9f3a\"], [0.8888888888888888, \"#fdca26\"], [1.0, \"#f0f921\"]], \"type\": \"heatmapgl\"}], \"histogram\": [{\"marker\": {\"colorbar\": {\"outlinewidth\": 0, \"ticks\": \"\"}}, \"type\": \"histogram\"}], \"histogram2d\": [{\"colorbar\": {\"outlinewidth\": 0, \"ticks\": \"\"}, \"colorscale\": [[0.0, \"#0d0887\"], [0.1111111111111111, \"#46039f\"], [0.2222222222222222, \"#7201a8\"], [0.3333333333333333, \"#9c179e\"], [0.4444444444444444, \"#bd3786\"], [0.5555555555555556, \"#d8576b\"], [0.6666666666666666, \"#ed7953\"], [0.7777777777777778, \"#fb9f3a\"], [0.8888888888888888, \"#fdca26\"], [1.0, \"#f0f921\"]], \"type\": \"histogram2d\"}], \"histogram2dcontour\": [{\"colorbar\": {\"outlinewidth\": 0, \"ticks\": \"\"}, \"colorscale\": [[0.0, \"#0d0887\"], [0.1111111111111111, \"#46039f\"], [0.2222222222222222, \"#7201a8\"], [0.3333333333333333, \"#9c179e\"], [0.4444444444444444, \"#bd3786\"], [0.5555555555555556, \"#d8576b\"], [0.6666666666666666, \"#ed7953\"], [0.7777777777777778, \"#fb9f3a\"], [0.8888888888888888, \"#fdca26\"], [1.0, \"#f0f921\"]], \"type\": \"histogram2dcontour\"}], \"mesh3d\": [{\"colorbar\": {\"outlinewidth\": 0, \"ticks\": \"\"}, \"type\": \"mesh3d\"}], \"parcoords\": [{\"line\": {\"colorbar\": {\"outlinewidth\": 0, \"ticks\": \"\"}}, \"type\": \"parcoords\"}], \"pie\": [{\"automargin\": true, \"type\": \"pie\"}], \"scatter\": [{\"marker\": {\"colorbar\": {\"outlinewidth\": 0, \"ticks\": \"\"}}, \"type\": \"scatter\"}], \"scatter3d\": [{\"line\": {\"colorbar\": {\"outlinewidth\": 0, \"ticks\": \"\"}}, \"marker\": {\"colorbar\": {\"outlinewidth\": 0, \"ticks\": \"\"}}, \"type\": \"scatter3d\"}], \"scattercarpet\": [{\"marker\": {\"colorbar\": {\"outlinewidth\": 0, \"ticks\": \"\"}}, \"type\": \"scattercarpet\"}], \"scattergeo\": [{\"marker\": {\"colorbar\": {\"outlinewidth\": 0, \"ticks\": \"\"}}, \"type\": \"scattergeo\"}], \"scattergl\": [{\"marker\": {\"colorbar\": {\"outlinewidth\": 0, \"ticks\": \"\"}}, \"type\": \"scattergl\"}], \"scattermapbox\": [{\"marker\": {\"colorbar\": {\"outlinewidth\": 0, \"ticks\": \"\"}}, \"type\": \"scattermapbox\"}], \"scatterpolar\": [{\"marker\": {\"colorbar\": {\"outlinewidth\": 0, \"ticks\": \"\"}}, \"type\": \"scatterpolar\"}], \"scatterpolargl\": [{\"marker\": {\"colorbar\": {\"outlinewidth\": 0, \"ticks\": \"\"}}, \"type\": \"scatterpolargl\"}], \"scatterternary\": [{\"marker\": {\"colorbar\": {\"outlinewidth\": 0, \"ticks\": \"\"}}, \"type\": \"scatterternary\"}], \"surface\": [{\"colorbar\": {\"outlinewidth\": 0, \"ticks\": \"\"}, \"colorscale\": [[0.0, \"#0d0887\"], [0.1111111111111111, \"#46039f\"], [0.2222222222222222, \"#7201a8\"], [0.3333333333333333, \"#9c179e\"], [0.4444444444444444, \"#bd3786\"], [0.5555555555555556, \"#d8576b\"], [0.6666666666666666, \"#ed7953\"], [0.7777777777777778, \"#fb9f3a\"], [0.8888888888888888, \"#fdca26\"], [1.0, \"#f0f921\"]], \"type\": \"surface\"}], \"table\": [{\"cells\": {\"fill\": {\"color\": \"#EBF0F8\"}, \"line\": {\"color\": \"white\"}}, \"header\": {\"fill\": {\"color\": \"#C8D4E3\"}, \"line\": {\"color\": \"white\"}}, \"type\": \"table\"}]}, \"layout\": {\"annotationdefaults\": {\"arrowcolor\": \"#2a3f5f\", \"arrowhead\": 0, \"arrowwidth\": 1}, \"autotypenumbers\": \"strict\", \"coloraxis\": {\"colorbar\": {\"outlinewidth\": 0, \"ticks\": \"\"}}, \"colorscale\": {\"diverging\": [[0, \"#8e0152\"], [0.1, \"#c51b7d\"], [0.2, \"#de77ae\"], [0.3, \"#f1b6da\"], [0.4, \"#fde0ef\"], [0.5, \"#f7f7f7\"], [0.6, \"#e6f5d0\"], [0.7, \"#b8e186\"], [0.8, \"#7fbc41\"], [0.9, \"#4d9221\"], [1, \"#276419\"]], \"sequential\": [[0.0, \"#0d0887\"], [0.1111111111111111, \"#46039f\"], [0.2222222222222222, \"#7201a8\"], [0.3333333333333333, \"#9c179e\"], [0.4444444444444444, \"#bd3786\"], [0.5555555555555556, \"#d8576b\"], [0.6666666666666666, \"#ed7953\"], [0.7777777777777778, \"#fb9f3a\"], [0.8888888888888888, \"#fdca26\"], [1.0, \"#f0f921\"]], \"sequentialminus\": [[0.0, \"#0d0887\"], [0.1111111111111111, \"#46039f\"], [0.2222222222222222, \"#7201a8\"], [0.3333333333333333, \"#9c179e\"], [0.4444444444444444, \"#bd3786\"], [0.5555555555555556, \"#d8576b\"], [0.6666666666666666, \"#ed7953\"], [0.7777777777777778, \"#fb9f3a\"], [0.8888888888888888, \"#fdca26\"], [1.0, \"#f0f921\"]]}, \"colorway\": [\"#636efa\", \"#EF553B\", \"#00cc96\", \"#ab63fa\", \"#FFA15A\", \"#19d3f3\", \"#FF6692\", \"#B6E880\", \"#FF97FF\", \"#FECB52\"], \"font\": {\"color\": \"#2a3f5f\"}, \"geo\": {\"bgcolor\": \"white\", \"lakecolor\": \"white\", \"landcolor\": \"#E5ECF6\", \"showlakes\": true, \"showland\": true, \"subunitcolor\": \"white\"}, \"hoverlabel\": {\"align\": \"left\"}, \"hovermode\": \"closest\", \"mapbox\": {\"style\": \"light\"}, \"paper_bgcolor\": \"white\", \"plot_bgcolor\": \"#E5ECF6\", \"polar\": {\"angularaxis\": {\"gridcolor\": \"white\", \"linecolor\": \"white\", \"ticks\": \"\"}, \"bgcolor\": \"#E5ECF6\", \"radialaxis\": {\"gridcolor\": \"white\", \"linecolor\": \"white\", \"ticks\": \"\"}}, \"scene\": {\"xaxis\": {\"backgroundcolor\": \"#E5ECF6\", \"gridcolor\": \"white\", \"gridwidth\": 2, \"linecolor\": \"white\", \"showbackground\": true, \"ticks\": \"\", \"zerolinecolor\": \"white\"}, \"yaxis\": {\"backgroundcolor\": \"#E5ECF6\", \"gridcolor\": \"white\", \"gridwidth\": 2, \"linecolor\": \"white\", \"showbackground\": true, \"ticks\": \"\", \"zerolinecolor\": \"white\"}, \"zaxis\": {\"backgroundcolor\": \"#E5ECF6\", \"gridcolor\": \"white\", \"gridwidth\": 2, \"linecolor\": \"white\", \"showbackground\": true, \"ticks\": \"\", \"zerolinecolor\": \"white\"}}, \"shapedefaults\": {\"line\": {\"color\": \"#2a3f5f\"}}, \"ternary\": {\"aaxis\": {\"gridcolor\": \"white\", \"linecolor\": \"white\", \"ticks\": \"\"}, \"baxis\": {\"gridcolor\": \"white\", \"linecolor\": \"white\", \"ticks\": \"\"}, \"bgcolor\": \"#E5ECF6\", \"caxis\": {\"gridcolor\": \"white\", \"linecolor\": \"white\", \"ticks\": \"\"}}, \"title\": {\"x\": 0.05}, \"xaxis\": {\"automargin\": true, \"gridcolor\": \"white\", \"linecolor\": \"white\", \"ticks\": \"\", \"title\": {\"standoff\": 15}, \"zerolinecolor\": \"white\", \"zerolinewidth\": 2}, \"yaxis\": {\"automargin\": true, \"gridcolor\": \"white\", \"linecolor\": \"white\", \"ticks\": \"\", \"title\": {\"standoff\": 15}, \"zerolinecolor\": \"white\", \"zerolinewidth\": 2}}}},                        {\"responsive\": true}                    ).then(function(){\n",
       "                            \n",
       "var gd = document.getElementById('660a0ad5-619e-46bd-aad5-75ba8929558e');\n",
       "var x = new MutationObserver(function (mutations, observer) {{\n",
       "        var display = window.getComputedStyle(gd).display;\n",
       "        if (!display || display === 'none') {{\n",
       "            console.log([gd, 'removed!']);\n",
       "            Plotly.purge(gd);\n",
       "            observer.disconnect();\n",
       "        }}\n",
       "}});\n",
       "\n",
       "// Listen for the removal of the full notebook cells\n",
       "var notebookContainer = gd.closest('#notebook-container');\n",
       "if (notebookContainer) {{\n",
       "    x.observe(notebookContainer, {childList: true});\n",
       "}}\n",
       "\n",
       "// Listen for the clearing of the current output cell\n",
       "var outputEl = gd.closest('.output');\n",
       "if (outputEl) {{\n",
       "    x.observe(outputEl, {childList: true});\n",
       "}}\n",
       "\n",
       "                        })                };                });            </script>        </div>"
      ]
     },
     "metadata": {},
     "output_type": "display_data"
    },
    {
     "data": {
      "text/plain": [
       "None"
      ]
     },
     "metadata": {},
     "output_type": "display_data"
    }
   ],
   "source": [
    "figure = go.Figure()\n",
    "figure.add_trace(go.Line(x = weather_df.index, y = weather_df['temp.min'], name=\"Lo Temperature\"))\n",
    "figure.add_trace(go.Line(x = weather_df.index, y = weather_df['temp.max'], name=\"Hi Temperature\"))\n",
    "display(figure.show())"
   ]
  },
  {
   "cell_type": "markdown",
   "metadata": {},
   "source": [
    "## Challenge 12\n",
    "\n",
    "Create a `folium` map at the geographic center of NY State and place a pin there. The pin should day \"This is the center\"\n",
    "\n",
    "\n",
    "HINT: \n",
    "\n",
    " - Get the center here: https://en.wikipedia.org/wiki/List_of_geographic_centers_of_the_United_States\n",
    " - Use `folium.Marker` to make the pin, then add to map\n",
    " "
   ]
  },
  {
   "cell_type": "code",
   "execution_count": 120,
   "metadata": {},
   "outputs": [
    {
     "data": {
      "text/html": [
       "<div style=\"width:100%;\"><div style=\"position:relative;width:100%;height:0;padding-bottom:60%;\"><span style=\"color:#565656\">Make this Notebook Trusted to load map: File -> Trust Notebook</span><iframe src=\"about:blank\" style=\"position:absolute;width:100%;height:100%;left:0;top:0;border:none !important;\" data-html=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 onload=\"this.contentDocument.open();this.contentDocument.write(atob(this.getAttribute('data-html')));this.contentDocument.close();\" allowfullscreen webkitallowfullscreen mozallowfullscreen></iframe></div></div>"
      ],
      "text/plain": [
       "<folium.folium.Map at 0x7fdfc984f5b0>"
      ]
     },
     "metadata": {},
     "output_type": "display_data"
    }
   ],
   "source": [
    "center = (42.9538,-75.5268)\n",
    "map = folium.Map(location=center,zoom_start=7)\n",
    "marker = folium.Marker(location=center, popup=\"This is the center\")\n",
    "map.add_child(marker)\n",
    "display(map)"
   ]
  },
  {
   "cell_type": "markdown",
   "metadata": {},
   "source": [
    "# Cities of New York Dataset\n",
    "\n",
    "Get it with this code"
   ]
  },
  {
   "cell_type": "code",
   "execution_count": 142,
   "metadata": {},
   "outputs": [
    {
     "data": {
      "text/html": [
       "<div>\n",
       "<style scoped>\n",
       "    .dataframe tbody tr th:only-of-type {\n",
       "        vertical-align: middle;\n",
       "    }\n",
       "\n",
       "    .dataframe tbody tr th {\n",
       "        vertical-align: top;\n",
       "    }\n",
       "\n",
       "    .dataframe thead th {\n",
       "        text-align: right;\n",
       "    }\n",
       "</style>\n",
       "<table border=\"1\" class=\"dataframe\">\n",
       "  <thead>\n",
       "    <tr style=\"text-align: right;\">\n",
       "      <th></th>\n",
       "      <th>location</th>\n",
       "      <th>lat</th>\n",
       "      <th>lng</th>\n",
       "    </tr>\n",
       "  </thead>\n",
       "  <tbody>\n",
       "    <tr>\n",
       "      <th>34</th>\n",
       "      <td>Niagara Falls city</td>\n",
       "      <td>43.09</td>\n",
       "      <td>-79.01</td>\n",
       "    </tr>\n",
       "    <tr>\n",
       "      <th>12</th>\n",
       "      <td>Elmira city</td>\n",
       "      <td>42.09</td>\n",
       "      <td>-76.81</td>\n",
       "    </tr>\n",
       "    <tr>\n",
       "      <th>15</th>\n",
       "      <td>Glen Cove city</td>\n",
       "      <td>40.89</td>\n",
       "      <td>-73.64</td>\n",
       "    </tr>\n",
       "    <tr>\n",
       "      <th>48</th>\n",
       "      <td>Rome city</td>\n",
       "      <td>43.23</td>\n",
       "      <td>-75.49</td>\n",
       "    </tr>\n",
       "    <tr>\n",
       "      <th>10</th>\n",
       "      <td>Cortland city</td>\n",
       "      <td>42.60</td>\n",
       "      <td>-76.18</td>\n",
       "    </tr>\n",
       "  </tbody>\n",
       "</table>\n",
       "</div>"
      ],
      "text/plain": [
       "              location    lat     lng\n",
       "34  Niagara Falls city  43.09  -79.01\n",
       "12         Elmira city  42.09  -76.81\n",
       "15      Glen Cove city  40.89  -73.64\n",
       "48           Rome city  43.23  -75.49\n",
       "10       Cortland city  42.60  -76.18"
      ]
     },
     "execution_count": 142,
     "metadata": {},
     "output_type": "execute_result"
    }
   ],
   "source": [
    "cities_df = pd.read_csv('https://raw.githubusercontent.com/mafudge/datasets/master/ist256/13-visualization/ny-cities.csv')\n",
    "cities_df.sample(5)"
   ]
  },
  {
   "cell_type": "markdown",
   "metadata": {},
   "source": [
    "## Challenge 13\n",
    "\n",
    "Create a `folium` map at the geographic center of NY State and place a pin there. put a red pin on the map for each city in the `cities_df` dataset.\n",
    "\n",
    "\n",
    "HINT: \n",
    "\n",
    " - Loop over each row in the data frame.\n",
    " - create the  `folium.Marker` then add to map\n",
    " "
   ]
  },
  {
   "cell_type": "code",
   "execution_count": 145,
   "metadata": {},
   "outputs": [
    {
     "data": {
      "text/html": [
       "<div style=\"width:100%;\"><div style=\"position:relative;width:100%;height:0;padding-bottom:60%;\"><span style=\"color:#565656\">Make this Notebook Trusted to load map: File -> Trust Notebook</span><iframe src=\"about:blank\" style=\"position:absolute;width:100%;height:100%;left:0;top:0;border:none !important;\" data-html=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 onload=\"this.contentDocument.open();this.contentDocument.write(atob(this.getAttribute('data-html')));this.contentDocument.close();\" allowfullscreen webkitallowfullscreen mozallowfullscreen></iframe></div></div>"
      ],
      "text/plain": [
       "<folium.folium.Map at 0x7fdfc8bae7c0>"
      ]
     },
     "metadata": {},
     "output_type": "display_data"
    }
   ],
   "source": [
    "center = (42.9538,-75.5268)\n",
    "map = folium.Map(location=center,zoom_start=7)\n",
    "marker = folium.Marker(location=center, popup=\"This is the center\")\n",
    "map.add_child(marker)\n",
    "for r in cities_df.dropna().to_records():\n",
    "    marker = folium.Marker(location=(r['lat'],r['lng']), popup=r['location'], icon = folium.Icon(color = \"red\"))\n",
    "    map.add_child(marker)\n",
    "display(map)"
   ]
  },
  {
   "cell_type": "code",
   "execution_count": null,
   "metadata": {},
   "outputs": [],
   "source": [
    "# run this code to turn in your work!\n",
    "from coursetools.submission import Submission\n",
    "Submission().submit_now()"
   ]
  }
 ],
 "metadata": {
  "anaconda-cloud": {},
  "kernelspec": {
   "display_name": "Python 3",
   "language": "python",
   "name": "python3"
  },
  "language_info": {
   "codemirror_mode": {
    "name": "ipython",
    "version": 3
   },
   "file_extension": ".py",
   "mimetype": "text/x-python",
   "name": "python",
   "nbconvert_exporter": "python",
   "pygments_lexer": "ipython3",
   "version": "3.8.6"
  },
  "toc": {
   "base_numbering": 1,
   "nav_menu": {},
   "number_sections": false,
   "sideBar": false,
   "skip_h1_title": false,
   "title_cell": "Table of Contents",
   "title_sidebar": "Contents",
   "toc_cell": false,
   "toc_position": {},
   "toc_section_display": false,
   "toc_window_display": false
  }
 },
 "nbformat": 4,
 "nbformat_minor": 1
}
