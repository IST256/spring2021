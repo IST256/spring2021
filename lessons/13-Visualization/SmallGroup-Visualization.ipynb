{
 "cells": [
  {
   "cell_type": "markdown",
   "metadata": {},
   "source": [
    "## Now You Code In Class: Tricks of The Pandas Masters\n",
    "\n",
    "We will try something a bit different in the Activity - A series of Data Visualization coding challenges!\n",
    "\n",
    "For this Now You Code, you will need:\n",
    "\n",
    "    - OpenWeatherMap API key https://openweathermap.org/api (From previous HW)\n",
    "    - Plotly Credentials  https://developers.zomato.com/api (From Lab) \n",
    "    \n",
    "\n",
    "\n",
    "Plotting challenges\n",
    "\n",
    "    - exam scores used study guide as pie / bar\n",
    "    - exam scores grade as bar then as histogram\n",
    "    - exam scores scatter time to complete vs grade\n",
    "    - timeseries openweather daily  /multiple series\n",
    "    - map of UFO sightings (pins) / circles (based on count)\n",
    "    \n",
    "    \n",
    "    \n"
   ]
  },
  {
   "cell_type": "markdown",
   "metadata": {},
   "source": [
    "## Challenge 1\n",
    "\n",
    "1. figure out how to call the zomato api by getting a list of categories. store the output in the variable `data`\n",
    "\n",
    "https://developers.zomato.com/documentation#!/common/categories\n",
    "\n",
    "HINT: The `user-key` must be passed in the header.\n"
   ]
  },
  {
   "cell_type": "code",
   "execution_count": null,
   "metadata": {
    "scrolled": false
   },
   "outputs": [],
   "source": [
    "import folium\n",
    "import requests\n",
    "from IPython.display import display\n",
    "\n",
    "zomato_key = 'putYourKeyHere'\n",
    "city_id = 988   #city_id of Syracuse, New York')  \n",
    "\n",
    "   \n",
    "\n",
    "def search_area(zomato_key, city_id, keywords):\n",
    "    '''\n",
    "        returns a list of restaurants in the city_id matching keywords\n",
    "        return on success: {'status' : 'ok', 'message' : 'ok', 'restaurants' : restaurants }\n",
    "        return on failure: {'status' : 'error', 'message' : 'Reason for failure.', 'restaurants' : None }\n",
    "    '''\n",
    "    # TODO\n",
    "    \n",
    "    \n",
    "\n"
   ]
  }
 ],
 "metadata": {
  "anaconda-cloud": {},
  "kernelspec": {
   "display_name": "Python 3",
   "language": "python",
   "name": "python3"
  },
  "language_info": {
   "codemirror_mode": {
    "name": "ipython",
    "version": 3
   },
   "file_extension": ".py",
   "mimetype": "text/x-python",
   "name": "python",
   "nbconvert_exporter": "python",
   "pygments_lexer": "ipython3",
   "version": "3.8.6"
  },
  "toc": {
   "base_numbering": 1,
   "nav_menu": {},
   "number_sections": false,
   "sideBar": false,
   "skip_h1_title": false,
   "title_cell": "Table of Contents",
   "title_sidebar": "Contents",
   "toc_cell": false,
   "toc_position": {},
   "toc_section_display": false,
   "toc_window_display": false
  }
 },
 "nbformat": 4,
 "nbformat_minor": 1
}
