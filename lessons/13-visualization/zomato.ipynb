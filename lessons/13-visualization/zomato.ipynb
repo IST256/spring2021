{
 "cells": [
  {
   "cell_type": "markdown",
   "metadata": {},
   "source": [
    "# Zomato Functions\n",
    "\n",
    "From previous NYC0, functions written to be used as a module\n"
   ]
  },
  {
   "cell_type": "code",
   "execution_count": 1,
   "metadata": {},
   "outputs": [],
   "source": [
    "import requests\n",
    "\n",
    "def get_city_id(zomato_key, search):\n",
    "    headers = { 'user-key' : zomato_key }\n",
    "    params = {'q' : search }\n",
    "    response = requests.get('https://developers.zomato.com/api/v2.1/cities', headers=headers, params=params)\n",
    "    data = response.json()\n",
    "    locations = data.get('location_suggestions',None)\n",
    "    city_id = locations[0]['id'] # Assume the first one is the most accurate\n",
    "    return city_id \n",
    "\n",
    "\n",
    "def get_restaurants(zomato_key, city_id):\n",
    "    headers = { 'user-key' : zomato_key }\n",
    "    params = { 'entity_type' : 'city', 'entity_id' : city_id }\n",
    "    response = requests.get('https://developers.zomato.com/api/v2.1/search', headers=headers, params=params)\n",
    "    data = response.json()\n",
    "    restaurants = data.get('restaurants')\n",
    "    return restaurants\n",
    "\n",
    "    \n",
    "def get_restaurant_details(zomato_key, rest_id):\n",
    "    headers = { 'user-key' : zomato_key }\n",
    "    params = {'res_id' : rest_id }\n",
    "    response = requests.get('https://developers.zomato.com/api/v2.1/restaurant', headers=headers, params=params)\n",
    "    details = response.json()\n",
    "    return details\n",
    "\n",
    "def example(zomato_key):\n",
    "    search = input(\"Enter a City: \")\n",
    "    cid = get_city_id(zomato_key,search)\n",
    "    restaurants= get_restaurants(zomato_key, cid)\n",
    "    for r in restaurants:\n",
    "        print(f\"{r['restaurant']['id']} {r['restaurant']['name']}: {r['restaurant']['cuisines']}\")\n",
    "\n",
    "    rid = input(\"Enter Restaurant ID to see details: \")\n",
    "    details = get_restaurant_details(zomato_key,rid)\n",
    "    print(details['name'])\n",
    "    print(f\"Address: {details['location']['address']}\")\n",
    "    print(f\"Cuisines: {details ['cuisines']}\")\n",
    "    print(f\"Hours: {details['timings']}\")\n",
    "    print(f\"Phone: {details['phone_numbers']}\")\n"
   ]
  },
  {
   "cell_type": "code",
   "execution_count": null,
   "metadata": {},
   "outputs": [],
   "source": []
  }
 ],
 "metadata": {
  "kernelspec": {
   "display_name": "Python 3",
   "language": "python",
   "name": "python3"
  },
  "language_info": {
   "codemirror_mode": {
    "name": "ipython",
    "version": 3
   },
   "file_extension": ".py",
   "mimetype": "text/x-python",
   "name": "python",
   "nbconvert_exporter": "python",
   "pygments_lexer": "ipython3",
   "version": "3.7.6"
  }
 },
 "nbformat": 4,
 "nbformat_minor": 4
}
